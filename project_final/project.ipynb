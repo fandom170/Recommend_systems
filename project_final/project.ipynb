{
 "cells": [
  {
   "cell_type": "markdown",
   "id": "special-marshall",
   "metadata": {},
   "source": [
    "**Imports**"
   ]
  },
  {
   "cell_type": "code",
   "execution_count": null,
   "id": "developmental-specific",
   "metadata": {},
   "outputs": [],
   "source": [
    "import pandas as pd\n",
    "import numpy as np\n",
    "import matplotlib.pyplot as plt\n",
    "%matplotlib inline"
   ]
  },
  {
   "cell_type": "code",
   "execution_count": null,
   "id": "color-curtis",
   "metadata": {},
   "outputs": [],
   "source": [
    "from scipy.sparse import csr_matrix"
   ]
  },
  {
   "cell_type": "code",
   "execution_count": null,
   "id": "academic-tampa",
   "metadata": {},
   "outputs": [],
   "source": [
    "from implicit import als"
   ]
  },
  {
   "cell_type": "code",
   "execution_count": null,
   "id": "identified-extraction",
   "metadata": {},
   "outputs": [],
   "source": [
    "from src.metrics import precision_at_k, recall_at_k\n",
    "from src.utils import prefilter_items\n",
    "from src.recommenders import MainRecommender"
   ]
  },
  {
   "cell_type": "code",
   "execution_count": null,
   "id": "oriented-integral",
   "metadata": {
    "scrolled": true
   },
   "outputs": [],
   "source": [
    "from src.recommenders_alt import alt_recommender"
   ]
  },
  {
   "cell_type": "code",
   "execution_count": null,
   "id": "ruled-insert",
   "metadata": {},
   "outputs": [],
   "source": [
    "%load_ext autoreload"
   ]
  },
  {
   "cell_type": "code",
   "execution_count": null,
   "id": "general-cabinet",
   "metadata": {},
   "outputs": [],
   "source": [
    "%autoreload"
   ]
  },
  {
   "cell_type": "code",
   "execution_count": null,
   "id": "multiple-ratio",
   "metadata": {},
   "outputs": [],
   "source": []
  },
  {
   "cell_type": "code",
   "execution_count": null,
   "id": "amended-roulette",
   "metadata": {},
   "outputs": [],
   "source": []
  },
  {
   "cell_type": "markdown",
   "id": "acknowledged-oriental",
   "metadata": {},
   "source": [
    "**Reading of data**"
   ]
  },
  {
   "cell_type": "code",
   "execution_count": null,
   "id": "lasting-poison",
   "metadata": {},
   "outputs": [],
   "source": [
    "data = pd.read_csv('retail_train.csv')\n",
    "data_test = pd.read_csv('retail_test.csv')\n",
    "item_features = pd.read_csv('product.csv')\n",
    "user_features = pd.read_csv('hh_demographic.csv')"
   ]
  },
  {
   "cell_type": "markdown",
   "id": "scheduled-sheet",
   "metadata": {},
   "source": [
    "**Precessing of train data**"
   ]
  },
  {
   "cell_type": "code",
   "execution_count": null,
   "id": "cordless-month",
   "metadata": {
    "scrolled": true
   },
   "outputs": [],
   "source": [
    "# column processing\n",
    "item_features.columns = [col.lower() for col in item_features.columns]\n",
    "user_features.columns = [col.lower() for col in user_features.columns]\n",
    "\n",
    "item_features.rename(columns={'product_id': 'item_id'}, inplace=True)\n",
    "user_features.rename(columns={'household_key': 'user_id'}, inplace=True)\n",
    "\n",
    "\n",
    "# Важна схема обучения и валидации!\n",
    "# -- давние покупки -- | -- 6 недель -- | -- 3 недель -- \n",
    "# подобрать размер 2-ого датасета (6 недель) --> learning curve (зависимость метрики recall@k от размера датасета)\n",
    "val_lvl_1_size_weeks = 6\n",
    "val_lvl_2_size_weeks = 3\n",
    "\n",
    "data_train_lvl_1 = data[data['week_no'] < data['week_no'].max() - (val_lvl_1_size_weeks + val_lvl_2_size_weeks)]\n",
    "data_val_lvl_1 = data[(data['week_no'] >= data['week_no'].max() - (val_lvl_1_size_weeks + val_lvl_2_size_weeks)) &\n",
    "                      (data['week_no'] < data['week_no'].max() - (val_lvl_2_size_weeks))]\n",
    "\n",
    "data_train_lvl_2 = data_val_lvl_1.copy()  # Для наглядности. Далее мы добавим изменения, и они будут отличаться\n",
    "data_val_lvl_2 = data[data['week_no'] >= data['week_no'].max() - val_lvl_2_size_weeks]\n",
    "\n",
    "data_train_lvl_1.head(2)"
   ]
  },
  {
   "cell_type": "code",
   "execution_count": null,
   "id": "moving-rover",
   "metadata": {
    "scrolled": true
   },
   "outputs": [],
   "source": [
    "data_train_lvl_1.shape"
   ]
  },
  {
   "cell_type": "code",
   "execution_count": null,
   "id": "portuguese-consultancy",
   "metadata": {},
   "outputs": [],
   "source": [
    "n_items_before = data_train_lvl_1['item_id'].nunique()\n",
    "\n",
    "data_train_lvl_1 = prefilter_items(data_train_lvl_1, take_n_popular=5000, item_features=item_features)\n",
    "\n",
    "n_items_after = data_train_lvl_1['item_id'].nunique()\n",
    "print('Decreased # items from {} to {}'.format(n_items_before, n_items_after))"
   ]
  },
  {
   "cell_type": "code",
   "execution_count": null,
   "id": "cardiac-treat",
   "metadata": {},
   "outputs": [],
   "source": [
    "data_train_lvl_1.shape"
   ]
  },
  {
   "cell_type": "code",
   "execution_count": null,
   "id": "everyday-crossing",
   "metadata": {},
   "outputs": [],
   "source": []
  },
  {
   "cell_type": "code",
   "execution_count": null,
   "id": "analyzed-freeware",
   "metadata": {},
   "outputs": [],
   "source": [
    "#recommender = MainRecommender(data_train_lvl_1)"
   ]
  },
  {
   "cell_type": "code",
   "execution_count": null,
   "id": "postal-expert",
   "metadata": {},
   "outputs": [],
   "source": []
  },
  {
   "cell_type": "code",
   "execution_count": null,
   "id": "satisfied-cradle",
   "metadata": {
    "scrolled": true
   },
   "outputs": [],
   "source": [
    "result_lvl_1 = data_val_lvl_1.groupby('user_id')['item_id'].unique().reset_index()\n",
    "result_lvl_1.columns=['user_id', 'actual']\n",
    "result_lvl_1.head(2)"
   ]
  },
  {
   "cell_type": "code",
   "execution_count": null,
   "id": "knowing-midwest",
   "metadata": {},
   "outputs": [],
   "source": [
    "user_ids = result_lvl_1['user_id'].tolist()"
   ]
  },
  {
   "cell_type": "code",
   "execution_count": null,
   "id": "interracial-silver",
   "metadata": {},
   "outputs": [],
   "source": []
  },
  {
   "cell_type": "code",
   "execution_count": null,
   "id": "italian-calibration",
   "metadata": {},
   "outputs": [],
   "source": [
    "user_ids.remove(1813)"
   ]
  },
  {
   "cell_type": "code",
   "execution_count": null,
   "id": "least-citizen",
   "metadata": {},
   "outputs": [],
   "source": [
    "user_ids.remove(1984)"
   ]
  },
  {
   "cell_type": "code",
   "execution_count": null,
   "id": "consistent-bermuda",
   "metadata": {},
   "outputs": [],
   "source": [
    "data_train_lvl_1.index"
   ]
  },
  {
   "cell_type": "code",
   "execution_count": null,
   "id": "intimate-kitty",
   "metadata": {},
   "outputs": [],
   "source": [
    "data_train_lvl_1.user_id"
   ]
  },
  {
   "cell_type": "code",
   "execution_count": null,
   "id": "explicit-victoria",
   "metadata": {
    "scrolled": true
   },
   "outputs": [],
   "source": [
    "userids"
   ]
  },
  {
   "cell_type": "code",
   "execution_count": null,
   "id": "seven-imperial",
   "metadata": {},
   "outputs": [],
   "source": [
    "alt = alt_recommender(data_train_lvl_1)"
   ]
  },
  {
   "cell_type": "code",
   "execution_count": null,
   "id": "spatial-publisher",
   "metadata": {},
   "outputs": [],
   "source": [
    "alt.train_model(20, 0.001, 15)"
   ]
  },
  {
   "cell_type": "code",
   "execution_count": null,
   "id": "unique-certification",
   "metadata": {},
   "outputs": [],
   "source": [
    "alt.get_als_recommendations(2378)"
   ]
  },
  {
   "cell_type": "code",
   "execution_count": null,
   "id": "banned-asthma",
   "metadata": {},
   "outputs": [],
   "source": [
    "alt.get_similar_items_recommendation(2378)"
   ]
  },
  {
   "cell_type": "code",
   "execution_count": null,
   "id": "equivalent-foster",
   "metadata": {},
   "outputs": [],
   "source": [
    "alt.get_similar_users_recommendation(2378)"
   ]
  },
  {
   "cell_type": "code",
   "execution_count": null,
   "id": "acceptable-yacht",
   "metadata": {},
   "outputs": [],
   "source": [
    "alt.get_own_recommendations(2378)"
   ]
  },
  {
   "cell_type": "code",
   "execution_count": null,
   "id": "toxic-magic",
   "metadata": {},
   "outputs": [],
   "source": []
  },
  {
   "cell_type": "code",
   "execution_count": null,
   "id": "adapted-label",
   "metadata": {},
   "outputs": [],
   "source": [
    "idx = result_lvl_1[(result_lvl_1['user_id'] == 296) |\n",
    "                           (result_lvl_1['user_id'] == 1813) |\n",
    "                           (result_lvl_1['user_id'] == 1984)\n",
    "                  ].index"
   ]
  },
  {
   "cell_type": "code",
   "execution_count": null,
   "id": "armed-specification",
   "metadata": {},
   "outputs": [],
   "source": [
    "idx"
   ]
  },
  {
   "cell_type": "code",
   "execution_count": null,
   "id": "noticed-activation",
   "metadata": {},
   "outputs": [],
   "source": [
    "result_lvl_1.drop(idx, axis = 0, inplace = True)"
   ]
  },
  {
   "cell_type": "code",
   "execution_count": null,
   "id": "perfect-imaging",
   "metadata": {},
   "outputs": [],
   "source": [
    " k=20\n",
    "for x in user_ids:\n",
    "    print(x, user_ids.index(x))\n",
    "    recs = recommender.get_als_recommendations(x, N=k)\n",
    "    recs\n",
    "    #result_lvl_1[result_lvl_1['user_id'] == x][f'als_{k}'] = recs"
   ]
  },
  {
   "cell_type": "code",
   "execution_count": null,
   "id": "comparable-sentence",
   "metadata": {},
   "outputs": [],
   "source": [
    "%time\n",
    "\n",
    "#k=50\n",
    "for k in [20, 50, 100, 200, 500]:\n",
    "#for k in [50]:    \n",
    "    print(f'Iteration k={k}')\n",
    "    result_lvl_1[f'als_{k}'] = result_lvl_1['user_id'].apply(lambda x: recommender.get_als_recommendations(x, N=k))\n",
    "    print(f'...als finished')\n",
    "    result_lvl_1[f'own_{k}'] = result_lvl_1['user_id'].apply(lambda x: recommender.get_own_recommendations(x, N=k))\n",
    "    print(f'...own finished')\n",
    "    result_lvl_1[f'sim_user_{k}'] = result_lvl_1['user_id'].apply(lambda x: recommender.get_similar_users_recommendation(x, N=k))\n",
    "    print(f'...sim_user finished')\n",
    "    result_lvl_1[f'sim_item_{k}'] = result_lvl_1['user_id'].apply(lambda x: recommender.get_similar_items_recommendation(x, N=k))\n",
    "    print(f'...sim_item finished')\n",
    "\n",
    "result_lvl_1.head(2)"
   ]
  },
  {
   "cell_type": "code",
   "execution_count": null,
   "id": "velvet-bracket",
   "metadata": {},
   "outputs": [],
   "source": []
  },
  {
   "cell_type": "code",
   "execution_count": null,
   "id": "other-liver",
   "metadata": {},
   "outputs": [],
   "source": []
  }
 ],
 "metadata": {
  "kernelspec": {
   "display_name": "Python 3",
   "language": "python",
   "name": "python3"
  },
  "language_info": {
   "codemirror_mode": {
    "name": "ipython",
    "version": 3
   },
   "file_extension": ".py",
   "mimetype": "text/x-python",
   "name": "python",
   "nbconvert_exporter": "python",
   "pygments_lexer": "ipython3",
   "version": "3.9.1"
  }
 },
 "nbformat": 4,
 "nbformat_minor": 5
}
