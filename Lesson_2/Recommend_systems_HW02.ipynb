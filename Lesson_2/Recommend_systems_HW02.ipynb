{
 "cells": [
  {
   "cell_type": "markdown",
   "metadata": {
    "id": "TuoQuAzk9vZc"
   },
   "source": [
    "# Вебинар 2. Бейзлайны и детерминированные алгоритмы item-item"
   ]
  },
  {
   "cell_type": "markdown",
   "metadata": {
    "id": "At6srI4G2UbV"
   },
   "source": [
    "Задача рекомендаций:\n",
    "1. Мало товаров - предсказание покупки (регрессия)\n",
    "2. Много товаров, есть разметка релевантности - задача ранжирования (эмбеддинги)\n",
    "3. Много товаров, купил/не купил - рекомендательные системы (детерменированные, ALS, на основе контента)\n",
    "4. Много товаров, есть ограничения на коммуникацию - uplift (деревья)\n",
    "\n",
    "Везде можно применять ансамбли и стеккинг моделей"
   ]
  },
  {
   "cell_type": "markdown",
   "metadata": {
    "id": "6p5BtHLO9vZh"
   },
   "source": [
    "[RecSys types](https://drive.google.com/file/d/10i5oN2Cw60oLMvnQ4SKFkkotnhRS7Q8L/view?usp=sharing)"
   ]
  },
  {
   "cell_type": "code",
   "execution_count": 1,
   "metadata": {
    "colab": {
     "base_uri": "https://localhost:8080/"
    },
    "id": "mq8quceF9vZi",
    "outputId": "5144fe93-3d7e-4f7b-dbbf-e8e1f5c5e319"
   },
   "outputs": [
    {
     "name": "stdout",
     "output_type": "stream",
     "text": [
      "Collecting implicit\n",
      "  Downloading implicit-0.5.2.tar.gz (71 kB)\n",
      "  Installing build dependencies: started\n",
      "  Installing build dependencies: finished with status 'error'\n",
      "  Downloading implicit-0.5.1.tar.gz (71 kB)\n",
      "  Installing build dependencies: started\n",
      "  Installing build dependencies: finished with status 'error'\n",
      "  Downloading implicit-0.5.0.tar.gz (71 kB)Note: you may need to restart the kernel to use updated packages.\n",
      "\n",
      "  Preparing metadata (setup.py): started\n",
      "  Preparing metadata (setup.py): finished with status 'error'\n",
      "  Downloading implicit-0.4.8.tar.gz (1.1 MB)\n",
      "  Installing build dependencies: started\n",
      "  Installing build dependencies: finished with status 'done'\n"
     ]
    },
    {
     "name": "stderr",
     "output_type": "stream",
     "text": [
      "  ERROR: Command errored out with exit status 1:\n",
      "   command: 'c:\\users\\пк\\appdata\\local\\programs\\python\\python39\\python.exe' 'C:\\Users\\ПК\\AppData\\Local\\Temp\\pip-standalone-pip-lmu99mdu\\__env_pip__.zip\\pip' install --ignore-installed --no-user --prefix 'C:\\Users\\ПК\\AppData\\Local\\Temp\\pip-build-env-vx8dyoh5\\overlay' --no-warn-script-location --no-binary :none: --only-binary :none: -i https://pypi.org/simple -- 'setuptools>=42' wheel scikit-build@git+https://github.com/scikit-build/scikit-build.git 'Cython>=0.24' 'scipy>=0.16'\n",
      "       cwd: None\n",
      "  Complete output (40 lines):\n",
      "  Collecting scikit-build@ git+https://github.com/scikit-build/scikit-build.git\n",
      "    Cloning https://github.com/scikit-build/scikit-build.git to c:\\users\\пк\\appdata\\local\\temp\\pip-install-n6qmn8al\\scikit-build_24ea2f115bf94e1eb29322617513675a\n",
      "    Running command git clone --filter=blob:none -q https://github.com/scikit-build/scikit-build.git 'C:\\Users\\ПК\\AppData\\Local\\Temp\\pip-install-n6qmn8al\\scikit-build_24ea2f115bf94e1eb29322617513675a'\n",
      "    Resolved https://github.com/scikit-build/scikit-build.git to commit 94089992b353ea3e4b4c2f118ea1987ca54ecbb8\n",
      "    Installing build dependencies: started\n",
      "    Installing build dependencies: finished with status 'done'\n",
      "    Getting requirements to build wheel: started\n",
      "    Getting requirements to build wheel: finished with status 'error'\n",
      "    ERROR: Command errored out with exit status 1:\n",
      "     command: 'c:\\users\\пк\\appdata\\local\\programs\\python\\python39\\python.exe' 'C:\\Users\\90C5~1\\AppData\\Local\\Temp\\tmptbp8b1rk_in_process.py' get_requires_for_build_wheel 'C:\\Users\\90C5~1\\AppData\\Local\\Temp\\tmpbqrs_nvb'\n",
      "         cwd: C:\\Users\\ПК\\AppData\\Local\\Temp\\pip-install-n6qmn8al\\scikit-build_24ea2f115bf94e1eb29322617513675a\n",
      "    Complete output (18 lines):\n",
      "    Error in sitecustomize; set PYTHONVERBOSE for traceback:\n",
      "    SyntaxError: (unicode error) 'utf-8' codec can't decode byte 0xef in position 0: invalid continuation byte (sitecustomize.py, line 7)\n",
      "    Traceback (most recent call last):\n",
      "      File \"C:\\Users\\90C5~1\\AppData\\Local\\Temp\\tmptbp8b1rk_in_process.py\", line 363, in <module>\n",
      "        main()\n",
      "      File \"C:\\Users\\90C5~1\\AppData\\Local\\Temp\\tmptbp8b1rk_in_process.py\", line 345, in main\n",
      "        json_out['return_val'] = hook(**hook_input['kwargs'])\n",
      "      File \"C:\\Users\\90C5~1\\AppData\\Local\\Temp\\tmptbp8b1rk_in_process.py\", line 130, in get_requires_for_build_wheel\n",
      "        return hook(config_settings)\n",
      "      File \"c:\\users\\пк\\appdata\\local\\programs\\python\\python39\\lib\\site-packages\\setuptools\\build_meta.py\", line 146, in get_requires_for_build_wheel\n",
      "        return self._get_build_requires(\n",
      "      File \"c:\\users\\пк\\appdata\\local\\programs\\python\\python39\\lib\\site-packages\\setuptools\\build_meta.py\", line 127, in _get_build_requires\n",
      "        self.run_setup()\n",
      "      File \"c:\\users\\пк\\appdata\\local\\programs\\python\\python39\\lib\\site-packages\\setuptools\\build_meta.py\", line 142, in run_setup\n",
      "        exec(compile(code, __file__, 'exec'), locals())\n",
      "      File \"setup.py\", line 7, in <module>\n"
     ]
    },
    {
     "name": "stdout",
     "output_type": "stream",
     "text": [
      "  Getting requirements to build wheel: started\n",
      "  Getting requirements to build wheel: finished with status 'done'\n",
      "  Installing backend dependencies: started\n",
      "  Installing backend dependencies: finished with status 'done'\n",
      "  Preparing metadata (pyproject.toml): started\n",
      "  Preparing metadata (pyproject.toml): finished with status 'done'\n",
      "Requirement already satisfied: numpy in c:\\users\\пк\\appdata\\local\\programs\\python\\python39\\lib\\site-packages (from implicit) (1.20.0)\n",
      "Requirement already satisfied: scipy>=0.16 in c:\\users\\пк\\appdata\\local\\programs\\python\\python39\\lib\\site-packages (from implicit) (1.7.2)\n",
      "Requirement already satisfied: tqdm>=4.27 in c:\\users\\пк\\appdata\\local\\programs\\python\\python39\\lib\\site-packages (from implicit) (4.59.0)\n",
      "Building wheels for collected packages: implicit\n",
      "  Building wheel for implicit (pyproject.toml): started\n",
      "  Building wheel for implicit (pyproject.toml): finished with status 'done'\n",
      "  Created wheel for implicit: filename=implicit-0.4.8-cp39-cp39-win_amd64.whl size=624372 sha256=2ab554a821e98d5d68a3fb14a9b56a7b94c05a406eefec5edb57d1a75eff54b8\n",
      "  Stored in directory: c:\\users\\пк\\appdata\\local\\pip\\cache\\wheels\\2d\\0a\\a4\\6aea635157daf166f50276da2f2ceb04d17f5e37cb3f171ac7\n",
      "Successfully built implicit\n",
      "Installing collected packages: implicit\n",
      "Successfully installed implicit-0.4.8\n"
     ]
    },
    {
     "name": "stderr",
     "output_type": "stream",
     "text": [
      "        import setuptools_scm  # noqa: F401\n",
      "    ModuleNotFoundError: No module named 'setuptools_scm'\n",
      "    ----------------------------------------\n",
      "  WARNING: Discarding git+https://github.com/scikit-build/scikit-build.git. Command errored out with exit status 1: 'c:\\users\\пк\\appdata\\local\\programs\\python\\python39\\python.exe' 'C:\\Users\\90C5~1\\AppData\\Local\\Temp\\tmptbp8b1rk_in_process.py' get_requires_for_build_wheel 'C:\\Users\\90C5~1\\AppData\\Local\\Temp\\tmpbqrs_nvb' Check the logs for full command output.\n",
      "  Collecting setuptools>=42\n",
      "    Using cached setuptools-60.8.2-py3-none-any.whl (1.1 MB)\n",
      "  Collecting wheel\n",
      "    Using cached wheel-0.37.1-py2.py3-none-any.whl (35 kB)\n",
      "  ERROR: Could not find a version that satisfies the requirement scikit-build (unavailable) (from versions: 0.1.0, 0.2.0, 0.3.0, 0.4.0, 0.5.0, 0.5.1, 0.6.0, 0.6.1, 0.7.0, 0.7.1, 0.8.0, 0.8.1, 0.9.0, 0.10.0, 0.11.0, 0.11.1, 0.12.0, 0.13.0, 0.13.1)\n",
      "  ERROR: No matching distribution found for scikit-build (unavailable)\n",
      "  WARNING: You are using pip version 21.3.1; however, version 22.0.3 is available.\n",
      "  You should consider upgrading via the 'c:\\users\\пк\\appdata\\local\\programs\\python\\python39\\python.exe -m pip install --upgrade pip' command.\n",
      "  ----------------------------------------\n",
      "WARNING: Discarding https://files.pythonhosted.org/packages/61/e8/5969e085832411ef837daae148a3f6c8228558cff5cf542813abb989dd7c/implicit-0.5.2.tar.gz#sha256=bf4674a898251d89dd54d8a11a82f488edcc2ff2a9923a37dd0b271453e417d9 (from https://pypi.org/simple/implicit/). Command errored out with exit status 1: 'c:\\users\\пк\\appdata\\local\\programs\\python\\python39\\python.exe' 'C:\\Users\\ПК\\AppData\\Local\\Temp\\pip-standalone-pip-lmu99mdu\\__env_pip__.zip\\pip' install --ignore-installed --no-user --prefix 'C:\\Users\\ПК\\AppData\\Local\\Temp\\pip-build-env-vx8dyoh5\\overlay' --no-warn-script-location --no-binary :none: --only-binary :none: -i https://pypi.org/simple -- 'setuptools>=42' wheel scikit-build@git+https://github.com/scikit-build/scikit-build.git 'Cython>=0.24' 'scipy>=0.16' Check the logs for full command output.\n",
      "  ERROR: Command errored out with exit status 1:\n",
      "   command: 'c:\\users\\пк\\appdata\\local\\programs\\python\\python39\\python.exe' 'C:\\Users\\ПК\\AppData\\Local\\Temp\\pip-standalone-pip-y8enomz0\\__env_pip__.zip\\pip' install --ignore-installed --no-user --prefix 'C:\\Users\\ПК\\AppData\\Local\\Temp\\pip-build-env-39_ah2ue\\overlay' --no-warn-script-location --no-binary :none: --only-binary :none: -i https://pypi.org/simple -- 'setuptools>=42' wheel scikit-build@git+https://github.com/scikit-build/scikit-build.git 'Cython>=0.24' 'scipy>=0.16'\n",
      "       cwd: None\n",
      "  Complete output (40 lines):\n",
      "  Collecting scikit-build@ git+https://github.com/scikit-build/scikit-build.git\n",
      "    Cloning https://github.com/scikit-build/scikit-build.git to c:\\users\\пк\\appdata\\local\\temp\\pip-install-b8u512e8\\scikit-build_5aebc6f1bbc14a57996fa61e2e1083c7\n",
      "    Running command git clone --filter=blob:none -q https://github.com/scikit-build/scikit-build.git 'C:\\Users\\ПК\\AppData\\Local\\Temp\\pip-install-b8u512e8\\scikit-build_5aebc6f1bbc14a57996fa61e2e1083c7'\n",
      "    Resolved https://github.com/scikit-build/scikit-build.git to commit 94089992b353ea3e4b4c2f118ea1987ca54ecbb8\n",
      "    Installing build dependencies: started\n",
      "    Installing build dependencies: finished with status 'done'\n",
      "    Getting requirements to build wheel: started\n",
      "    Getting requirements to build wheel: finished with status 'error'\n",
      "    ERROR: Command errored out with exit status 1:\n",
      "     command: 'c:\\users\\пк\\appdata\\local\\programs\\python\\python39\\python.exe' 'C:\\Users\\90C5~1\\AppData\\Local\\Temp\\tmp38fwthmj_in_process.py' get_requires_for_build_wheel 'C:\\Users\\90C5~1\\AppData\\Local\\Temp\\tmp8acal5nv'\n",
      "         cwd: C:\\Users\\ПК\\AppData\\Local\\Temp\\pip-install-b8u512e8\\scikit-build_5aebc6f1bbc14a57996fa61e2e1083c7\n",
      "    Complete output (18 lines):\n",
      "    Error in sitecustomize; set PYTHONVERBOSE for traceback:\n",
      "    SyntaxError: (unicode error) 'utf-8' codec can't decode byte 0xef in position 0: invalid continuation byte (sitecustomize.py, line 7)\n",
      "    Traceback (most recent call last):\n",
      "      File \"C:\\Users\\90C5~1\\AppData\\Local\\Temp\\tmp38fwthmj_in_process.py\", line 363, in <module>\n",
      "        main()\n",
      "      File \"C:\\Users\\90C5~1\\AppData\\Local\\Temp\\tmp38fwthmj_in_process.py\", line 345, in main\n",
      "        json_out['return_val'] = hook(**hook_input['kwargs'])\n",
      "      File \"C:\\Users\\90C5~1\\AppData\\Local\\Temp\\tmp38fwthmj_in_process.py\", line 130, in get_requires_for_build_wheel\n",
      "        return hook(config_settings)\n",
      "      File \"c:\\users\\пк\\appdata\\local\\programs\\python\\python39\\lib\\site-packages\\setuptools\\build_meta.py\", line 146, in get_requires_for_build_wheel\n",
      "        return self._get_build_requires(\n",
      "      File \"c:\\users\\пк\\appdata\\local\\programs\\python\\python39\\lib\\site-packages\\setuptools\\build_meta.py\", line 127, in _get_build_requires\n",
      "        self.run_setup()\n",
      "      File \"c:\\users\\пк\\appdata\\local\\programs\\python\\python39\\lib\\site-packages\\setuptools\\build_meta.py\", line 142, in run_setup\n",
      "        exec(compile(code, __file__, 'exec'), locals())\n",
      "      File \"setup.py\", line 7, in <module>\n",
      "        import setuptools_scm  # noqa: F401\n",
      "    ModuleNotFoundError: No module named 'setuptools_scm'\n",
      "    ----------------------------------------\n",
      "  WARNING: Discarding git+https://github.com/scikit-build/scikit-build.git. Command errored out with exit status 1: 'c:\\users\\пк\\appdata\\local\\programs\\python\\python39\\python.exe' 'C:\\Users\\90C5~1\\AppData\\Local\\Temp\\tmp38fwthmj_in_process.py' get_requires_for_build_wheel 'C:\\Users\\90C5~1\\AppData\\Local\\Temp\\tmp8acal5nv' Check the logs for full command output.\n",
      "  Collecting setuptools>=42\n",
      "    Using cached setuptools-60.8.2-py3-none-any.whl (1.1 MB)\n",
      "  Collecting wheel\n",
      "    Using cached wheel-0.37.1-py2.py3-none-any.whl (35 kB)\n",
      "  ERROR: Could not find a version that satisfies the requirement scikit-build (unavailable) (from versions: 0.1.0, 0.2.0, 0.3.0, 0.4.0, 0.5.0, 0.5.1, 0.6.0, 0.6.1, 0.7.0, 0.7.1, 0.8.0, 0.8.1, 0.9.0, 0.10.0, 0.11.0, 0.11.1, 0.12.0, 0.13.0, 0.13.1)\n",
      "  ERROR: No matching distribution found for scikit-build (unavailable)\n",
      "  WARNING: You are using pip version 21.3.1; however, version 22.0.3 is available.\n",
      "  You should consider upgrading via the 'c:\\users\\пк\\appdata\\local\\programs\\python\\python39\\python.exe -m pip install --upgrade pip' command.\n",
      "  ----------------------------------------\n",
      "WARNING: Discarding https://files.pythonhosted.org/packages/ef/b1/35f8869d9e97c502b425008e9932bd262cedda1994356e57229a21ece2bc/implicit-0.5.1.tar.gz#sha256=267c595b34b4825294a621d99ef534e26fd38bcac78d494810a13c38226a8b10 (from https://pypi.org/simple/implicit/). Command errored out with exit status 1: 'c:\\users\\пк\\appdata\\local\\programs\\python\\python39\\python.exe' 'C:\\Users\\ПК\\AppData\\Local\\Temp\\pip-standalone-pip-y8enomz0\\__env_pip__.zip\\pip' install --ignore-installed --no-user --prefix 'C:\\Users\\ПК\\AppData\\Local\\Temp\\pip-build-env-39_ah2ue\\overlay' --no-warn-script-location --no-binary :none: --only-binary :none: -i https://pypi.org/simple -- 'setuptools>=42' wheel scikit-build@git+https://github.com/scikit-build/scikit-build.git 'Cython>=0.24' 'scipy>=0.16' Check the logs for full command output.\n",
      "  ERROR: Command errored out with exit status 1:\n",
      "   command: 'c:\\users\\пк\\appdata\\local\\programs\\python\\python39\\python.exe' -c 'import io, os, sys, setuptools, tokenize; sys.argv[0] = '\"'\"'C:\\\\Users\\\\ПК\\\\AppData\\\\Local\\\\Temp\\\\pip-install-533xhc6b\\\\implicit_78c204adbdd243319dfafa565643d2ee\\\\setup.py'\"'\"'; __file__='\"'\"'C:\\\\Users\\\\ПК\\\\AppData\\\\Local\\\\Temp\\\\pip-install-533xhc6b\\\\implicit_78c204adbdd243319dfafa565643d2ee\\\\setup.py'\"'\"';f = getattr(tokenize, '\"'\"'open'\"'\"', open)(__file__) if os.path.exists(__file__) else io.StringIO('\"'\"'from setuptools import setup; setup()'\"'\"');code = f.read().replace('\"'\"'\\r\\n'\"'\"', '\"'\"'\\n'\"'\"');f.close();exec(compile(code, __file__, '\"'\"'exec'\"'\"'))' egg_info --egg-base 'C:\\Users\\ПК\\AppData\\Local\\Temp\\pip-pip-egg-info-6q6vm6yz'\n",
      "       cwd: C:\\Users\\ПК\\AppData\\Local\\Temp\\pip-install-533xhc6b\\implicit_78c204adbdd243319dfafa565643d2ee\\\n",
      "  Complete output (5 lines):\n",
      "  Traceback (most recent call last):\n",
      "    File \"<string>\", line 1, in <module>\n",
      "    File \"C:\\Users\\ПК\\AppData\\Local\\Temp\\pip-install-533xhc6b\\implicit_78c204adbdd243319dfafa565643d2ee\\setup.py\", line 5, in <module>\n",
      "      from skbuild import setup\n",
      "  ModuleNotFoundError: No module named 'skbuild'\n",
      "  ----------------------------------------\n",
      "WARNING: Discarding https://files.pythonhosted.org/packages/91/c1/ff6dcc22dd6071efdff4b3198849c488fe87ba79149d4b21fdaa76417644/implicit-0.5.0.tar.gz#sha256=f7d3981e3fbcb5e4755469e7a86cbf4044b8f4fa1aacfe6ef6f9e6f06c4f684f (from https://pypi.org/simple/implicit/). Command errored out with exit status 1: python setup.py egg_info Check the logs for full command output.\n",
      "WARNING: You are using pip version 21.3.1; however, version 22.0.3 is available.\n",
      "You should consider upgrading via the 'c:\\users\\пк\\appdata\\local\\programs\\python\\python39\\python.exe -m pip install --upgrade pip' command.\n"
     ]
    }
   ],
   "source": [
    "pip install implicit"
   ]
  },
  {
   "cell_type": "markdown",
   "metadata": {
    "id": "f_mD4xtw9vZk"
   },
   "source": [
    "[Implicit](https://implicit.readthedocs.io/en/latest/quickstart.html) - очень быстрая и \n",
    "эффективная библиотека для рекоммендаций\n",
    "\n",
    "Основные фичи:\n",
    "    - Cython под капотом - высокая скорость\n",
    "    - Множество приближенных алгоритмов - быстрее, чем оригинальные\n",
    "    - Содежрит большинство популярных алгоритмов\n",
    "    - Есть алгоритмы ранжирования\n",
    "    - Поиск похожих товаров / юзеров\n",
    "    - Есть возможность пересчета \"холодного\" юзера \"на лету\"\n",
    "    - Возможность фильтровать товары при рекомендациях (Например, не рекомендовать женские товары мужчинам)\n",
    "    - Есть метрики качества"
   ]
  },
  {
   "cell_type": "code",
   "execution_count": 2,
   "metadata": {
    "colab": {
     "base_uri": "https://localhost:8080/"
    },
    "id": "P4cXa7KC9vZl",
    "outputId": "5a8446b6-bebd-4743-f4e6-9bf05448d0a4"
   },
   "outputs": [],
   "source": [
    "import pandas as pd\n",
    "import numpy as np\n",
    "import matplotlib.pyplot as plt\n",
    "%matplotlib inline\n",
    "\n",
    "# Для работы с матрицами\n",
    "from scipy.sparse import csr_matrix, coo_matrix\n",
    "\n",
    "# Детерминированные алгоритмы\n",
    "from implicit.nearest_neighbours import ItemItemRecommender, CosineRecommender, TFIDFRecommender, BM25Recommender\n",
    "\n",
    "# Метрики\n",
    "from implicit.evaluation import train_test_split\n",
    "from implicit.evaluation import precision_at_k, mean_average_precision_at_k, AUC_at_k, ndcg_at_k"
   ]
  },
  {
   "cell_type": "code",
   "execution_count": 3,
   "metadata": {
    "colab": {
     "base_uri": "https://localhost:8080/",
     "height": 206
    },
    "id": "mwedaTmu9vZm",
    "outputId": "772b4a6a-afef-40db-9993-817a27a018a4"
   },
   "outputs": [
    {
     "data": {
      "text/html": [
       "<div>\n",
       "<style scoped>\n",
       "    .dataframe tbody tr th:only-of-type {\n",
       "        vertical-align: middle;\n",
       "    }\n",
       "\n",
       "    .dataframe tbody tr th {\n",
       "        vertical-align: top;\n",
       "    }\n",
       "\n",
       "    .dataframe thead th {\n",
       "        text-align: right;\n",
       "    }\n",
       "</style>\n",
       "<table border=\"1\" class=\"dataframe\">\n",
       "  <thead>\n",
       "    <tr style=\"text-align: right;\">\n",
       "      <th></th>\n",
       "      <th>user_id</th>\n",
       "      <th>basket_id</th>\n",
       "      <th>day</th>\n",
       "      <th>item_id</th>\n",
       "      <th>quantity</th>\n",
       "      <th>sales_value</th>\n",
       "      <th>store_id</th>\n",
       "      <th>retail_disc</th>\n",
       "      <th>trans_time</th>\n",
       "      <th>week_no</th>\n",
       "      <th>coupon_disc</th>\n",
       "      <th>coupon_match_disc</th>\n",
       "    </tr>\n",
       "  </thead>\n",
       "  <tbody>\n",
       "    <tr>\n",
       "      <th>0</th>\n",
       "      <td>2375</td>\n",
       "      <td>26984851472</td>\n",
       "      <td>1</td>\n",
       "      <td>1004906</td>\n",
       "      <td>1</td>\n",
       "      <td>1.39</td>\n",
       "      <td>364</td>\n",
       "      <td>-0.60</td>\n",
       "      <td>1631</td>\n",
       "      <td>1</td>\n",
       "      <td>0.0</td>\n",
       "      <td>0.0</td>\n",
       "    </tr>\n",
       "    <tr>\n",
       "      <th>1</th>\n",
       "      <td>2375</td>\n",
       "      <td>26984851472</td>\n",
       "      <td>1</td>\n",
       "      <td>1033142</td>\n",
       "      <td>1</td>\n",
       "      <td>0.82</td>\n",
       "      <td>364</td>\n",
       "      <td>0.00</td>\n",
       "      <td>1631</td>\n",
       "      <td>1</td>\n",
       "      <td>0.0</td>\n",
       "      <td>0.0</td>\n",
       "    </tr>\n",
       "    <tr>\n",
       "      <th>2</th>\n",
       "      <td>2375</td>\n",
       "      <td>26984851472</td>\n",
       "      <td>1</td>\n",
       "      <td>1036325</td>\n",
       "      <td>1</td>\n",
       "      <td>0.99</td>\n",
       "      <td>364</td>\n",
       "      <td>-0.30</td>\n",
       "      <td>1631</td>\n",
       "      <td>1</td>\n",
       "      <td>0.0</td>\n",
       "      <td>0.0</td>\n",
       "    </tr>\n",
       "    <tr>\n",
       "      <th>3</th>\n",
       "      <td>2375</td>\n",
       "      <td>26984851472</td>\n",
       "      <td>1</td>\n",
       "      <td>1082185</td>\n",
       "      <td>1</td>\n",
       "      <td>1.21</td>\n",
       "      <td>364</td>\n",
       "      <td>0.00</td>\n",
       "      <td>1631</td>\n",
       "      <td>1</td>\n",
       "      <td>0.0</td>\n",
       "      <td>0.0</td>\n",
       "    </tr>\n",
       "    <tr>\n",
       "      <th>4</th>\n",
       "      <td>2375</td>\n",
       "      <td>26984851472</td>\n",
       "      <td>1</td>\n",
       "      <td>8160430</td>\n",
       "      <td>1</td>\n",
       "      <td>1.50</td>\n",
       "      <td>364</td>\n",
       "      <td>-0.39</td>\n",
       "      <td>1631</td>\n",
       "      <td>1</td>\n",
       "      <td>0.0</td>\n",
       "      <td>0.0</td>\n",
       "    </tr>\n",
       "  </tbody>\n",
       "</table>\n",
       "</div>"
      ],
      "text/plain": [
       "   user_id    basket_id  day  item_id  quantity  sales_value  store_id  \\\n",
       "0     2375  26984851472    1  1004906         1         1.39       364   \n",
       "1     2375  26984851472    1  1033142         1         0.82       364   \n",
       "2     2375  26984851472    1  1036325         1         0.99       364   \n",
       "3     2375  26984851472    1  1082185         1         1.21       364   \n",
       "4     2375  26984851472    1  8160430         1         1.50       364   \n",
       "\n",
       "   retail_disc  trans_time  week_no  coupon_disc  coupon_match_disc  \n",
       "0        -0.60        1631        1          0.0                0.0  \n",
       "1         0.00        1631        1          0.0                0.0  \n",
       "2        -0.30        1631        1          0.0                0.0  \n",
       "3         0.00        1631        1          0.0                0.0  \n",
       "4        -0.39        1631        1          0.0                0.0  "
      ]
     },
     "execution_count": 3,
     "metadata": {},
     "output_type": "execute_result"
    }
   ],
   "source": [
    "data = pd.read_csv('retail_train.csv')\n",
    "data.head()"
   ]
  },
  {
   "cell_type": "code",
   "execution_count": 4,
   "metadata": {
    "colab": {
     "base_uri": "https://localhost:8080/"
    },
    "id": "BMeRQVy_9vZn",
    "outputId": "7c17e25b-d2e6-43c1-8084-66108b18d2c0"
   },
   "outputs": [
    {
     "data": {
      "text/plain": [
       "95"
      ]
     },
     "execution_count": 4,
     "metadata": {},
     "output_type": "execute_result"
    }
   ],
   "source": [
    "data['week_no'].nunique()"
   ]
  },
  {
   "cell_type": "code",
   "execution_count": 5,
   "metadata": {
    "colab": {
     "base_uri": "https://localhost:8080/"
    },
    "id": "Z-scmodG7xDB",
    "outputId": "383aac3d-8433-484f-9088-1296bdb7322a"
   },
   "outputs": [
    {
     "data": {
      "text/plain": [
       "(2396804, 12)"
      ]
     },
     "execution_count": 5,
     "metadata": {},
     "output_type": "execute_result"
    }
   ],
   "source": [
    "data.shape"
   ]
  },
  {
   "cell_type": "code",
   "execution_count": 6,
   "metadata": {
    "colab": {
     "base_uri": "https://localhost:8080/"
    },
    "id": "8NafvkC29vZo",
    "outputId": "264f46db-e4a4-48f2-853d-8d24b4e2e4eb"
   },
   "outputs": [
    {
     "name": "stdout",
     "output_type": "stream",
     "text": [
      "# users:  2499\n",
      "# items:  89051\n",
      "# interactions:  2396804\n"
     ]
    }
   ],
   "source": [
    "users, items, interactions = data.user_id.nunique(), data.item_id.nunique(), data.shape[0]\n",
    "\n",
    "print('# users: ', users)\n",
    "print('# items: ', items)\n",
    "print('# interactions: ', interactions)"
   ]
  },
  {
   "cell_type": "code",
   "execution_count": 7,
   "metadata": {
    "colab": {
     "base_uri": "https://localhost:8080/",
     "height": 300
    },
    "id": "KoLFB6gX9vZp",
    "outputId": "2ff07462-654a-4261-d8d8-a16ca23a1627"
   },
   "outputs": [
    {
     "data": {
      "text/html": [
       "<div>\n",
       "<style scoped>\n",
       "    .dataframe tbody tr th:only-of-type {\n",
       "        vertical-align: middle;\n",
       "    }\n",
       "\n",
       "    .dataframe tbody tr th {\n",
       "        vertical-align: top;\n",
       "    }\n",
       "\n",
       "    .dataframe thead th {\n",
       "        text-align: right;\n",
       "    }\n",
       "</style>\n",
       "<table border=\"1\" class=\"dataframe\">\n",
       "  <thead>\n",
       "    <tr style=\"text-align: right;\">\n",
       "      <th></th>\n",
       "      <th>item_id</th>\n",
       "      <th>sales_value</th>\n",
       "    </tr>\n",
       "  </thead>\n",
       "  <tbody>\n",
       "    <tr>\n",
       "      <th>count</th>\n",
       "      <td>8.905100e+04</td>\n",
       "      <td>89051.000000</td>\n",
       "    </tr>\n",
       "    <tr>\n",
       "      <th>mean</th>\n",
       "      <td>5.115772e+06</td>\n",
       "      <td>83.458481</td>\n",
       "    </tr>\n",
       "    <tr>\n",
       "      <th>std</th>\n",
       "      <td>5.178973e+06</td>\n",
       "      <td>1628.715079</td>\n",
       "    </tr>\n",
       "    <tr>\n",
       "      <th>min</th>\n",
       "      <td>2.567100e+04</td>\n",
       "      <td>0.000000</td>\n",
       "    </tr>\n",
       "    <tr>\n",
       "      <th>25%</th>\n",
       "      <td>9.665830e+05</td>\n",
       "      <td>3.500000</td>\n",
       "    </tr>\n",
       "    <tr>\n",
       "      <th>50%</th>\n",
       "      <td>1.448516e+06</td>\n",
       "      <td>10.780000</td>\n",
       "    </tr>\n",
       "    <tr>\n",
       "      <th>75%</th>\n",
       "      <td>9.553042e+06</td>\n",
       "      <td>46.105000</td>\n",
       "    </tr>\n",
       "    <tr>\n",
       "      <th>max</th>\n",
       "      <td>1.802456e+07</td>\n",
       "      <td>467993.620000</td>\n",
       "    </tr>\n",
       "  </tbody>\n",
       "</table>\n",
       "</div>"
      ],
      "text/plain": [
       "            item_id    sales_value\n",
       "count  8.905100e+04   89051.000000\n",
       "mean   5.115772e+06      83.458481\n",
       "std    5.178973e+06    1628.715079\n",
       "min    2.567100e+04       0.000000\n",
       "25%    9.665830e+05       3.500000\n",
       "50%    1.448516e+06      10.780000\n",
       "75%    9.553042e+06      46.105000\n",
       "max    1.802456e+07  467993.620000"
      ]
     },
     "execution_count": 7,
     "metadata": {},
     "output_type": "execute_result"
    }
   ],
   "source": [
    "popularity = data.groupby('item_id')['sales_value'].sum().reset_index()\n",
    "popularity.describe()"
   ]
  },
  {
   "cell_type": "code",
   "execution_count": 8,
   "metadata": {
    "colab": {
     "base_uri": "https://localhost:8080/",
     "height": 300
    },
    "id": "aKMW0bHd9vZq",
    "outputId": "276a4833-5164-4cb2-ca02-64f8dfc33ebf"
   },
   "outputs": [
    {
     "data": {
      "text/html": [
       "<div>\n",
       "<style scoped>\n",
       "    .dataframe tbody tr th:only-of-type {\n",
       "        vertical-align: middle;\n",
       "    }\n",
       "\n",
       "    .dataframe tbody tr th {\n",
       "        vertical-align: top;\n",
       "    }\n",
       "\n",
       "    .dataframe thead th {\n",
       "        text-align: right;\n",
       "    }\n",
       "</style>\n",
       "<table border=\"1\" class=\"dataframe\">\n",
       "  <thead>\n",
       "    <tr style=\"text-align: right;\">\n",
       "      <th></th>\n",
       "      <th>item_id</th>\n",
       "      <th>user_id</th>\n",
       "    </tr>\n",
       "  </thead>\n",
       "  <tbody>\n",
       "    <tr>\n",
       "      <th>count</th>\n",
       "      <td>8.905100e+04</td>\n",
       "      <td>89051.000000</td>\n",
       "    </tr>\n",
       "    <tr>\n",
       "      <th>mean</th>\n",
       "      <td>5.115772e+06</td>\n",
       "      <td>14.759767</td>\n",
       "    </tr>\n",
       "    <tr>\n",
       "      <th>std</th>\n",
       "      <td>5.178973e+06</td>\n",
       "      <td>45.904111</td>\n",
       "    </tr>\n",
       "    <tr>\n",
       "      <th>min</th>\n",
       "      <td>2.567100e+04</td>\n",
       "      <td>1.000000</td>\n",
       "    </tr>\n",
       "    <tr>\n",
       "      <th>25%</th>\n",
       "      <td>9.665830e+05</td>\n",
       "      <td>1.000000</td>\n",
       "    </tr>\n",
       "    <tr>\n",
       "      <th>50%</th>\n",
       "      <td>1.448516e+06</td>\n",
       "      <td>2.000000</td>\n",
       "    </tr>\n",
       "    <tr>\n",
       "      <th>75%</th>\n",
       "      <td>9.553042e+06</td>\n",
       "      <td>10.000000</td>\n",
       "    </tr>\n",
       "    <tr>\n",
       "      <th>max</th>\n",
       "      <td>1.802456e+07</td>\n",
       "      <td>2039.000000</td>\n",
       "    </tr>\n",
       "  </tbody>\n",
       "</table>\n",
       "</div>"
      ],
      "text/plain": [
       "            item_id       user_id\n",
       "count  8.905100e+04  89051.000000\n",
       "mean   5.115772e+06     14.759767\n",
       "std    5.178973e+06     45.904111\n",
       "min    2.567100e+04      1.000000\n",
       "25%    9.665830e+05      1.000000\n",
       "50%    1.448516e+06      2.000000\n",
       "75%    9.553042e+06     10.000000\n",
       "max    1.802456e+07   2039.000000"
      ]
     },
     "execution_count": 8,
     "metadata": {},
     "output_type": "execute_result"
    }
   ],
   "source": [
    "popularity = data.groupby('item_id')['user_id'].nunique().reset_index()\n",
    "popularity.describe()"
   ]
  },
  {
   "cell_type": "markdown",
   "metadata": {
    "id": "Nvr-6Tlr9vZr"
   },
   "source": [
    "**Note:**  \n",
    "Еще есть данные по характеристикам товаров и пользователей. Они нам пригодятся через несколько вебинаров"
   ]
  },
  {
   "cell_type": "markdown",
   "metadata": {
    "id": "G2FtGiBk9vZt"
   },
   "source": [
    "### Train-test split"
   ]
  },
  {
   "cell_type": "markdown",
   "metadata": {
    "id": "a81U7lNx9Fe8"
   },
   "source": [
    "![Снимок экрана от 2021-12-12 12-23-20.png](data:image/png;base64,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)"
   ]
  },
  {
   "cell_type": "markdown",
   "metadata": {
    "id": "hXt7R46T9vZt"
   },
   "source": [
    "В рекомендательных системах корректнее использовать train-test split по времени, а не случайно  \n",
    "Я возьму последние 3 недели в качестве теста"
   ]
  },
  {
   "cell_type": "code",
   "execution_count": 9,
   "metadata": {
    "id": "YcsOanje9vZt"
   },
   "outputs": [],
   "source": [
    "test_size_weeks = 3\n",
    "\n",
    "data_train = data[data['week_no'] < data['week_no'].max() - test_size_weeks]\n",
    "data_test = data[data['week_no'] >= data['week_no'].max() - test_size_weeks]"
   ]
  },
  {
   "cell_type": "code",
   "execution_count": 10,
   "metadata": {
    "colab": {
     "base_uri": "https://localhost:8080/"
    },
    "id": "XeLzYz-Q9vZu",
    "outputId": "96a6b26e-f7d7-4743-d069-0d11247d6b48"
   },
   "outputs": [
    {
     "data": {
      "text/plain": [
       "(2278490, 118314)"
      ]
     },
     "execution_count": 10,
     "metadata": {},
     "output_type": "execute_result"
    }
   ],
   "source": [
    "data_train.shape[0], data_test.shape[0]"
   ]
  },
  {
   "cell_type": "markdown",
   "metadata": {
    "id": "s-EbIqFl9vZu"
   },
   "source": [
    "# 1. Бейзлайны"
   ]
  },
  {
   "cell_type": "markdown",
   "metadata": {
    "id": "zico9PbA9vZv"
   },
   "source": [
    "Создадим датафрейм с покупками юзеров на тестовом датасете (последние 3 недели)"
   ]
  },
  {
   "cell_type": "code",
   "execution_count": 11,
   "metadata": {
    "colab": {
     "base_uri": "https://localhost:8080/",
     "height": 112
    },
    "id": "SE80oUkr9vZv",
    "outputId": "f079d487-200a-4ccc-8c3b-bd00f1eba4d1"
   },
   "outputs": [
    {
     "data": {
      "text/html": [
       "<div>\n",
       "<style scoped>\n",
       "    .dataframe tbody tr th:only-of-type {\n",
       "        vertical-align: middle;\n",
       "    }\n",
       "\n",
       "    .dataframe tbody tr th {\n",
       "        vertical-align: top;\n",
       "    }\n",
       "\n",
       "    .dataframe thead th {\n",
       "        text-align: right;\n",
       "    }\n",
       "</style>\n",
       "<table border=\"1\" class=\"dataframe\">\n",
       "  <thead>\n",
       "    <tr style=\"text-align: right;\">\n",
       "      <th></th>\n",
       "      <th>user_id</th>\n",
       "      <th>actual</th>\n",
       "    </tr>\n",
       "  </thead>\n",
       "  <tbody>\n",
       "    <tr>\n",
       "      <th>0</th>\n",
       "      <td>1</td>\n",
       "      <td>[821867, 834484, 856942, 865456, 889248, 90795...</td>\n",
       "    </tr>\n",
       "    <tr>\n",
       "      <th>1</th>\n",
       "      <td>3</td>\n",
       "      <td>[835476, 851057, 872021, 878302, 879948, 90963...</td>\n",
       "    </tr>\n",
       "  </tbody>\n",
       "</table>\n",
       "</div>"
      ],
      "text/plain": [
       "   user_id                                             actual\n",
       "0        1  [821867, 834484, 856942, 865456, 889248, 90795...\n",
       "1        3  [835476, 851057, 872021, 878302, 879948, 90963..."
      ]
     },
     "execution_count": 11,
     "metadata": {},
     "output_type": "execute_result"
    }
   ],
   "source": [
    "result = data_test.groupby('user_id')['item_id'].unique().reset_index()\n",
    "result.columns=['user_id', 'actual']\n",
    "result.head(2)"
   ]
  },
  {
   "cell_type": "code",
   "execution_count": 12,
   "metadata": {
    "colab": {
     "base_uri": "https://localhost:8080/"
    },
    "id": "lp52ulrH9vZw",
    "outputId": "5e1ec46c-d170-49e1-e903-fee1b602a297"
   },
   "outputs": [
    {
     "name": "stdout",
     "output_type": "stream",
     "text": [
      "В тестовом дата сете 2042 юзеров\n",
      "В тестовом дата сете 0 новых юзеров\n"
     ]
    }
   ],
   "source": [
    "test_users = result.shape[0]\n",
    "new_test_users = len(set(data_test['user_id']) - set(data_train['user_id']))\n",
    "\n",
    "print('В тестовом дата сете {} юзеров'.format(test_users))\n",
    "print('В тестовом дата сете {} новых юзеров'.format(new_test_users))"
   ]
  },
  {
   "cell_type": "markdown",
   "metadata": {
    "id": "eCEFlIj79vZx"
   },
   "source": [
    "### 1.1 Random recommendation"
   ]
  },
  {
   "cell_type": "code",
   "execution_count": 13,
   "metadata": {
    "id": "kgoRqSOq9vZx"
   },
   "outputs": [],
   "source": [
    "def random_recommendation(items, n=5):\n",
    "    \"\"\"Случайные рекоммендации\"\"\"\n",
    "    \n",
    "    items = np.array(items)\n",
    "    recs = np.random.choice(items, size=n, replace=False)\n",
    "    \n",
    "    return recs.tolist()"
   ]
  },
  {
   "cell_type": "code",
   "execution_count": 14,
   "metadata": {
    "colab": {
     "base_uri": "https://localhost:8080/",
     "height": 112
    },
    "id": "O8NTT8tw6EAA",
    "outputId": "234e8899-4353-4132-ac45-58981b53e7a6"
   },
   "outputs": [
    {
     "data": {
      "text/html": [
       "<div>\n",
       "<style scoped>\n",
       "    .dataframe tbody tr th:only-of-type {\n",
       "        vertical-align: middle;\n",
       "    }\n",
       "\n",
       "    .dataframe tbody tr th {\n",
       "        vertical-align: top;\n",
       "    }\n",
       "\n",
       "    .dataframe thead th {\n",
       "        text-align: right;\n",
       "    }\n",
       "</style>\n",
       "<table border=\"1\" class=\"dataframe\">\n",
       "  <thead>\n",
       "    <tr style=\"text-align: right;\">\n",
       "      <th></th>\n",
       "      <th>user_id</th>\n",
       "      <th>actual</th>\n",
       "    </tr>\n",
       "  </thead>\n",
       "  <tbody>\n",
       "    <tr>\n",
       "      <th>0</th>\n",
       "      <td>1</td>\n",
       "      <td>[821867, 834484, 856942, 865456, 889248, 90795...</td>\n",
       "    </tr>\n",
       "    <tr>\n",
       "      <th>1</th>\n",
       "      <td>3</td>\n",
       "      <td>[835476, 851057, 872021, 878302, 879948, 90963...</td>\n",
       "    </tr>\n",
       "  </tbody>\n",
       "</table>\n",
       "</div>"
      ],
      "text/plain": [
       "   user_id                                             actual\n",
       "0        1  [821867, 834484, 856942, 865456, 889248, 90795...\n",
       "1        3  [835476, 851057, 872021, 878302, 879948, 90963..."
      ]
     },
     "execution_count": 14,
     "metadata": {},
     "output_type": "execute_result"
    }
   ],
   "source": [
    "result.head(2)"
   ]
  },
  {
   "cell_type": "code",
   "execution_count": 15,
   "metadata": {
    "colab": {
     "base_uri": "https://localhost:8080/"
    },
    "id": "0Vu6NoWe9vZx",
    "outputId": "ba5feb1d-60b6-4327-b1fd-8387e7526935"
   },
   "outputs": [
    {
     "name": "stdout",
     "output_type": "stream",
     "text": [
      "Wall time: 4.36 s\n"
     ]
    }
   ],
   "source": [
    "%%time\n",
    "\n",
    "items = data_train.item_id.unique()\n",
    "\n",
    "result['random_recommendation'] = result['user_id'].apply(lambda x: random_recommendation(items, n=5))"
   ]
  },
  {
   "cell_type": "code",
   "execution_count": 16,
   "metadata": {
    "colab": {
     "base_uri": "https://localhost:8080/"
    },
    "id": "y5fmYf4H6iCQ",
    "outputId": "98e3e8f5-72a2-4979-95d3-99fdd3cf6205"
   },
   "outputs": [
    {
     "data": {
      "text/plain": [
       "array([ 1004906,  1033142,  1036325, ..., 15722756, 17170636, 15716393],\n",
       "      dtype=int64)"
      ]
     },
     "execution_count": 16,
     "metadata": {},
     "output_type": "execute_result"
    }
   ],
   "source": [
    "items"
   ]
  },
  {
   "cell_type": "code",
   "execution_count": 17,
   "metadata": {
    "colab": {
     "base_uri": "https://localhost:8080/",
     "height": 112
    },
    "id": "wR_NCxYz6Xzm",
    "outputId": "fec5af29-3122-433e-f9b9-20fbfc994a50"
   },
   "outputs": [
    {
     "data": {
      "text/html": [
       "<div>\n",
       "<style scoped>\n",
       "    .dataframe tbody tr th:only-of-type {\n",
       "        vertical-align: middle;\n",
       "    }\n",
       "\n",
       "    .dataframe tbody tr th {\n",
       "        vertical-align: top;\n",
       "    }\n",
       "\n",
       "    .dataframe thead th {\n",
       "        text-align: right;\n",
       "    }\n",
       "</style>\n",
       "<table border=\"1\" class=\"dataframe\">\n",
       "  <thead>\n",
       "    <tr style=\"text-align: right;\">\n",
       "      <th></th>\n",
       "      <th>user_id</th>\n",
       "      <th>actual</th>\n",
       "      <th>random_recommendation</th>\n",
       "    </tr>\n",
       "  </thead>\n",
       "  <tbody>\n",
       "    <tr>\n",
       "      <th>0</th>\n",
       "      <td>1</td>\n",
       "      <td>[821867, 834484, 856942, 865456, 889248, 90795...</td>\n",
       "      <td>[977677, 740677, 1538543, 865598, 9494091]</td>\n",
       "    </tr>\n",
       "    <tr>\n",
       "      <th>1</th>\n",
       "      <td>3</td>\n",
       "      <td>[835476, 851057, 872021, 878302, 879948, 90963...</td>\n",
       "      <td>[1480232, 9297310, 1930402, 13095004, 9297348]</td>\n",
       "    </tr>\n",
       "  </tbody>\n",
       "</table>\n",
       "</div>"
      ],
      "text/plain": [
       "   user_id                                             actual  \\\n",
       "0        1  [821867, 834484, 856942, 865456, 889248, 90795...   \n",
       "1        3  [835476, 851057, 872021, 878302, 879948, 90963...   \n",
       "\n",
       "                            random_recommendation  \n",
       "0      [977677, 740677, 1538543, 865598, 9494091]  \n",
       "1  [1480232, 9297310, 1930402, 13095004, 9297348]  "
      ]
     },
     "execution_count": 17,
     "metadata": {},
     "output_type": "execute_result"
    }
   ],
   "source": [
    "result.head(2)"
   ]
  },
  {
   "cell_type": "markdown",
   "metadata": {
    "id": "yRJKx-R69vZy"
   },
   "source": [
    "### 1.2 Popularity-based recommendation"
   ]
  },
  {
   "cell_type": "code",
   "execution_count": 18,
   "metadata": {
    "id": "aHQvqUra9vZy"
   },
   "outputs": [],
   "source": [
    "def popularity_recommendation(data, n=5):\n",
    "    \"\"\"Топ-n популярных товаров\"\"\"\n",
    "    \n",
    "    popular = data.groupby('item_id')['sales_value'].sum().reset_index()\n",
    "    popular.sort_values('sales_value', ascending=False, inplace=True)\n",
    "    \n",
    "    recs = popular.head(n).item_id\n",
    "    #print(recs)\n",
    "    return recs.tolist()"
   ]
  },
  {
   "cell_type": "code",
   "execution_count": 19,
   "metadata": {
    "colab": {
     "base_uri": "https://localhost:8080/"
    },
    "id": "-je5KKiB9vZz",
    "outputId": "8f289fab-fa7f-4c54-c7a7-ea89c84b51cb"
   },
   "outputs": [
    {
     "name": "stdout",
     "output_type": "stream",
     "text": [
      "Wall time: 179 ms\n"
     ]
    }
   ],
   "source": [
    "%%time\n",
    "\n",
    "# Можно так делать, так как рекомендация не зависит от юзера\n",
    "popular_recs = popularity_recommendation(data_train, n=5)\n",
    "\n",
    "result['popular_recommendation'] = result['user_id'].apply(lambda x: popular_recs)"
   ]
  },
  {
   "cell_type": "code",
   "execution_count": 20,
   "metadata": {
    "colab": {
     "base_uri": "https://localhost:8080/",
     "height": 112
    },
    "id": "tgnnNobc69N8",
    "outputId": "f426f377-34ac-475c-fb61-7b5753284ce9"
   },
   "outputs": [
    {
     "data": {
      "text/html": [
       "<div>\n",
       "<style scoped>\n",
       "    .dataframe tbody tr th:only-of-type {\n",
       "        vertical-align: middle;\n",
       "    }\n",
       "\n",
       "    .dataframe tbody tr th {\n",
       "        vertical-align: top;\n",
       "    }\n",
       "\n",
       "    .dataframe thead th {\n",
       "        text-align: right;\n",
       "    }\n",
       "</style>\n",
       "<table border=\"1\" class=\"dataframe\">\n",
       "  <thead>\n",
       "    <tr style=\"text-align: right;\">\n",
       "      <th></th>\n",
       "      <th>user_id</th>\n",
       "      <th>actual</th>\n",
       "      <th>random_recommendation</th>\n",
       "      <th>popular_recommendation</th>\n",
       "    </tr>\n",
       "  </thead>\n",
       "  <tbody>\n",
       "    <tr>\n",
       "      <th>0</th>\n",
       "      <td>1</td>\n",
       "      <td>[821867, 834484, 856942, 865456, 889248, 90795...</td>\n",
       "      <td>[977677, 740677, 1538543, 865598, 9494091]</td>\n",
       "      <td>[6534178, 6533889, 1029743, 6534166, 1082185]</td>\n",
       "    </tr>\n",
       "    <tr>\n",
       "      <th>1</th>\n",
       "      <td>3</td>\n",
       "      <td>[835476, 851057, 872021, 878302, 879948, 90963...</td>\n",
       "      <td>[1480232, 9297310, 1930402, 13095004, 9297348]</td>\n",
       "      <td>[6534178, 6533889, 1029743, 6534166, 1082185]</td>\n",
       "    </tr>\n",
       "  </tbody>\n",
       "</table>\n",
       "</div>"
      ],
      "text/plain": [
       "   user_id                                             actual  \\\n",
       "0        1  [821867, 834484, 856942, 865456, 889248, 90795...   \n",
       "1        3  [835476, 851057, 872021, 878302, 879948, 90963...   \n",
       "\n",
       "                            random_recommendation  \\\n",
       "0      [977677, 740677, 1538543, 865598, 9494091]   \n",
       "1  [1480232, 9297310, 1930402, 13095004, 9297348]   \n",
       "\n",
       "                          popular_recommendation  \n",
       "0  [6534178, 6533889, 1029743, 6534166, 1082185]  \n",
       "1  [6534178, 6533889, 1029743, 6534166, 1082185]  "
      ]
     },
     "execution_count": 20,
     "metadata": {},
     "output_type": "execute_result"
    }
   ],
   "source": [
    "result.head(2)"
   ]
  },
  {
   "cell_type": "markdown",
   "metadata": {
    "id": "tGWr4bBZ9vZz"
   },
   "source": [
    "### 1.3 Weighted random recommender"
   ]
  },
  {
   "cell_type": "markdown",
   "metadata": {
    "id": "wcaaZtCn9vZz"
   },
   "source": [
    "- Можно сэмплировать товары случайно, но пропорционально какому-либо весу\n",
    "- Например, прямопропорционально популярности. Вес = log(sales_sum товара)"
   ]
  },
  {
   "cell_type": "markdown",
   "metadata": {
    "id": "OoefrX4B9vZz"
   },
   "source": [
    "*Пример*  \n",
    "item_1 - 5, item_2 - 7, item_3 - 4  # / sum  \n",
    "item_1 - 5 / 16, item_2 - 7 / 16, item_3 - 4 / 16"
   ]
  },
  {
   "cell_type": "markdown",
   "metadata": {
    "id": "8mlFNnvyXtJU"
   },
   "source": [
    "**HW 02. Task 1**"
   ]
  },
  {
   "cell_type": "markdown",
   "metadata": {
    "id": "KhCpIGoqR7iz"
   },
   "source": [
    "Использован цикл для исключения дубликатов.\n",
    "random.choice по какой-то причине все же возвращает, скорее всего из-за учета весов."
   ]
  },
  {
   "cell_type": "code",
   "execution_count": 21,
   "metadata": {
    "id": "dM9N668F9vZ0"
   },
   "outputs": [],
   "source": [
    "def weighted_random_recommendation(items_weights, n=5):\n",
    "    \"\"\"Случайные рекоммендации\n",
    "    \n",
    "    Input\n",
    "    -----\n",
    "    items_weights: pd.DataFrame\n",
    "        Датафрейм со столбцами item_id, weight. Сумма weight по всем товарам = 1\n",
    "    \"\"\"\n",
    "    # Подсказка: необходимо модифицировать функцию random_recommendation()\n",
    "    # your_code\n",
    "    items = np.array(items_weights['item_id'])\n",
    "    #print(items)\n",
    "    weights = np.array(items_weights['norm'])\n",
    "    \n",
    "    #print(weights)\n",
    "    recs = []\n",
    "    while len(recs) < n:\n",
    "      item = np.random.choice(items, \n",
    "                            size=1, \n",
    "                            replace=False,\n",
    "                            p=weights)      \n",
    "      if item not in recs:\n",
    "        recs.append(item)\n",
    "          \n",
    "    return recs"
   ]
  },
  {
   "cell_type": "markdown",
   "metadata": {
    "id": "W6f5zciRSYiH"
   },
   "source": [
    "В качестве веса принято произведение количества покупок на объем покупки. \n",
    "И затем веса приведены к сумме 1."
   ]
  },
  {
   "cell_type": "code",
   "execution_count": 22,
   "metadata": {
    "colab": {
     "base_uri": "https://localhost:8080/",
     "height": 206
    },
    "id": "34Yad56_E_xU",
    "outputId": "dec5e5e2-2986-48b2-c830-73f0d40f8217"
   },
   "outputs": [
    {
     "data": {
      "text/html": [
       "<div>\n",
       "<style scoped>\n",
       "    .dataframe tbody tr th:only-of-type {\n",
       "        vertical-align: middle;\n",
       "    }\n",
       "\n",
       "    .dataframe tbody tr th {\n",
       "        vertical-align: top;\n",
       "    }\n",
       "\n",
       "    .dataframe thead th {\n",
       "        text-align: right;\n",
       "    }\n",
       "</style>\n",
       "<table border=\"1\" class=\"dataframe\">\n",
       "  <thead>\n",
       "    <tr style=\"text-align: right;\">\n",
       "      <th></th>\n",
       "      <th>user_id</th>\n",
       "      <th>basket_id</th>\n",
       "      <th>day</th>\n",
       "      <th>item_id</th>\n",
       "      <th>quantity</th>\n",
       "      <th>sales_value</th>\n",
       "      <th>store_id</th>\n",
       "      <th>retail_disc</th>\n",
       "      <th>trans_time</th>\n",
       "      <th>week_no</th>\n",
       "      <th>coupon_disc</th>\n",
       "      <th>coupon_match_disc</th>\n",
       "      <th>weight</th>\n",
       "    </tr>\n",
       "  </thead>\n",
       "  <tbody>\n",
       "    <tr>\n",
       "      <th>0</th>\n",
       "      <td>2375</td>\n",
       "      <td>26984851472</td>\n",
       "      <td>1</td>\n",
       "      <td>1004906</td>\n",
       "      <td>1</td>\n",
       "      <td>1.39</td>\n",
       "      <td>364</td>\n",
       "      <td>-0.60</td>\n",
       "      <td>1631</td>\n",
       "      <td>1</td>\n",
       "      <td>0.0</td>\n",
       "      <td>0.0</td>\n",
       "      <td>1.39</td>\n",
       "    </tr>\n",
       "    <tr>\n",
       "      <th>1</th>\n",
       "      <td>2375</td>\n",
       "      <td>26984851472</td>\n",
       "      <td>1</td>\n",
       "      <td>1033142</td>\n",
       "      <td>1</td>\n",
       "      <td>0.82</td>\n",
       "      <td>364</td>\n",
       "      <td>0.00</td>\n",
       "      <td>1631</td>\n",
       "      <td>1</td>\n",
       "      <td>0.0</td>\n",
       "      <td>0.0</td>\n",
       "      <td>0.82</td>\n",
       "    </tr>\n",
       "    <tr>\n",
       "      <th>2</th>\n",
       "      <td>2375</td>\n",
       "      <td>26984851472</td>\n",
       "      <td>1</td>\n",
       "      <td>1036325</td>\n",
       "      <td>1</td>\n",
       "      <td>0.99</td>\n",
       "      <td>364</td>\n",
       "      <td>-0.30</td>\n",
       "      <td>1631</td>\n",
       "      <td>1</td>\n",
       "      <td>0.0</td>\n",
       "      <td>0.0</td>\n",
       "      <td>0.99</td>\n",
       "    </tr>\n",
       "    <tr>\n",
       "      <th>3</th>\n",
       "      <td>2375</td>\n",
       "      <td>26984851472</td>\n",
       "      <td>1</td>\n",
       "      <td>1082185</td>\n",
       "      <td>1</td>\n",
       "      <td>1.21</td>\n",
       "      <td>364</td>\n",
       "      <td>0.00</td>\n",
       "      <td>1631</td>\n",
       "      <td>1</td>\n",
       "      <td>0.0</td>\n",
       "      <td>0.0</td>\n",
       "      <td>1.21</td>\n",
       "    </tr>\n",
       "    <tr>\n",
       "      <th>4</th>\n",
       "      <td>2375</td>\n",
       "      <td>26984851472</td>\n",
       "      <td>1</td>\n",
       "      <td>8160430</td>\n",
       "      <td>1</td>\n",
       "      <td>1.50</td>\n",
       "      <td>364</td>\n",
       "      <td>-0.39</td>\n",
       "      <td>1631</td>\n",
       "      <td>1</td>\n",
       "      <td>0.0</td>\n",
       "      <td>0.0</td>\n",
       "      <td>1.50</td>\n",
       "    </tr>\n",
       "  </tbody>\n",
       "</table>\n",
       "</div>"
      ],
      "text/plain": [
       "   user_id    basket_id  day  item_id  quantity  sales_value  store_id  \\\n",
       "0     2375  26984851472    1  1004906         1         1.39       364   \n",
       "1     2375  26984851472    1  1033142         1         0.82       364   \n",
       "2     2375  26984851472    1  1036325         1         0.99       364   \n",
       "3     2375  26984851472    1  1082185         1         1.21       364   \n",
       "4     2375  26984851472    1  8160430         1         1.50       364   \n",
       "\n",
       "   retail_disc  trans_time  week_no  coupon_disc  coupon_match_disc  weight  \n",
       "0        -0.60        1631        1          0.0                0.0    1.39  \n",
       "1         0.00        1631        1          0.0                0.0    0.82  \n",
       "2        -0.30        1631        1          0.0                0.0    0.99  \n",
       "3         0.00        1631        1          0.0                0.0    1.21  \n",
       "4        -0.39        1631        1          0.0                0.0    1.50  "
      ]
     },
     "execution_count": 22,
     "metadata": {},
     "output_type": "execute_result"
    }
   ],
   "source": [
    "weighted_df = data_train.copy()\n",
    "weighted_df['weight'] = weighted_df['quantity'] * weighted_df['sales_value']\n",
    "weighted_df.head()"
   ]
  },
  {
   "cell_type": "code",
   "execution_count": 23,
   "metadata": {
    "id": "cf7racd-IDFD"
   },
   "outputs": [],
   "source": [
    "weighted_df['norm'] = weighted_df['weight']/weighted_df['weight'].sum()"
   ]
  },
  {
   "cell_type": "code",
   "execution_count": 24,
   "metadata": {
    "colab": {
     "base_uri": "https://localhost:8080/",
     "height": 206
    },
    "id": "5uqsSH3AJZWR",
    "outputId": "02c26489-2c84-4781-969d-a2b31d445d78"
   },
   "outputs": [
    {
     "data": {
      "text/html": [
       "<div>\n",
       "<style scoped>\n",
       "    .dataframe tbody tr th:only-of-type {\n",
       "        vertical-align: middle;\n",
       "    }\n",
       "\n",
       "    .dataframe tbody tr th {\n",
       "        vertical-align: top;\n",
       "    }\n",
       "\n",
       "    .dataframe thead th {\n",
       "        text-align: right;\n",
       "    }\n",
       "</style>\n",
       "<table border=\"1\" class=\"dataframe\">\n",
       "  <thead>\n",
       "    <tr style=\"text-align: right;\">\n",
       "      <th></th>\n",
       "      <th>user_id</th>\n",
       "      <th>basket_id</th>\n",
       "      <th>day</th>\n",
       "      <th>item_id</th>\n",
       "      <th>quantity</th>\n",
       "      <th>sales_value</th>\n",
       "      <th>store_id</th>\n",
       "      <th>retail_disc</th>\n",
       "      <th>trans_time</th>\n",
       "      <th>week_no</th>\n",
       "      <th>coupon_disc</th>\n",
       "      <th>coupon_match_disc</th>\n",
       "      <th>weight</th>\n",
       "      <th>norm</th>\n",
       "    </tr>\n",
       "  </thead>\n",
       "  <tbody>\n",
       "    <tr>\n",
       "      <th>0</th>\n",
       "      <td>2375</td>\n",
       "      <td>26984851472</td>\n",
       "      <td>1</td>\n",
       "      <td>1004906</td>\n",
       "      <td>1</td>\n",
       "      <td>1.39</td>\n",
       "      <td>364</td>\n",
       "      <td>-0.60</td>\n",
       "      <td>1631</td>\n",
       "      <td>1</td>\n",
       "      <td>0.0</td>\n",
       "      <td>0.0</td>\n",
       "      <td>1.39</td>\n",
       "      <td>1.917268e-10</td>\n",
       "    </tr>\n",
       "    <tr>\n",
       "      <th>1</th>\n",
       "      <td>2375</td>\n",
       "      <td>26984851472</td>\n",
       "      <td>1</td>\n",
       "      <td>1033142</td>\n",
       "      <td>1</td>\n",
       "      <td>0.82</td>\n",
       "      <td>364</td>\n",
       "      <td>0.00</td>\n",
       "      <td>1631</td>\n",
       "      <td>1</td>\n",
       "      <td>0.0</td>\n",
       "      <td>0.0</td>\n",
       "      <td>0.82</td>\n",
       "      <td>1.131050e-10</td>\n",
       "    </tr>\n",
       "    <tr>\n",
       "      <th>2</th>\n",
       "      <td>2375</td>\n",
       "      <td>26984851472</td>\n",
       "      <td>1</td>\n",
       "      <td>1036325</td>\n",
       "      <td>1</td>\n",
       "      <td>0.99</td>\n",
       "      <td>364</td>\n",
       "      <td>-0.30</td>\n",
       "      <td>1631</td>\n",
       "      <td>1</td>\n",
       "      <td>0.0</td>\n",
       "      <td>0.0</td>\n",
       "      <td>0.99</td>\n",
       "      <td>1.365536e-10</td>\n",
       "    </tr>\n",
       "    <tr>\n",
       "      <th>3</th>\n",
       "      <td>2375</td>\n",
       "      <td>26984851472</td>\n",
       "      <td>1</td>\n",
       "      <td>1082185</td>\n",
       "      <td>1</td>\n",
       "      <td>1.21</td>\n",
       "      <td>364</td>\n",
       "      <td>0.00</td>\n",
       "      <td>1631</td>\n",
       "      <td>1</td>\n",
       "      <td>0.0</td>\n",
       "      <td>0.0</td>\n",
       "      <td>1.21</td>\n",
       "      <td>1.668988e-10</td>\n",
       "    </tr>\n",
       "    <tr>\n",
       "      <th>4</th>\n",
       "      <td>2375</td>\n",
       "      <td>26984851472</td>\n",
       "      <td>1</td>\n",
       "      <td>8160430</td>\n",
       "      <td>1</td>\n",
       "      <td>1.50</td>\n",
       "      <td>364</td>\n",
       "      <td>-0.39</td>\n",
       "      <td>1631</td>\n",
       "      <td>1</td>\n",
       "      <td>0.0</td>\n",
       "      <td>0.0</td>\n",
       "      <td>1.50</td>\n",
       "      <td>2.068994e-10</td>\n",
       "    </tr>\n",
       "  </tbody>\n",
       "</table>\n",
       "</div>"
      ],
      "text/plain": [
       "   user_id    basket_id  day  item_id  quantity  sales_value  store_id  \\\n",
       "0     2375  26984851472    1  1004906         1         1.39       364   \n",
       "1     2375  26984851472    1  1033142         1         0.82       364   \n",
       "2     2375  26984851472    1  1036325         1         0.99       364   \n",
       "3     2375  26984851472    1  1082185         1         1.21       364   \n",
       "4     2375  26984851472    1  8160430         1         1.50       364   \n",
       "\n",
       "   retail_disc  trans_time  week_no  coupon_disc  coupon_match_disc  weight  \\\n",
       "0        -0.60        1631        1          0.0                0.0    1.39   \n",
       "1         0.00        1631        1          0.0                0.0    0.82   \n",
       "2        -0.30        1631        1          0.0                0.0    0.99   \n",
       "3         0.00        1631        1          0.0                0.0    1.21   \n",
       "4        -0.39        1631        1          0.0                0.0    1.50   \n",
       "\n",
       "           norm  \n",
       "0  1.917268e-10  \n",
       "1  1.131050e-10  \n",
       "2  1.365536e-10  \n",
       "3  1.668988e-10  \n",
       "4  2.068994e-10  "
      ]
     },
     "execution_count": 24,
     "metadata": {},
     "output_type": "execute_result"
    }
   ],
   "source": [
    "weighted_df.head()"
   ]
  },
  {
   "cell_type": "code",
   "execution_count": 25,
   "metadata": {
    "colab": {
     "base_uri": "https://localhost:8080/"
    },
    "id": "WI3yDdEkL8Nq",
    "outputId": "50411b71-fb1c-4a1d-e179-d26c4161d3ab"
   },
   "outputs": [
    {
     "data": {
      "text/plain": [
       "1.0000000000000009"
      ]
     },
     "execution_count": 25,
     "metadata": {},
     "output_type": "execute_result"
    }
   ],
   "source": [
    "weighted_df['norm'].sum()"
   ]
  },
  {
   "cell_type": "code",
   "execution_count": 26,
   "metadata": {
    "colab": {
     "base_uri": "https://localhost:8080/"
    },
    "id": "SYX-brln9vZ0",
    "outputId": "f3309975-04be-4835-a27c-82f0abe29179"
   },
   "outputs": [
    {
     "name": "stdout",
     "output_type": "stream",
     "text": [
      "Wall time: 10.6 s\n"
     ]
    }
   ],
   "source": [
    "%%time\n",
    "\n",
    "# your_code\n",
    "random_weighted_recs = weighted_random_recommendation(weighted_df, n=10)"
   ]
  },
  {
   "cell_type": "markdown",
   "metadata": {
    "id": "_jRk5u2wSqbp"
   },
   "source": [
    "Результат подбора:"
   ]
  },
  {
   "cell_type": "code",
   "execution_count": 27,
   "metadata": {
    "colab": {
     "base_uri": "https://localhost:8080/"
    },
    "id": "joHsmgQfNWJ8",
    "outputId": "299227d8-8daa-4eb9-8c1b-6a22461ab0b3"
   },
   "outputs": [
    {
     "data": {
      "text/plain": [
       "[array([6534178], dtype=int64),\n",
       " array([6533889], dtype=int64),\n",
       " array([6544236], dtype=int64),\n",
       " array([6534166], dtype=int64),\n",
       " array([397896], dtype=int64),\n",
       " array([1404121], dtype=int64),\n",
       " array([964968], dtype=int64),\n",
       " array([480014], dtype=int64),\n",
       " array([1426702], dtype=int64),\n",
       " array([5703832], dtype=int64)]"
      ]
     },
     "execution_count": 27,
     "metadata": {},
     "output_type": "execute_result"
    }
   ],
   "source": [
    "random_weighted_recs"
   ]
  },
  {
   "cell_type": "markdown",
   "metadata": {
    "id": "aLDGc1Nn9vZ0"
   },
   "source": [
    "### Выводы по бейзлайнам\n",
    "- Фиксируют базовое качество;\n",
    "- Бейзлайны могут быть фильтрами;\n",
    "- Иногда бейзлайны лучше ML-модели"
   ]
  },
  {
   "cell_type": "markdown",
   "metadata": {
    "id": "2zSBHyu99vZ1"
   },
   "source": [
    "# 2. Детерминированные алгоритмы item-item"
   ]
  },
  {
   "cell_type": "markdown",
   "metadata": {
    "id": "l6pPSWlu9vZ1"
   },
   "source": [
    "## 2.1 Item-Item Recommender / ItemKNN"
   ]
  },
  {
   "cell_type": "markdown",
   "metadata": {
    "id": "hT5Ew6Q29vZ1"
   },
   "source": [
    "[user_item_matrix](https://drive.google.com/file/d/1AtgrATUQ3F60thVGTAN7bpHSSaSESzxP/view?usp=sharing)"
   ]
  },
  {
   "cell_type": "markdown",
   "metadata": {
    "id": "FVa3r6PZ9vZ1"
   },
   "source": [
    "То, что именно находится в матрице user-item нужно определять из бизнес-логики\n",
    "\n",
    "Варианты для нашего датасета(не исчерпывающий список):\n",
    "    - Факт покупки (0 / 1)\n",
    "    - Кол-во покупок (count)\n",
    "    - Сумма покупки, руб\n",
    "    - ...\n",
    "    \n",
    "**Детерминированные алгоритмы**:\n",
    "    - Предсказывают те числа, которые стоят в матрице\n",
    "\n",
    "**ML-алгоритмы (большинство)**:\n",
    "    - В качестве *таргетов* \"под капотом\" принимают 0 и 1 (в ячейке не 0 -> таргет 1)\n",
    "    - А абсолютные значения воспринимают как *веса ошибок*\n",
    "    \n",
    "*P.S.* На самом деле есть много трюков, как можно заполнять матрицу user-item. Об этом мы поговорим на следующих вебинарах"
   ]
  },
  {
   "cell_type": "markdown",
   "metadata": {
    "id": "aPc8RS8-9vZ2"
   },
   "source": [
    "**Как работает User-User Recommender**"
   ]
  },
  {
   "cell_type": "markdown",
   "metadata": {
    "id": "Fhhu1t-m9vZ2"
   },
   "source": [
    "[user_user_recommender](https://drive.google.com/file/d/1qg_ecgjNmymQtfNchzAwxdLCbDXga69Q/view?usp=sharing)"
   ]
  },
  {
   "cell_type": "markdown",
   "metadata": {
    "id": "RXnu2y0l9vZ2"
   },
   "source": [
    "*Шаг 1:* Ищем K ближайших юзеров к целевому юзеру  \n",
    "*Шаг 2*: predict \"скора\" товара = среднему \"скору\" этого товара у его соседей  \n",
    "*Шаг 3*: Сортируем товары по убыванию predict-ов и берем топ-k"
   ]
  },
  {
   "cell_type": "markdown",
   "metadata": {
    "id": "pHGqSI299vZ2"
   },
   "source": [
    "----\n",
    "**(!) Важно** \n",
    "- У item-item алгоритмов большая сложность predict ($O(I^2 log(I))$ или $O(I^3)$, в зависимости от реализации \n",
    "- Если в датасете много item_id, то item-item модели ОЧЕНЬ долго предсказывают. Со всеми товарами predict на тесте ~2 часа\n",
    "- Давайте возьмем из ~90к товаров только 5k самых популярных \n",
    "\n",
    "*P.S.*  Брать топ-Х популярных и рекомендовать только из них - очень популярная стратегия.   \n",
    "*P.P.S.*  В рекомендательных системах много таких трюков. Что-то подобное в курсе вы увидите еще не раз"
   ]
  },
  {
   "cell_type": "code",
   "execution_count": 28,
   "metadata": {
    "colab": {
     "base_uri": "https://localhost:8080/"
    },
    "id": "MW749FQA_ulQ",
    "outputId": "e1ba6d89-4720-4f94-c19a-25d57e410598"
   },
   "outputs": [
    {
     "data": {
      "text/plain": [
       "89051"
      ]
     },
     "execution_count": 28,
     "metadata": {},
     "output_type": "execute_result"
    }
   ],
   "source": [
    "data.item_id.nunique()"
   ]
  },
  {
   "cell_type": "code",
   "execution_count": 29,
   "metadata": {
    "colab": {
     "base_uri": "https://localhost:8080/",
     "height": 206
    },
    "id": "wDv-Z-go9vZ3",
    "outputId": "87590bbc-1ec2-48fa-ec76-3ac24a3edfbb"
   },
   "outputs": [
    {
     "data": {
      "text/html": [
       "<div>\n",
       "<style scoped>\n",
       "    .dataframe tbody tr th:only-of-type {\n",
       "        vertical-align: middle;\n",
       "    }\n",
       "\n",
       "    .dataframe tbody tr th {\n",
       "        vertical-align: top;\n",
       "    }\n",
       "\n",
       "    .dataframe thead th {\n",
       "        text-align: right;\n",
       "    }\n",
       "</style>\n",
       "<table border=\"1\" class=\"dataframe\">\n",
       "  <thead>\n",
       "    <tr style=\"text-align: right;\">\n",
       "      <th></th>\n",
       "      <th>item_id</th>\n",
       "      <th>n_sold</th>\n",
       "    </tr>\n",
       "  </thead>\n",
       "  <tbody>\n",
       "    <tr>\n",
       "      <th>0</th>\n",
       "      <td>25671</td>\n",
       "      <td>6</td>\n",
       "    </tr>\n",
       "    <tr>\n",
       "      <th>1</th>\n",
       "      <td>26081</td>\n",
       "      <td>1</td>\n",
       "    </tr>\n",
       "    <tr>\n",
       "      <th>2</th>\n",
       "      <td>26093</td>\n",
       "      <td>1</td>\n",
       "    </tr>\n",
       "    <tr>\n",
       "      <th>3</th>\n",
       "      <td>26190</td>\n",
       "      <td>1</td>\n",
       "    </tr>\n",
       "    <tr>\n",
       "      <th>4</th>\n",
       "      <td>26355</td>\n",
       "      <td>2</td>\n",
       "    </tr>\n",
       "  </tbody>\n",
       "</table>\n",
       "</div>"
      ],
      "text/plain": [
       "   item_id  n_sold\n",
       "0    25671       6\n",
       "1    26081       1\n",
       "2    26093       1\n",
       "3    26190       1\n",
       "4    26355       2"
      ]
     },
     "execution_count": 29,
     "metadata": {},
     "output_type": "execute_result"
    }
   ],
   "source": [
    "popularity = data_train.groupby('item_id')['quantity'].sum().reset_index()\n",
    "popularity.rename(columns={'quantity': 'n_sold'}, inplace=True)\n",
    "\n",
    "popularity.head()"
   ]
  },
  {
   "cell_type": "code",
   "execution_count": 30,
   "metadata": {
    "id": "x-wk3flC9vZ3"
   },
   "outputs": [],
   "source": [
    "top_5000 = popularity.sort_values('n_sold', ascending=False).head(5000).item_id.tolist()"
   ]
  },
  {
   "cell_type": "code",
   "execution_count": 31,
   "metadata": {
    "colab": {
     "base_uri": "https://localhost:8080/"
    },
    "id": "xCJgqs4lAGm6",
    "outputId": "62f04aa0-6039-4c56-b622-c7d8135999d6"
   },
   "outputs": [
    {
     "data": {
      "text/plain": [
       "5000"
      ]
     },
     "execution_count": 31,
     "metadata": {},
     "output_type": "execute_result"
    }
   ],
   "source": [
    "len(top_5000)"
   ]
  },
  {
   "cell_type": "code",
   "execution_count": 32,
   "metadata": {
    "colab": {
     "base_uri": "https://localhost:8080/",
     "height": 206
    },
    "id": "QbuCrSp0tmYj",
    "outputId": "82fda3f2-a926-488a-cda7-22b85b65ed46"
   },
   "outputs": [
    {
     "data": {
      "text/html": [
       "<div>\n",
       "<style scoped>\n",
       "    .dataframe tbody tr th:only-of-type {\n",
       "        vertical-align: middle;\n",
       "    }\n",
       "\n",
       "    .dataframe tbody tr th {\n",
       "        vertical-align: top;\n",
       "    }\n",
       "\n",
       "    .dataframe thead th {\n",
       "        text-align: right;\n",
       "    }\n",
       "</style>\n",
       "<table border=\"1\" class=\"dataframe\">\n",
       "  <thead>\n",
       "    <tr style=\"text-align: right;\">\n",
       "      <th></th>\n",
       "      <th>user_id</th>\n",
       "      <th>basket_id</th>\n",
       "      <th>day</th>\n",
       "      <th>item_id</th>\n",
       "      <th>quantity</th>\n",
       "      <th>sales_value</th>\n",
       "      <th>store_id</th>\n",
       "      <th>retail_disc</th>\n",
       "      <th>trans_time</th>\n",
       "      <th>week_no</th>\n",
       "      <th>coupon_disc</th>\n",
       "      <th>coupon_match_disc</th>\n",
       "    </tr>\n",
       "  </thead>\n",
       "  <tbody>\n",
       "    <tr>\n",
       "      <th>0</th>\n",
       "      <td>2375</td>\n",
       "      <td>26984851472</td>\n",
       "      <td>1</td>\n",
       "      <td>1004906</td>\n",
       "      <td>1</td>\n",
       "      <td>1.39</td>\n",
       "      <td>364</td>\n",
       "      <td>-0.60</td>\n",
       "      <td>1631</td>\n",
       "      <td>1</td>\n",
       "      <td>0.0</td>\n",
       "      <td>0.0</td>\n",
       "    </tr>\n",
       "    <tr>\n",
       "      <th>1</th>\n",
       "      <td>2375</td>\n",
       "      <td>26984851472</td>\n",
       "      <td>1</td>\n",
       "      <td>1033142</td>\n",
       "      <td>1</td>\n",
       "      <td>0.82</td>\n",
       "      <td>364</td>\n",
       "      <td>0.00</td>\n",
       "      <td>1631</td>\n",
       "      <td>1</td>\n",
       "      <td>0.0</td>\n",
       "      <td>0.0</td>\n",
       "    </tr>\n",
       "    <tr>\n",
       "      <th>2</th>\n",
       "      <td>2375</td>\n",
       "      <td>26984851472</td>\n",
       "      <td>1</td>\n",
       "      <td>1036325</td>\n",
       "      <td>1</td>\n",
       "      <td>0.99</td>\n",
       "      <td>364</td>\n",
       "      <td>-0.30</td>\n",
       "      <td>1631</td>\n",
       "      <td>1</td>\n",
       "      <td>0.0</td>\n",
       "      <td>0.0</td>\n",
       "    </tr>\n",
       "    <tr>\n",
       "      <th>3</th>\n",
       "      <td>2375</td>\n",
       "      <td>26984851472</td>\n",
       "      <td>1</td>\n",
       "      <td>1082185</td>\n",
       "      <td>1</td>\n",
       "      <td>1.21</td>\n",
       "      <td>364</td>\n",
       "      <td>0.00</td>\n",
       "      <td>1631</td>\n",
       "      <td>1</td>\n",
       "      <td>0.0</td>\n",
       "      <td>0.0</td>\n",
       "    </tr>\n",
       "    <tr>\n",
       "      <th>4</th>\n",
       "      <td>2375</td>\n",
       "      <td>26984851472</td>\n",
       "      <td>1</td>\n",
       "      <td>8160430</td>\n",
       "      <td>1</td>\n",
       "      <td>1.50</td>\n",
       "      <td>364</td>\n",
       "      <td>-0.39</td>\n",
       "      <td>1631</td>\n",
       "      <td>1</td>\n",
       "      <td>0.0</td>\n",
       "      <td>0.0</td>\n",
       "    </tr>\n",
       "  </tbody>\n",
       "</table>\n",
       "</div>"
      ],
      "text/plain": [
       "   user_id    basket_id  day  item_id  quantity  sales_value  store_id  \\\n",
       "0     2375  26984851472    1  1004906         1         1.39       364   \n",
       "1     2375  26984851472    1  1033142         1         0.82       364   \n",
       "2     2375  26984851472    1  1036325         1         0.99       364   \n",
       "3     2375  26984851472    1  1082185         1         1.21       364   \n",
       "4     2375  26984851472    1  8160430         1         1.50       364   \n",
       "\n",
       "   retail_disc  trans_time  week_no  coupon_disc  coupon_match_disc  \n",
       "0        -0.60        1631        1          0.0                0.0  \n",
       "1         0.00        1631        1          0.0                0.0  \n",
       "2        -0.30        1631        1          0.0                0.0  \n",
       "3         0.00        1631        1          0.0                0.0  \n",
       "4        -0.39        1631        1          0.0                0.0  "
      ]
     },
     "execution_count": 32,
     "metadata": {},
     "output_type": "execute_result"
    }
   ],
   "source": [
    "data_train.head()"
   ]
  },
  {
   "cell_type": "code",
   "execution_count": 34,
   "metadata": {
    "colab": {
     "base_uri": "https://localhost:8080/"
    },
    "id": "edGraUUqAxVS",
    "outputId": "8ea5071a-3c34-4d47-9dfd-27fa768fbef1"
   },
   "outputs": [
    {
     "name": "stderr",
     "output_type": "stream",
     "text": [
      "c:\\users\\пк\\appdata\\local\\programs\\python\\python39\\lib\\site-packages\\pandas\\core\\indexing.py:1720: SettingWithCopyWarning: \n",
      "A value is trying to be set on a copy of a slice from a DataFrame.\n",
      "Try using .loc[row_indexer,col_indexer] = value instead\n",
      "\n",
      "See the caveats in the documentation: https://pandas.pydata.org/pandas-docs/stable/user_guide/indexing.html#returning-a-view-versus-a-copy\n",
      "  self._setitem_single_column(loc, value, pi)\n"
     ]
    }
   ],
   "source": [
    "# Заведем фиктивный item_id (если юзер покупал товары из топ-5000, то он \"купил\" такой товар)\n",
    "data_train.loc[~data_train['item_id'].isin(top_5000), 'item_id'] = 999999"
   ]
  },
  {
   "cell_type": "code",
   "execution_count": 35,
   "metadata": {
    "colab": {
     "base_uri": "https://localhost:8080/"
    },
    "id": "rro35101Aywx",
    "outputId": "5174bfea-a390-4617-f335-49d023afc0bc"
   },
   "outputs": [
    {
     "data": {
      "text/plain": [
       "5001"
      ]
     },
     "execution_count": 35,
     "metadata": {},
     "output_type": "execute_result"
    }
   ],
   "source": [
    "data_train.item_id.nunique()"
   ]
  },
  {
   "cell_type": "code",
   "execution_count": 36,
   "metadata": {
    "colab": {
     "base_uri": "https://localhost:8080/",
     "height": 268
    },
    "id": "YgdpUhjj9vZ3",
    "outputId": "fa2742e8-67dd-495c-eaf2-04c5f0c6e2f9"
   },
   "outputs": [
    {
     "data": {
      "text/html": [
       "<div>\n",
       "<style scoped>\n",
       "    .dataframe tbody tr th:only-of-type {\n",
       "        vertical-align: middle;\n",
       "    }\n",
       "\n",
       "    .dataframe tbody tr th {\n",
       "        vertical-align: top;\n",
       "    }\n",
       "\n",
       "    .dataframe thead th {\n",
       "        text-align: right;\n",
       "    }\n",
       "</style>\n",
       "<table border=\"1\" class=\"dataframe\">\n",
       "  <thead>\n",
       "    <tr style=\"text-align: right;\">\n",
       "      <th>item_id</th>\n",
       "      <th>202291</th>\n",
       "      <th>397896</th>\n",
       "      <th>420647</th>\n",
       "      <th>480014</th>\n",
       "      <th>545926</th>\n",
       "      <th>707683</th>\n",
       "      <th>731106</th>\n",
       "      <th>818980</th>\n",
       "      <th>819063</th>\n",
       "      <th>819227</th>\n",
       "      <th>...</th>\n",
       "      <th>15778533</th>\n",
       "      <th>15831255</th>\n",
       "      <th>15926712</th>\n",
       "      <th>15926775</th>\n",
       "      <th>15926844</th>\n",
       "      <th>15926886</th>\n",
       "      <th>15927403</th>\n",
       "      <th>15927661</th>\n",
       "      <th>15927850</th>\n",
       "      <th>16809471</th>\n",
       "    </tr>\n",
       "    <tr>\n",
       "      <th>user_id</th>\n",
       "      <th></th>\n",
       "      <th></th>\n",
       "      <th></th>\n",
       "      <th></th>\n",
       "      <th></th>\n",
       "      <th></th>\n",
       "      <th></th>\n",
       "      <th></th>\n",
       "      <th></th>\n",
       "      <th></th>\n",
       "      <th></th>\n",
       "      <th></th>\n",
       "      <th></th>\n",
       "      <th></th>\n",
       "      <th></th>\n",
       "      <th></th>\n",
       "      <th></th>\n",
       "      <th></th>\n",
       "      <th></th>\n",
       "      <th></th>\n",
       "      <th></th>\n",
       "    </tr>\n",
       "  </thead>\n",
       "  <tbody>\n",
       "    <tr>\n",
       "      <th>1</th>\n",
       "      <td>0.0</td>\n",
       "      <td>0.0</td>\n",
       "      <td>0.0</td>\n",
       "      <td>0.0</td>\n",
       "      <td>0.0</td>\n",
       "      <td>0.0</td>\n",
       "      <td>0.0</td>\n",
       "      <td>0.0</td>\n",
       "      <td>0.0</td>\n",
       "      <td>0.0</td>\n",
       "      <td>...</td>\n",
       "      <td>0.0</td>\n",
       "      <td>0.0</td>\n",
       "      <td>0.0</td>\n",
       "      <td>0.0</td>\n",
       "      <td>1.0</td>\n",
       "      <td>0.0</td>\n",
       "      <td>0.0</td>\n",
       "      <td>0.0</td>\n",
       "      <td>0.0</td>\n",
       "      <td>0.0</td>\n",
       "    </tr>\n",
       "    <tr>\n",
       "      <th>2</th>\n",
       "      <td>0.0</td>\n",
       "      <td>0.0</td>\n",
       "      <td>0.0</td>\n",
       "      <td>0.0</td>\n",
       "      <td>0.0</td>\n",
       "      <td>0.0</td>\n",
       "      <td>0.0</td>\n",
       "      <td>0.0</td>\n",
       "      <td>0.0</td>\n",
       "      <td>0.0</td>\n",
       "      <td>...</td>\n",
       "      <td>0.0</td>\n",
       "      <td>0.0</td>\n",
       "      <td>0.0</td>\n",
       "      <td>0.0</td>\n",
       "      <td>0.0</td>\n",
       "      <td>0.0</td>\n",
       "      <td>0.0</td>\n",
       "      <td>0.0</td>\n",
       "      <td>0.0</td>\n",
       "      <td>0.0</td>\n",
       "    </tr>\n",
       "    <tr>\n",
       "      <th>3</th>\n",
       "      <td>0.0</td>\n",
       "      <td>0.0</td>\n",
       "      <td>0.0</td>\n",
       "      <td>0.0</td>\n",
       "      <td>0.0</td>\n",
       "      <td>0.0</td>\n",
       "      <td>0.0</td>\n",
       "      <td>0.0</td>\n",
       "      <td>0.0</td>\n",
       "      <td>0.0</td>\n",
       "      <td>...</td>\n",
       "      <td>0.0</td>\n",
       "      <td>0.0</td>\n",
       "      <td>0.0</td>\n",
       "      <td>0.0</td>\n",
       "      <td>0.0</td>\n",
       "      <td>0.0</td>\n",
       "      <td>0.0</td>\n",
       "      <td>0.0</td>\n",
       "      <td>0.0</td>\n",
       "      <td>0.0</td>\n",
       "    </tr>\n",
       "  </tbody>\n",
       "</table>\n",
       "<p>3 rows × 5001 columns</p>\n",
       "</div>"
      ],
      "text/plain": [
       "item_id  202291    397896    420647    480014    545926    707683    731106    \\\n",
       "user_id                                                                         \n",
       "1             0.0       0.0       0.0       0.0       0.0       0.0       0.0   \n",
       "2             0.0       0.0       0.0       0.0       0.0       0.0       0.0   \n",
       "3             0.0       0.0       0.0       0.0       0.0       0.0       0.0   \n",
       "\n",
       "item_id  818980    819063    819227    ...  15778533  15831255  15926712  \\\n",
       "user_id                                ...                                 \n",
       "1             0.0       0.0       0.0  ...       0.0       0.0       0.0   \n",
       "2             0.0       0.0       0.0  ...       0.0       0.0       0.0   \n",
       "3             0.0       0.0       0.0  ...       0.0       0.0       0.0   \n",
       "\n",
       "item_id  15926775  15926844  15926886  15927403  15927661  15927850  16809471  \n",
       "user_id                                                                        \n",
       "1             0.0       1.0       0.0       0.0       0.0       0.0       0.0  \n",
       "2             0.0       0.0       0.0       0.0       0.0       0.0       0.0  \n",
       "3             0.0       0.0       0.0       0.0       0.0       0.0       0.0  \n",
       "\n",
       "[3 rows x 5001 columns]"
      ]
     },
     "execution_count": 36,
     "metadata": {},
     "output_type": "execute_result"
    }
   ],
   "source": [
    "user_item_matrix = pd.pivot_table(data_train, \n",
    "                                  index='user_id', \n",
    "                                  columns='item_id', \n",
    "                                  values='quantity',\n",
    "                                  aggfunc='count', \n",
    "                                  fill_value=0\n",
    "                                 )\n",
    "\n",
    "user_item_matrix[user_item_matrix > 0] = 1 # так как в итоге хотим предсказать \n",
    "user_item_matrix = user_item_matrix.astype(float) # необходимый тип матрицы для implicit\n",
    "\n",
    "# переведем в формат saprse matrix\n",
    "sparse_user_item = csr_matrix(user_item_matrix).tocsr()\n",
    "\n",
    "user_item_matrix.head(3)"
   ]
  },
  {
   "cell_type": "code",
   "execution_count": 37,
   "metadata": {
    "colab": {
     "base_uri": "https://localhost:8080/"
    },
    "id": "-KLuD0KyBvsG",
    "outputId": "1e372352-23d8-4a27-b898-18c13944e357"
   },
   "outputs": [
    {
     "data": {
      "text/plain": [
       "<2499x5001 sparse matrix of type '<class 'numpy.float64'>'\n",
       "\twith 667080 stored elements in Compressed Sparse Row format>"
      ]
     },
     "execution_count": 37,
     "metadata": {},
     "output_type": "execute_result"
    }
   ],
   "source": [
    "sparse_user_item"
   ]
  },
  {
   "cell_type": "code",
   "execution_count": 38,
   "metadata": {
    "colab": {
     "base_uri": "https://localhost:8080/"
    },
    "id": "cHskXAUS9vZ4",
    "outputId": "a44f6df8-431d-4cb1-b9f8-080deae8a15d"
   },
   "outputs": [
    {
     "data": {
      "text/plain": [
       "(2499, 5001)"
      ]
     },
     "execution_count": 38,
     "metadata": {},
     "output_type": "execute_result"
    }
   ],
   "source": [
    "user_item_matrix.shape"
   ]
  },
  {
   "cell_type": "code",
   "execution_count": 39,
   "metadata": {
    "colab": {
     "base_uri": "https://localhost:8080/"
    },
    "id": "S40FKZOu9vZ4",
    "outputId": "4c1eee1f-636f-46bf-e57b-4058d12e7bb8"
   },
   "outputs": [
    {
     "data": {
      "text/plain": [
       "5.33770796861036"
      ]
     },
     "execution_count": 39,
     "metadata": {},
     "output_type": "execute_result"
    }
   ],
   "source": [
    "user_item_matrix.sum().sum() / (user_item_matrix.shape[0] * user_item_matrix.shape[1]) * 100"
   ]
  },
  {
   "cell_type": "code",
   "execution_count": 40,
   "metadata": {
    "id": "BE-rk3Yd9vZ4"
   },
   "outputs": [],
   "source": [
    "userids = user_item_matrix.index.values\n",
    "itemids = user_item_matrix.columns.values\n",
    "\n",
    "matrix_userids = np.arange(len(userids))\n",
    "matrix_itemids = np.arange(len(itemids))\n",
    "\n",
    "id_to_itemid = dict(zip(matrix_itemids, itemids))\n",
    "id_to_userid = dict(zip(matrix_userids, userids))\n",
    "\n",
    "itemid_to_id = dict(zip(itemids, matrix_itemids))\n",
    "userid_to_id = dict(zip(userids, matrix_userids))"
   ]
  },
  {
   "cell_type": "code",
   "execution_count": 41,
   "metadata": {
    "colab": {
     "base_uri": "https://localhost:8080/"
    },
    "id": "MUQPY0ylGK6p",
    "outputId": "f9287647-9b0a-4470-f485-eb85b35f613a"
   },
   "outputs": [
    {
     "data": {
      "text/plain": [
       "array([   0,    1,    2, ..., 4998, 4999, 5000])"
      ]
     },
     "execution_count": 41,
     "metadata": {},
     "output_type": "execute_result"
    }
   ],
   "source": [
    "matrix_itemids"
   ]
  },
  {
   "cell_type": "code",
   "execution_count": 42,
   "metadata": {
    "colab": {
     "base_uri": "https://localhost:8080/",
     "height": 519
    },
    "id": "u7IthsWBKsvQ",
    "outputId": "b7ee04c7-5a46-4e5a-ddb8-d21adfaa7059"
   },
   "outputs": [
    {
     "data": {
      "text/html": [
       "<div>\n",
       "<style scoped>\n",
       "    .dataframe tbody tr th:only-of-type {\n",
       "        vertical-align: middle;\n",
       "    }\n",
       "\n",
       "    .dataframe tbody tr th {\n",
       "        vertical-align: top;\n",
       "    }\n",
       "\n",
       "    .dataframe thead th {\n",
       "        text-align: right;\n",
       "    }\n",
       "</style>\n",
       "<table border=\"1\" class=\"dataframe\">\n",
       "  <thead>\n",
       "    <tr style=\"text-align: right;\">\n",
       "      <th>item_id</th>\n",
       "      <th>202291</th>\n",
       "      <th>397896</th>\n",
       "      <th>420647</th>\n",
       "      <th>480014</th>\n",
       "      <th>545926</th>\n",
       "      <th>707683</th>\n",
       "      <th>731106</th>\n",
       "      <th>818980</th>\n",
       "      <th>819063</th>\n",
       "      <th>819227</th>\n",
       "      <th>...</th>\n",
       "      <th>15778533</th>\n",
       "      <th>15831255</th>\n",
       "      <th>15926712</th>\n",
       "      <th>15926775</th>\n",
       "      <th>15926844</th>\n",
       "      <th>15926886</th>\n",
       "      <th>15927403</th>\n",
       "      <th>15927661</th>\n",
       "      <th>15927850</th>\n",
       "      <th>16809471</th>\n",
       "    </tr>\n",
       "    <tr>\n",
       "      <th>user_id</th>\n",
       "      <th></th>\n",
       "      <th></th>\n",
       "      <th></th>\n",
       "      <th></th>\n",
       "      <th></th>\n",
       "      <th></th>\n",
       "      <th></th>\n",
       "      <th></th>\n",
       "      <th></th>\n",
       "      <th></th>\n",
       "      <th></th>\n",
       "      <th></th>\n",
       "      <th></th>\n",
       "      <th></th>\n",
       "      <th></th>\n",
       "      <th></th>\n",
       "      <th></th>\n",
       "      <th></th>\n",
       "      <th></th>\n",
       "      <th></th>\n",
       "      <th></th>\n",
       "    </tr>\n",
       "  </thead>\n",
       "  <tbody>\n",
       "    <tr>\n",
       "      <th>1</th>\n",
       "      <td>0.0</td>\n",
       "      <td>0.0</td>\n",
       "      <td>0.0</td>\n",
       "      <td>0.0</td>\n",
       "      <td>0.0</td>\n",
       "      <td>0.0</td>\n",
       "      <td>0.0</td>\n",
       "      <td>0.0</td>\n",
       "      <td>0.0</td>\n",
       "      <td>0.0</td>\n",
       "      <td>...</td>\n",
       "      <td>0.0</td>\n",
       "      <td>0.0</td>\n",
       "      <td>0.0</td>\n",
       "      <td>0.0</td>\n",
       "      <td>1.0</td>\n",
       "      <td>0.0</td>\n",
       "      <td>0.0</td>\n",
       "      <td>0.0</td>\n",
       "      <td>0.0</td>\n",
       "      <td>0.0</td>\n",
       "    </tr>\n",
       "    <tr>\n",
       "      <th>2</th>\n",
       "      <td>0.0</td>\n",
       "      <td>0.0</td>\n",
       "      <td>0.0</td>\n",
       "      <td>0.0</td>\n",
       "      <td>0.0</td>\n",
       "      <td>0.0</td>\n",
       "      <td>0.0</td>\n",
       "      <td>0.0</td>\n",
       "      <td>0.0</td>\n",
       "      <td>0.0</td>\n",
       "      <td>...</td>\n",
       "      <td>0.0</td>\n",
       "      <td>0.0</td>\n",
       "      <td>0.0</td>\n",
       "      <td>0.0</td>\n",
       "      <td>0.0</td>\n",
       "      <td>0.0</td>\n",
       "      <td>0.0</td>\n",
       "      <td>0.0</td>\n",
       "      <td>0.0</td>\n",
       "      <td>0.0</td>\n",
       "    </tr>\n",
       "    <tr>\n",
       "      <th>3</th>\n",
       "      <td>0.0</td>\n",
       "      <td>0.0</td>\n",
       "      <td>0.0</td>\n",
       "      <td>0.0</td>\n",
       "      <td>0.0</td>\n",
       "      <td>0.0</td>\n",
       "      <td>0.0</td>\n",
       "      <td>0.0</td>\n",
       "      <td>0.0</td>\n",
       "      <td>0.0</td>\n",
       "      <td>...</td>\n",
       "      <td>0.0</td>\n",
       "      <td>0.0</td>\n",
       "      <td>0.0</td>\n",
       "      <td>0.0</td>\n",
       "      <td>0.0</td>\n",
       "      <td>0.0</td>\n",
       "      <td>0.0</td>\n",
       "      <td>0.0</td>\n",
       "      <td>0.0</td>\n",
       "      <td>0.0</td>\n",
       "    </tr>\n",
       "    <tr>\n",
       "      <th>4</th>\n",
       "      <td>0.0</td>\n",
       "      <td>0.0</td>\n",
       "      <td>0.0</td>\n",
       "      <td>0.0</td>\n",
       "      <td>0.0</td>\n",
       "      <td>0.0</td>\n",
       "      <td>0.0</td>\n",
       "      <td>0.0</td>\n",
       "      <td>0.0</td>\n",
       "      <td>0.0</td>\n",
       "      <td>...</td>\n",
       "      <td>0.0</td>\n",
       "      <td>0.0</td>\n",
       "      <td>0.0</td>\n",
       "      <td>0.0</td>\n",
       "      <td>0.0</td>\n",
       "      <td>0.0</td>\n",
       "      <td>0.0</td>\n",
       "      <td>0.0</td>\n",
       "      <td>0.0</td>\n",
       "      <td>0.0</td>\n",
       "    </tr>\n",
       "    <tr>\n",
       "      <th>5</th>\n",
       "      <td>0.0</td>\n",
       "      <td>0.0</td>\n",
       "      <td>0.0</td>\n",
       "      <td>0.0</td>\n",
       "      <td>0.0</td>\n",
       "      <td>0.0</td>\n",
       "      <td>0.0</td>\n",
       "      <td>0.0</td>\n",
       "      <td>0.0</td>\n",
       "      <td>0.0</td>\n",
       "      <td>...</td>\n",
       "      <td>0.0</td>\n",
       "      <td>0.0</td>\n",
       "      <td>0.0</td>\n",
       "      <td>0.0</td>\n",
       "      <td>0.0</td>\n",
       "      <td>0.0</td>\n",
       "      <td>0.0</td>\n",
       "      <td>0.0</td>\n",
       "      <td>0.0</td>\n",
       "      <td>0.0</td>\n",
       "    </tr>\n",
       "    <tr>\n",
       "      <th>...</th>\n",
       "      <td>...</td>\n",
       "      <td>...</td>\n",
       "      <td>...</td>\n",
       "      <td>...</td>\n",
       "      <td>...</td>\n",
       "      <td>...</td>\n",
       "      <td>...</td>\n",
       "      <td>...</td>\n",
       "      <td>...</td>\n",
       "      <td>...</td>\n",
       "      <td>...</td>\n",
       "      <td>...</td>\n",
       "      <td>...</td>\n",
       "      <td>...</td>\n",
       "      <td>...</td>\n",
       "      <td>...</td>\n",
       "      <td>...</td>\n",
       "      <td>...</td>\n",
       "      <td>...</td>\n",
       "      <td>...</td>\n",
       "      <td>...</td>\n",
       "    </tr>\n",
       "    <tr>\n",
       "      <th>2496</th>\n",
       "      <td>0.0</td>\n",
       "      <td>0.0</td>\n",
       "      <td>0.0</td>\n",
       "      <td>0.0</td>\n",
       "      <td>0.0</td>\n",
       "      <td>0.0</td>\n",
       "      <td>0.0</td>\n",
       "      <td>0.0</td>\n",
       "      <td>0.0</td>\n",
       "      <td>0.0</td>\n",
       "      <td>...</td>\n",
       "      <td>0.0</td>\n",
       "      <td>0.0</td>\n",
       "      <td>0.0</td>\n",
       "      <td>0.0</td>\n",
       "      <td>0.0</td>\n",
       "      <td>0.0</td>\n",
       "      <td>0.0</td>\n",
       "      <td>0.0</td>\n",
       "      <td>0.0</td>\n",
       "      <td>0.0</td>\n",
       "    </tr>\n",
       "    <tr>\n",
       "      <th>2497</th>\n",
       "      <td>0.0</td>\n",
       "      <td>0.0</td>\n",
       "      <td>0.0</td>\n",
       "      <td>0.0</td>\n",
       "      <td>0.0</td>\n",
       "      <td>0.0</td>\n",
       "      <td>0.0</td>\n",
       "      <td>0.0</td>\n",
       "      <td>0.0</td>\n",
       "      <td>0.0</td>\n",
       "      <td>...</td>\n",
       "      <td>0.0</td>\n",
       "      <td>1.0</td>\n",
       "      <td>0.0</td>\n",
       "      <td>0.0</td>\n",
       "      <td>0.0</td>\n",
       "      <td>0.0</td>\n",
       "      <td>0.0</td>\n",
       "      <td>0.0</td>\n",
       "      <td>0.0</td>\n",
       "      <td>0.0</td>\n",
       "    </tr>\n",
       "    <tr>\n",
       "      <th>2498</th>\n",
       "      <td>1.0</td>\n",
       "      <td>0.0</td>\n",
       "      <td>0.0</td>\n",
       "      <td>0.0</td>\n",
       "      <td>0.0</td>\n",
       "      <td>0.0</td>\n",
       "      <td>0.0</td>\n",
       "      <td>0.0</td>\n",
       "      <td>0.0</td>\n",
       "      <td>0.0</td>\n",
       "      <td>...</td>\n",
       "      <td>0.0</td>\n",
       "      <td>0.0</td>\n",
       "      <td>0.0</td>\n",
       "      <td>0.0</td>\n",
       "      <td>0.0</td>\n",
       "      <td>0.0</td>\n",
       "      <td>0.0</td>\n",
       "      <td>0.0</td>\n",
       "      <td>0.0</td>\n",
       "      <td>0.0</td>\n",
       "    </tr>\n",
       "    <tr>\n",
       "      <th>2499</th>\n",
       "      <td>0.0</td>\n",
       "      <td>0.0</td>\n",
       "      <td>0.0</td>\n",
       "      <td>0.0</td>\n",
       "      <td>0.0</td>\n",
       "      <td>0.0</td>\n",
       "      <td>0.0</td>\n",
       "      <td>0.0</td>\n",
       "      <td>0.0</td>\n",
       "      <td>0.0</td>\n",
       "      <td>...</td>\n",
       "      <td>0.0</td>\n",
       "      <td>0.0</td>\n",
       "      <td>0.0</td>\n",
       "      <td>0.0</td>\n",
       "      <td>0.0</td>\n",
       "      <td>0.0</td>\n",
       "      <td>0.0</td>\n",
       "      <td>0.0</td>\n",
       "      <td>0.0</td>\n",
       "      <td>0.0</td>\n",
       "    </tr>\n",
       "    <tr>\n",
       "      <th>2500</th>\n",
       "      <td>0.0</td>\n",
       "      <td>0.0</td>\n",
       "      <td>0.0</td>\n",
       "      <td>0.0</td>\n",
       "      <td>0.0</td>\n",
       "      <td>0.0</td>\n",
       "      <td>0.0</td>\n",
       "      <td>0.0</td>\n",
       "      <td>0.0</td>\n",
       "      <td>0.0</td>\n",
       "      <td>...</td>\n",
       "      <td>0.0</td>\n",
       "      <td>0.0</td>\n",
       "      <td>0.0</td>\n",
       "      <td>0.0</td>\n",
       "      <td>0.0</td>\n",
       "      <td>0.0</td>\n",
       "      <td>0.0</td>\n",
       "      <td>0.0</td>\n",
       "      <td>0.0</td>\n",
       "      <td>0.0</td>\n",
       "    </tr>\n",
       "  </tbody>\n",
       "</table>\n",
       "<p>2499 rows × 5001 columns</p>\n",
       "</div>"
      ],
      "text/plain": [
       "item_id  202291    397896    420647    480014    545926    707683    731106    \\\n",
       "user_id                                                                         \n",
       "1             0.0       0.0       0.0       0.0       0.0       0.0       0.0   \n",
       "2             0.0       0.0       0.0       0.0       0.0       0.0       0.0   \n",
       "3             0.0       0.0       0.0       0.0       0.0       0.0       0.0   \n",
       "4             0.0       0.0       0.0       0.0       0.0       0.0       0.0   \n",
       "5             0.0       0.0       0.0       0.0       0.0       0.0       0.0   \n",
       "...           ...       ...       ...       ...       ...       ...       ...   \n",
       "2496          0.0       0.0       0.0       0.0       0.0       0.0       0.0   \n",
       "2497          0.0       0.0       0.0       0.0       0.0       0.0       0.0   \n",
       "2498          1.0       0.0       0.0       0.0       0.0       0.0       0.0   \n",
       "2499          0.0       0.0       0.0       0.0       0.0       0.0       0.0   \n",
       "2500          0.0       0.0       0.0       0.0       0.0       0.0       0.0   \n",
       "\n",
       "item_id  818980    819063    819227    ...  15778533  15831255  15926712  \\\n",
       "user_id                                ...                                 \n",
       "1             0.0       0.0       0.0  ...       0.0       0.0       0.0   \n",
       "2             0.0       0.0       0.0  ...       0.0       0.0       0.0   \n",
       "3             0.0       0.0       0.0  ...       0.0       0.0       0.0   \n",
       "4             0.0       0.0       0.0  ...       0.0       0.0       0.0   \n",
       "5             0.0       0.0       0.0  ...       0.0       0.0       0.0   \n",
       "...           ...       ...       ...  ...       ...       ...       ...   \n",
       "2496          0.0       0.0       0.0  ...       0.0       0.0       0.0   \n",
       "2497          0.0       0.0       0.0  ...       0.0       1.0       0.0   \n",
       "2498          0.0       0.0       0.0  ...       0.0       0.0       0.0   \n",
       "2499          0.0       0.0       0.0  ...       0.0       0.0       0.0   \n",
       "2500          0.0       0.0       0.0  ...       0.0       0.0       0.0   \n",
       "\n",
       "item_id  15926775  15926844  15926886  15927403  15927661  15927850  16809471  \n",
       "user_id                                                                        \n",
       "1             0.0       1.0       0.0       0.0       0.0       0.0       0.0  \n",
       "2             0.0       0.0       0.0       0.0       0.0       0.0       0.0  \n",
       "3             0.0       0.0       0.0       0.0       0.0       0.0       0.0  \n",
       "4             0.0       0.0       0.0       0.0       0.0       0.0       0.0  \n",
       "5             0.0       0.0       0.0       0.0       0.0       0.0       0.0  \n",
       "...           ...       ...       ...       ...       ...       ...       ...  \n",
       "2496          0.0       0.0       0.0       0.0       0.0       0.0       0.0  \n",
       "2497          0.0       0.0       0.0       0.0       0.0       0.0       0.0  \n",
       "2498          0.0       0.0       0.0       0.0       0.0       0.0       0.0  \n",
       "2499          0.0       0.0       0.0       0.0       0.0       0.0       0.0  \n",
       "2500          0.0       0.0       0.0       0.0       0.0       0.0       0.0  \n",
       "\n",
       "[2499 rows x 5001 columns]"
      ]
     },
     "execution_count": 42,
     "metadata": {},
     "output_type": "execute_result"
    }
   ],
   "source": [
    "user_item_matrix"
   ]
  },
  {
   "cell_type": "code",
   "execution_count": 43,
   "metadata": {
    "colab": {
     "base_uri": "https://localhost:8080/",
     "height": 86,
     "referenced_widgets": [
      "03f19769f45f434f8164a155f1fecd55",
      "eeb6d93b70044f4c8893919aee9dfc3f",
      "f19f7bf2661e42e493baf13112dfdde7",
      "8bad809a4ead4a7f87fe5c29259d5f20",
      "b389cd837f17437da22c18b7b7b5cfde",
      "f35a34210e744e9296c6ca19e4733e12",
      "2e91756692654f85b0debf6cfb08c2f3",
      "14de56ceb5484a5ea2a60e6801f547cc",
      "6e6aed7b3b624b9bb31d365245dd2184",
      "691f307e9a0e42d1b41942c11d91d9a4",
      "0cad379d1f644c258f5340a599dd9329"
     ]
    },
    "id": "LI9gAo_m9vZ5",
    "outputId": "7c3685af-a769-4067-bdb8-4991d5bd640f"
   },
   "outputs": [
    {
     "data": {
      "application/vnd.jupyter.widget-view+json": {
       "model_id": "5a05d1cc58bf47a28800b2fafa6fb4c6",
       "version_major": 2,
       "version_minor": 0
      },
      "text/plain": [
       "  0%|          | 0/5001 [00:00<?, ?it/s]"
      ]
     },
     "metadata": {},
     "output_type": "display_data"
    },
    {
     "name": "stdout",
     "output_type": "stream",
     "text": [
      "Wall time: 913 ms\n"
     ]
    }
   ],
   "source": [
    "%%time\n",
    "\n",
    "model = ItemItemRecommender(K=5, num_threads=4) # K - кол-во билжайших соседей\n",
    "\n",
    "model.fit(csr_matrix(user_item_matrix).T.tocsr(),  # На вход item-user matrix\n",
    "          show_progress=True)"
   ]
  },
  {
   "cell_type": "code",
   "execution_count": 44,
   "metadata": {
    "colab": {
     "base_uri": "https://localhost:8080/"
    },
    "id": "BfLV5RPXETGD",
    "outputId": "1e6bda03-7988-4444-cd46-efc1e1df9591"
   },
   "outputs": [
    {
     "data": {
      "text/plain": [
       "count    118314.000000\n",
       "mean       1274.589499\n",
       "std         718.479723\n",
       "min           1.000000\n",
       "25%         679.000000\n",
       "50%        1282.000000\n",
       "75%        1917.000000\n",
       "max        2500.000000\n",
       "Name: user_id, dtype: float64"
      ]
     },
     "execution_count": 44,
     "metadata": {},
     "output_type": "execute_result"
    }
   ],
   "source": [
    "data_test.user_id.describe()"
   ]
  },
  {
   "cell_type": "code",
   "execution_count": 45,
   "metadata": {
    "colab": {
     "base_uri": "https://localhost:8080/"
    },
    "id": "eQM6q_r-EItY",
    "outputId": "7333f760-ac68-44fa-8428-ebf49a6cf563"
   },
   "outputs": [
    {
     "data": {
      "text/plain": [
       "12"
      ]
     },
     "execution_count": 45,
     "metadata": {},
     "output_type": "execute_result"
    }
   ],
   "source": [
    "userid_to_id[13]"
   ]
  },
  {
   "cell_type": "code",
   "execution_count": 46,
   "metadata": {
    "id": "iLuh78DsEBow"
   },
   "outputs": [],
   "source": [
    "recs = model.recommend(userid=userid_to_id[13],  # userid - id от 0 до N\n",
    "                        user_items=csr_matrix(user_item_matrix).tocsr(),   # на вход user-item matrix\n",
    "                        N=5, # кол-во рекомендаций \n",
    "                        filter_already_liked_items=False, \n",
    "                        filter_items=None, \n",
    "                        recalculate_user=True)"
   ]
  },
  {
   "cell_type": "code",
   "execution_count": 47,
   "metadata": {
    "colab": {
     "base_uri": "https://localhost:8080/",
     "height": 174
    },
    "id": "QrFlptpo9vZ5",
    "outputId": "1fcea6ef-6976-4ea1-9b4e-e603e523da8f"
   },
   "outputs": [
    {
     "data": {
      "text/plain": [
       "[(2381, 98195.0),\n",
       " (3408, 90149.0),\n",
       " (2148, 72193.0),\n",
       " (3587, 19332.0),\n",
       " (3947, 19126.0)]"
      ]
     },
     "execution_count": 47,
     "metadata": {},
     "output_type": "execute_result"
    }
   ],
   "source": [
    "recs"
   ]
  },
  {
   "cell_type": "code",
   "execution_count": 48,
   "metadata": {
    "id": "EGx2oEo1HU6P"
   },
   "outputs": [
    {
     "data": {
      "text/plain": [
       "2381"
      ]
     },
     "execution_count": 48,
     "metadata": {},
     "output_type": "execute_result"
    }
   ],
   "source": [
    "recs[0][0]"
   ]
  },
  {
   "cell_type": "code",
   "execution_count": 49,
   "metadata": {
    "id": "Ge8XBxJh9vZ5"
   },
   "outputs": [
    {
     "data": {
      "text/plain": [
       "[999999, 1082185, 981760, 1098066, 1127831]"
      ]
     },
     "execution_count": 49,
     "metadata": {},
     "output_type": "execute_result"
    }
   ],
   "source": [
    "[id_to_itemid[rec[0]] for rec in recs]"
   ]
  },
  {
   "cell_type": "code",
   "execution_count": 50,
   "metadata": {
    "id": "snffzi3CHpyV"
   },
   "outputs": [
    {
     "data": {
      "text/plain": [
       "2381"
      ]
     },
     "execution_count": 50,
     "metadata": {},
     "output_type": "execute_result"
    }
   ],
   "source": [
    "itemid_to_id[999999]"
   ]
  },
  {
   "cell_type": "code",
   "execution_count": 51,
   "metadata": {
    "colab": {
     "base_uri": "https://localhost:8080/",
     "height": 455
    },
    "id": "2x6k4S0b9vZ5",
    "outputId": "6c6e8ff3-819b-4a4c-c2b2-8c2464caa1f3"
   },
   "outputs": [
    {
     "name": "stdout",
     "output_type": "stream",
     "text": [
      "Wall time: 81 ms\n"
     ]
    }
   ],
   "source": [
    "%%time\n",
    "\n",
    "result['itemitem'] = result['user_id'].\\\n",
    "    apply(lambda x: [id_to_itemid[rec[0]] for rec in \n",
    "                    model.recommend(userid=userid_to_id[x], \n",
    "                                    user_items=sparse_user_item,   # на вход user-item matrix\n",
    "                                    N=5, \n",
    "                                    filter_already_liked_items=False, \n",
    "                                    filter_items=[itemid_to_id[999999]], \n",
    "                                    recalculate_user=True)\n",
    "                    ])"
   ]
  },
  {
   "cell_type": "code",
   "execution_count": 52,
   "metadata": {
    "colab": {
     "base_uri": "https://localhost:8080/",
     "height": 111
    },
    "id": "ha4xk7bE9vZ6",
    "outputId": "02d22bbc-4307-416a-ea66-80c0176ebe78"
   },
   "outputs": [
    {
     "data": {
      "text/html": [
       "<div>\n",
       "<style scoped>\n",
       "    .dataframe tbody tr th:only-of-type {\n",
       "        vertical-align: middle;\n",
       "    }\n",
       "\n",
       "    .dataframe tbody tr th {\n",
       "        vertical-align: top;\n",
       "    }\n",
       "\n",
       "    .dataframe thead th {\n",
       "        text-align: right;\n",
       "    }\n",
       "</style>\n",
       "<table border=\"1\" class=\"dataframe\">\n",
       "  <thead>\n",
       "    <tr style=\"text-align: right;\">\n",
       "      <th></th>\n",
       "      <th>user_id</th>\n",
       "      <th>actual</th>\n",
       "      <th>random_recommendation</th>\n",
       "      <th>popular_recommendation</th>\n",
       "      <th>itemitem</th>\n",
       "    </tr>\n",
       "  </thead>\n",
       "  <tbody>\n",
       "    <tr>\n",
       "      <th>0</th>\n",
       "      <td>1</td>\n",
       "      <td>[821867, 834484, 856942, 865456, 889248, 90795...</td>\n",
       "      <td>[977677, 740677, 1538543, 865598, 9494091]</td>\n",
       "      <td>[6534178, 6533889, 1029743, 6534166, 1082185]</td>\n",
       "      <td>[1082185, 981760, 1127831, 995242, 1098066]</td>\n",
       "    </tr>\n",
       "    <tr>\n",
       "      <th>1</th>\n",
       "      <td>3</td>\n",
       "      <td>[835476, 851057, 872021, 878302, 879948, 90963...</td>\n",
       "      <td>[1480232, 9297310, 1930402, 13095004, 9297348]</td>\n",
       "      <td>[6534178, 6533889, 1029743, 6534166, 1082185]</td>\n",
       "      <td>[1082185, 981760, 1098066, 995242, 826249]</td>\n",
       "    </tr>\n",
       "  </tbody>\n",
       "</table>\n",
       "</div>"
      ],
      "text/plain": [
       "   user_id                                             actual  \\\n",
       "0        1  [821867, 834484, 856942, 865456, 889248, 90795...   \n",
       "1        3  [835476, 851057, 872021, 878302, 879948, 90963...   \n",
       "\n",
       "                            random_recommendation  \\\n",
       "0      [977677, 740677, 1538543, 865598, 9494091]   \n",
       "1  [1480232, 9297310, 1930402, 13095004, 9297348]   \n",
       "\n",
       "                          popular_recommendation  \\\n",
       "0  [6534178, 6533889, 1029743, 6534166, 1082185]   \n",
       "1  [6534178, 6533889, 1029743, 6534166, 1082185]   \n",
       "\n",
       "                                      itemitem  \n",
       "0  [1082185, 981760, 1127831, 995242, 1098066]  \n",
       "1   [1082185, 981760, 1098066, 995242, 826249]  "
      ]
     },
     "execution_count": 52,
     "metadata": {},
     "output_type": "execute_result"
    }
   ],
   "source": [
    "result.head(2)"
   ]
  },
  {
   "cell_type": "markdown",
   "metadata": {
    "id": "mR05hf9n9vZ6"
   },
   "source": [
    "### 4.2 Косинусное сходство и CosineRecommender"
   ]
  },
  {
   "cell_type": "markdown",
   "metadata": {
    "id": "qYxN9E9n9vZ6"
   },
   "source": [
    "[cosine_similarity](https://drive.google.com/file/d/10kFby5sc2x3aObQHRRyF2Nn9KC2URyCS/view?usp=sharing)"
   ]
  },
  {
   "cell_type": "code",
   "execution_count": 53,
   "metadata": {
    "colab": {
     "base_uri": "https://localhost:8080/",
     "height": 83,
     "referenced_widgets": [
      "d53900b28f1a4a2997b8eef5184b7a1d",
      "18b1c5dd9b9c457a813fc62b94014298",
      "f2a07b219cfa49eba992d109e2091445",
      "b11ca4f2601d4f76979d576f5672d6d8",
      "59b2bc20c9524bd89b28c31ceb8b758f",
      "df55c2a2a6f64d89b55fab63b9301949",
      "e53fdcd3aa5b4660aadd6c97373e9b4c",
      "b9946f999c67477f83a09fe351d7e33b",
      "39c1b8c5d7214f4ea8aebbc4e84a3e8b",
      "66749085f4144dad9b4b1b87d396ca88",
      "a0ce05fbf2c14afaace3df10cb13be89",
      "1ee68d9228b44f07a21979999b8877f2"
     ]
    },
    "id": "fGEj5yjz9vZ6",
    "outputId": "fe54a561-3a0b-40af-ffb4-f01a2b7a5448"
   },
   "outputs": [
    {
     "data": {
      "application/vnd.jupyter.widget-view+json": {
       "model_id": "258cd3354baf4115965f00a633f4bd5e",
       "version_major": 2,
       "version_minor": 0
      },
      "text/plain": [
       "  0%|          | 0/5001 [00:00<?, ?it/s]"
      ]
     },
     "metadata": {},
     "output_type": "display_data"
    },
    {
     "name": "stdout",
     "output_type": "stream",
     "text": [
      "Wall time: 1.21 s\n"
     ]
    }
   ],
   "source": [
    "%%time\n",
    "\n",
    "model = CosineRecommender(K=5, num_threads=4) # K - кол-во билжайших соседей\n",
    "\n",
    "model.fit(csr_matrix(user_item_matrix).T.tocsr(), \n",
    "          show_progress=True)\n",
    "\n",
    "recs = model.recommend(userid=userid_to_id[1], \n",
    "                        user_items=csr_matrix(user_item_matrix).tocsr(),   # на вход user-item matrix\n",
    "                        N=5, \n",
    "                        filter_already_liked_items=False, \n",
    "                        filter_items=None, \n",
    "                        recalculate_user=False)"
   ]
  },
  {
   "cell_type": "code",
   "execution_count": 54,
   "metadata": {
    "colab": {
     "base_uri": "https://localhost:8080/"
    },
    "id": "_ndIJ-qVt8q7",
    "outputId": "0b5b319d-9e30-43e5-c148-377860272861"
   },
   "outputs": [
    {
     "data": {
      "text/plain": [
       "[(3408, 45.02431609428097),\n",
       " (2381, 23.57630378858287),\n",
       " (2148, 22.011829058022414),\n",
       " (3947, 17.7780787439075),\n",
       " (3587, 10.642785799960672)]"
      ]
     },
     "execution_count": 54,
     "metadata": {},
     "output_type": "execute_result"
    }
   ],
   "source": [
    "recs"
   ]
  },
  {
   "cell_type": "code",
   "execution_count": 55,
   "metadata": {
    "colab": {
     "base_uri": "https://localhost:8080/"
    },
    "id": "oOPqc0cw9vZ7",
    "outputId": "f8392b14-88a5-4fda-afaa-20a0cf39ed9e"
   },
   "outputs": [
    {
     "data": {
      "text/plain": [
       "[1082185, 999999, 981760, 1127831, 1098066]"
      ]
     },
     "execution_count": 55,
     "metadata": {},
     "output_type": "execute_result"
    }
   ],
   "source": [
    "[id_to_itemid[rec[0]] for rec in recs]"
   ]
  },
  {
   "cell_type": "code",
   "execution_count": 56,
   "metadata": {
    "colab": {
     "base_uri": "https://localhost:8080/"
    },
    "id": "Hz-bZN-G9vZ7",
    "outputId": "5864552a-1022-4d9d-b208-8c97cf13c3c9"
   },
   "outputs": [
    {
     "name": "stdout",
     "output_type": "stream",
     "text": [
      "Wall time: 102 ms\n"
     ]
    }
   ],
   "source": [
    "%%time\n",
    "\n",
    "result['cosine'] = result['user_id'].\\\n",
    "    apply(lambda x: [id_to_itemid[rec[0]] for rec in \n",
    "                    model.recommend(userid=userid_to_id[x], \n",
    "                                    user_items=sparse_user_item,   # на вход user-item matrix\n",
    "                                    N=5, \n",
    "                                    filter_already_liked_items=False, \n",
    "                                    filter_items=[itemid_to_id[999999]], \n",
    "                                    recalculate_user=True)])"
   ]
  },
  {
   "cell_type": "code",
   "execution_count": 57,
   "metadata": {
    "colab": {
     "base_uri": "https://localhost:8080/",
     "height": 111
    },
    "id": "gZmYX8GD9vZ8",
    "outputId": "9ed8ffc0-99eb-4245-b2ea-2c9562b1fff5"
   },
   "outputs": [
    {
     "data": {
      "text/html": [
       "<div>\n",
       "<style scoped>\n",
       "    .dataframe tbody tr th:only-of-type {\n",
       "        vertical-align: middle;\n",
       "    }\n",
       "\n",
       "    .dataframe tbody tr th {\n",
       "        vertical-align: top;\n",
       "    }\n",
       "\n",
       "    .dataframe thead th {\n",
       "        text-align: right;\n",
       "    }\n",
       "</style>\n",
       "<table border=\"1\" class=\"dataframe\">\n",
       "  <thead>\n",
       "    <tr style=\"text-align: right;\">\n",
       "      <th></th>\n",
       "      <th>user_id</th>\n",
       "      <th>actual</th>\n",
       "      <th>random_recommendation</th>\n",
       "      <th>popular_recommendation</th>\n",
       "      <th>itemitem</th>\n",
       "      <th>cosine</th>\n",
       "    </tr>\n",
       "  </thead>\n",
       "  <tbody>\n",
       "    <tr>\n",
       "      <th>0</th>\n",
       "      <td>1</td>\n",
       "      <td>[821867, 834484, 856942, 865456, 889248, 90795...</td>\n",
       "      <td>[977677, 740677, 1538543, 865598, 9494091]</td>\n",
       "      <td>[6534178, 6533889, 1029743, 6534166, 1082185]</td>\n",
       "      <td>[1082185, 981760, 1127831, 995242, 1098066]</td>\n",
       "      <td>[1082185, 981760, 1127831, 1098066, 961554]</td>\n",
       "    </tr>\n",
       "    <tr>\n",
       "      <th>1</th>\n",
       "      <td>3</td>\n",
       "      <td>[835476, 851057, 872021, 878302, 879948, 90963...</td>\n",
       "      <td>[1480232, 9297310, 1930402, 13095004, 9297348]</td>\n",
       "      <td>[6534178, 6533889, 1029743, 6534166, 1082185]</td>\n",
       "      <td>[1082185, 981760, 1098066, 995242, 826249]</td>\n",
       "      <td>[1082185, 1098066, 981760, 826249, 883404]</td>\n",
       "    </tr>\n",
       "  </tbody>\n",
       "</table>\n",
       "</div>"
      ],
      "text/plain": [
       "   user_id                                             actual  \\\n",
       "0        1  [821867, 834484, 856942, 865456, 889248, 90795...   \n",
       "1        3  [835476, 851057, 872021, 878302, 879948, 90963...   \n",
       "\n",
       "                            random_recommendation  \\\n",
       "0      [977677, 740677, 1538543, 865598, 9494091]   \n",
       "1  [1480232, 9297310, 1930402, 13095004, 9297348]   \n",
       "\n",
       "                          popular_recommendation  \\\n",
       "0  [6534178, 6533889, 1029743, 6534166, 1082185]   \n",
       "1  [6534178, 6533889, 1029743, 6534166, 1082185]   \n",
       "\n",
       "                                      itemitem  \\\n",
       "0  [1082185, 981760, 1127831, 995242, 1098066]   \n",
       "1   [1082185, 981760, 1098066, 995242, 826249]   \n",
       "\n",
       "                                        cosine  \n",
       "0  [1082185, 981760, 1127831, 1098066, 961554]  \n",
       "1   [1082185, 1098066, 981760, 826249, 883404]  "
      ]
     },
     "execution_count": 57,
     "metadata": {},
     "output_type": "execute_result"
    }
   ],
   "source": [
    "result.head(2)"
   ]
  },
  {
   "cell_type": "markdown",
   "metadata": {
    "id": "Vj7U9ZRc9vZ8"
   },
   "source": [
    "### 4.3 TF-IDF взвешивание и TFIDFRecommender"
   ]
  },
  {
   "cell_type": "markdown",
   "metadata": {
    "id": "eCmuksMp9vZ8"
   },
   "source": [
    "[tf_idf](https://drive.google.com/file/d/1jEGMzgOCn-dB6F1DqYRZ0RWU0Dcr6h5Q/view?usp=sharing)"
   ]
  },
  {
   "cell_type": "markdown",
   "metadata": {
    "id": "RpOFFJYd9vZ8"
   },
   "source": [
    "Если 2 юзера оба купили очень популярный товар, то это еще не значит,что они похожи   \n",
    "Если 2 юзера оба купили редкий товар, то они похожи\n",
    "\n",
    "Занижаем вес популярных товаров при расчете расстояний между пользователями"
   ]
  },
  {
   "cell_type": "code",
   "execution_count": 58,
   "metadata": {
    "colab": {
     "base_uri": "https://localhost:8080/",
     "height": 83,
     "referenced_widgets": [
      "cfec0af668844031ae87448b88ad70af",
      "294d039f558846a7a1fccb2b940ad4aa",
      "c7f30dce2f4f492ba382726159859b90",
      "134c5404c529448f842917125a277e0d",
      "64f50a70a9594ce889cc645643063dd3",
      "e9e77d4cef364d38a192c58817577d66",
      "bac0443395d842d89c5cacf38f998c02",
      "7831a21d238a4a1da14d102580ebdf78",
      "abf7361c73a44563bd2e30141668af2e",
      "4fe62e1e21fd4d64b32050632eeb0d59",
      "0993f1cd4f0c4a928b2b8d1a3a160dba",
      "a1b70d5a0e3b4b2b8675b3308611fa1d"
     ]
    },
    "id": "aRaqTtIz9vZ8",
    "outputId": "1e6cf249-1225-4bdb-a9b2-a9cf68c2b77b"
   },
   "outputs": [
    {
     "data": {
      "application/vnd.jupyter.widget-view+json": {
       "model_id": "eada52197dc746e1bf9f2918c377505c",
       "version_major": 2,
       "version_minor": 0
      },
      "text/plain": [
       "  0%|          | 0/5001 [00:00<?, ?it/s]"
      ]
     },
     "metadata": {},
     "output_type": "display_data"
    },
    {
     "name": "stdout",
     "output_type": "stream",
     "text": [
      "Wall time: 1.25 s\n"
     ]
    }
   ],
   "source": [
    "%%time\n",
    "\n",
    "model = TFIDFRecommender(K=5, num_threads=4) # K - кол-во билжайших соседей\n",
    "\n",
    "model.fit(csr_matrix(user_item_matrix).T.tocsr(), \n",
    "          show_progress=True)\n",
    "\n",
    "recs = model.recommend(userid=userid_to_id[1], \n",
    "                        user_items=csr_matrix(user_item_matrix).tocsr(),   # на вход user-item matrix\n",
    "                        N=5, \n",
    "                        filter_already_liked_items=False, \n",
    "                        filter_items=None, \n",
    "                        recalculate_user=False)"
   ]
  },
  {
   "cell_type": "code",
   "execution_count": 59,
   "metadata": {
    "colab": {
     "base_uri": "https://localhost:8080/"
    },
    "id": "49JPWsvu9vZ9",
    "outputId": "94c6ec55-b7a1-4c4b-969f-47a4632bb683"
   },
   "outputs": [
    {
     "data": {
      "text/plain": [
       "[1082185, 981760, 1127831, 999999, 1098066]"
      ]
     },
     "execution_count": 59,
     "metadata": {},
     "output_type": "execute_result"
    }
   ],
   "source": [
    "[id_to_itemid[rec[0]] for rec in recs]"
   ]
  },
  {
   "cell_type": "code",
   "execution_count": 60,
   "metadata": {
    "colab": {
     "base_uri": "https://localhost:8080/"
    },
    "id": "cVvo21F99vZ9",
    "outputId": "0eb4831b-2940-4f4e-a924-0c555ad3623d"
   },
   "outputs": [
    {
     "name": "stdout",
     "output_type": "stream",
     "text": [
      "Wall time: 100 ms\n"
     ]
    }
   ],
   "source": [
    "%%time\n",
    "\n",
    "result['tfidf'] = result['user_id'].\\\n",
    "    apply(lambda x: [id_to_itemid[rec[0]] for rec in \n",
    "                    model.recommend(userid=userid_to_id[x], \n",
    "                                    user_items=sparse_user_item,   # на вход user-item matrix\n",
    "                                    N=5, \n",
    "                                    filter_already_liked_items=False, \n",
    "                                    filter_items=[itemid_to_id[999999]], \n",
    "                                    recalculate_user=False)])"
   ]
  },
  {
   "cell_type": "code",
   "execution_count": 61,
   "metadata": {
    "colab": {
     "base_uri": "https://localhost:8080/",
     "height": 145
    },
    "id": "YghutiG29vZ9",
    "outputId": "2d4fd5f7-0def-4e49-9969-d277aaf6c5f3"
   },
   "outputs": [
    {
     "data": {
      "text/html": [
       "<div>\n",
       "<style scoped>\n",
       "    .dataframe tbody tr th:only-of-type {\n",
       "        vertical-align: middle;\n",
       "    }\n",
       "\n",
       "    .dataframe tbody tr th {\n",
       "        vertical-align: top;\n",
       "    }\n",
       "\n",
       "    .dataframe thead th {\n",
       "        text-align: right;\n",
       "    }\n",
       "</style>\n",
       "<table border=\"1\" class=\"dataframe\">\n",
       "  <thead>\n",
       "    <tr style=\"text-align: right;\">\n",
       "      <th></th>\n",
       "      <th>user_id</th>\n",
       "      <th>actual</th>\n",
       "      <th>random_recommendation</th>\n",
       "      <th>popular_recommendation</th>\n",
       "      <th>itemitem</th>\n",
       "      <th>cosine</th>\n",
       "      <th>tfidf</th>\n",
       "    </tr>\n",
       "  </thead>\n",
       "  <tbody>\n",
       "    <tr>\n",
       "      <th>0</th>\n",
       "      <td>1</td>\n",
       "      <td>[821867, 834484, 856942, 865456, 889248, 90795...</td>\n",
       "      <td>[977677, 740677, 1538543, 865598, 9494091]</td>\n",
       "      <td>[6534178, 6533889, 1029743, 6534166, 1082185]</td>\n",
       "      <td>[1082185, 981760, 1127831, 995242, 1098066]</td>\n",
       "      <td>[1082185, 981760, 1127831, 1098066, 961554]</td>\n",
       "      <td>[1082185, 981760, 1127831, 1098066, 961554]</td>\n",
       "    </tr>\n",
       "    <tr>\n",
       "      <th>1</th>\n",
       "      <td>3</td>\n",
       "      <td>[835476, 851057, 872021, 878302, 879948, 90963...</td>\n",
       "      <td>[1480232, 9297310, 1930402, 13095004, 9297348]</td>\n",
       "      <td>[6534178, 6533889, 1029743, 6534166, 1082185]</td>\n",
       "      <td>[1082185, 981760, 1098066, 995242, 826249]</td>\n",
       "      <td>[1082185, 1098066, 981760, 826249, 883404]</td>\n",
       "      <td>[1082185, 981760, 1098066, 826249, 883404]</td>\n",
       "    </tr>\n",
       "  </tbody>\n",
       "</table>\n",
       "</div>"
      ],
      "text/plain": [
       "   user_id                                             actual  \\\n",
       "0        1  [821867, 834484, 856942, 865456, 889248, 90795...   \n",
       "1        3  [835476, 851057, 872021, 878302, 879948, 90963...   \n",
       "\n",
       "                            random_recommendation  \\\n",
       "0      [977677, 740677, 1538543, 865598, 9494091]   \n",
       "1  [1480232, 9297310, 1930402, 13095004, 9297348]   \n",
       "\n",
       "                          popular_recommendation  \\\n",
       "0  [6534178, 6533889, 1029743, 6534166, 1082185]   \n",
       "1  [6534178, 6533889, 1029743, 6534166, 1082185]   \n",
       "\n",
       "                                      itemitem  \\\n",
       "0  [1082185, 981760, 1127831, 995242, 1098066]   \n",
       "1   [1082185, 981760, 1098066, 995242, 826249]   \n",
       "\n",
       "                                        cosine  \\\n",
       "0  [1082185, 981760, 1127831, 1098066, 961554]   \n",
       "1   [1082185, 1098066, 981760, 826249, 883404]   \n",
       "\n",
       "                                         tfidf  \n",
       "0  [1082185, 981760, 1127831, 1098066, 961554]  \n",
       "1   [1082185, 981760, 1098066, 826249, 883404]  "
      ]
     },
     "execution_count": 61,
     "metadata": {},
     "output_type": "execute_result"
    }
   ],
   "source": [
    "result.head(2)"
   ]
  },
  {
   "cell_type": "markdown",
   "metadata": {
    "id": "zDCrQwaC9vZ-"
   },
   "source": [
    "### 4.4 Трюк - по истории конкретного пользователя (K=1)"
   ]
  },
  {
   "cell_type": "code",
   "execution_count": 62,
   "metadata": {
    "colab": {
     "base_uri": "https://localhost:8080/",
     "height": 83,
     "referenced_widgets": [
      "5407098d4c374521b004ca4102d75b66",
      "558a140c59c449d0abecdb4a5867b11c",
      "843fa3533d444b2c837bf1868a1b9725",
      "594242898371447090d5374bbe1cfeea",
      "f9e7bbfb196a42e9b97626a339cea9e3",
      "ce1ada80ecb6427a857c8f0a1076c029",
      "8040d429311d49b99ba387f22916de18",
      "84a1798b354141ca8ad9c6f08733a686",
      "9a4183ed53364b81a8c7de94bba0c3f2",
      "5ed3fc64abf345a59b8348da0de36fbc",
      "0f0be173e5ad4caba3f5b3e72e994a57",
      "6daf7b32f7a446e6b3736a6294208728"
     ]
    },
    "id": "xGVGPqPt9vZ-",
    "outputId": "3e17b467-22d9-419d-a983-2d7398f3a727"
   },
   "outputs": [
    {
     "data": {
      "application/vnd.jupyter.widget-view+json": {
       "model_id": "4ca73e8d4e144081a5226d184e4062f7",
       "version_major": 2,
       "version_minor": 0
      },
      "text/plain": [
       "  0%|          | 0/5001 [00:00<?, ?it/s]"
      ]
     },
     "metadata": {},
     "output_type": "display_data"
    },
    {
     "name": "stdout",
     "output_type": "stream",
     "text": [
      "Wall time: 1.23 s\n"
     ]
    }
   ],
   "source": [
    "%%time\n",
    "\n",
    "model = ItemItemRecommender(K=1, num_threads=4) # K - кол-во билжайших соседей\n",
    "\n",
    "model.fit(csr_matrix(user_item_matrix).T.tocsr(), \n",
    "          show_progress=True)\n",
    "\n",
    "recs = model.recommend(userid=userid_to_id[1], \n",
    "                        user_items=csr_matrix(user_item_matrix).tocsr(),   # на вход user-item matrix\n",
    "                        N=5, \n",
    "                        filter_already_liked_items=False, \n",
    "                        filter_items=None, \n",
    "                        recalculate_user=False)"
   ]
  },
  {
   "cell_type": "code",
   "execution_count": 63,
   "metadata": {
    "colab": {
     "base_uri": "https://localhost:8080/"
    },
    "id": "We6GGKG19vZ-",
    "outputId": "089751bc-053b-4339-db7a-02c293be9191"
   },
   "outputs": [
    {
     "data": {
      "text/plain": [
       "[999999, 1082185, 1029743, 995785, 1004906]"
      ]
     },
     "execution_count": 63,
     "metadata": {},
     "output_type": "execute_result"
    }
   ],
   "source": [
    "[id_to_itemid[rec[0]] for rec in recs]"
   ]
  },
  {
   "cell_type": "code",
   "execution_count": 64,
   "metadata": {
    "colab": {
     "base_uri": "https://localhost:8080/"
    },
    "id": "2pfQuXZ99vZ-",
    "outputId": "8577ab20-609a-458f-851c-721f0fcc1780"
   },
   "outputs": [
    {
     "name": "stdout",
     "output_type": "stream",
     "text": [
      "Wall time: 56 ms\n"
     ]
    }
   ],
   "source": [
    "%%time\n",
    "\n",
    "result['own_purchases'] = result['user_id'].\\\n",
    "    apply(lambda x: [id_to_itemid[rec[0]] for rec in \n",
    "                    model.recommend(userid=userid_to_id[x], \n",
    "                                    user_items=sparse_user_item,   # на вход user-item matrix\n",
    "                                    N=5, \n",
    "                                    filter_already_liked_items=False, \n",
    "                                    filter_items=[itemid_to_id[999999]], \n",
    "                                    recalculate_user=False)])"
   ]
  },
  {
   "cell_type": "markdown",
   "metadata": {
    "id": "LTQY0VSq9vZ_"
   },
   "source": [
    "### 4.5 Измерим качество по precision@5"
   ]
  },
  {
   "cell_type": "code",
   "execution_count": 65,
   "metadata": {
    "colab": {
     "base_uri": "https://localhost:8080/",
     "height": 145
    },
    "id": "nkv9dWQX9vZ_",
    "outputId": "b1dd7b9b-2a98-4b71-cf79-5c972a2db532"
   },
   "outputs": [
    {
     "data": {
      "text/html": [
       "<div>\n",
       "<style scoped>\n",
       "    .dataframe tbody tr th:only-of-type {\n",
       "        vertical-align: middle;\n",
       "    }\n",
       "\n",
       "    .dataframe tbody tr th {\n",
       "        vertical-align: top;\n",
       "    }\n",
       "\n",
       "    .dataframe thead th {\n",
       "        text-align: right;\n",
       "    }\n",
       "</style>\n",
       "<table border=\"1\" class=\"dataframe\">\n",
       "  <thead>\n",
       "    <tr style=\"text-align: right;\">\n",
       "      <th></th>\n",
       "      <th>user_id</th>\n",
       "      <th>actual</th>\n",
       "      <th>random_recommendation</th>\n",
       "      <th>popular_recommendation</th>\n",
       "      <th>itemitem</th>\n",
       "      <th>cosine</th>\n",
       "      <th>tfidf</th>\n",
       "      <th>own_purchases</th>\n",
       "    </tr>\n",
       "  </thead>\n",
       "  <tbody>\n",
       "    <tr>\n",
       "      <th>0</th>\n",
       "      <td>1</td>\n",
       "      <td>[821867, 834484, 856942, 865456, 889248, 90795...</td>\n",
       "      <td>[977677, 740677, 1538543, 865598, 9494091]</td>\n",
       "      <td>[6534178, 6533889, 1029743, 6534166, 1082185]</td>\n",
       "      <td>[1082185, 981760, 1127831, 995242, 1098066]</td>\n",
       "      <td>[1082185, 981760, 1127831, 1098066, 961554]</td>\n",
       "      <td>[1082185, 981760, 1127831, 1098066, 961554]</td>\n",
       "      <td>[1082185, 1029743, 995785, 1004906, 1081177]</td>\n",
       "    </tr>\n",
       "    <tr>\n",
       "      <th>1</th>\n",
       "      <td>3</td>\n",
       "      <td>[835476, 851057, 872021, 878302, 879948, 90963...</td>\n",
       "      <td>[1480232, 9297310, 1930402, 13095004, 9297348]</td>\n",
       "      <td>[6534178, 6533889, 1029743, 6534166, 1082185]</td>\n",
       "      <td>[1082185, 981760, 1098066, 995242, 826249]</td>\n",
       "      <td>[1082185, 1098066, 981760, 826249, 883404]</td>\n",
       "      <td>[1082185, 981760, 1098066, 826249, 883404]</td>\n",
       "      <td>[1082185, 1098066, 6534178, 1127831, 1068719]</td>\n",
       "    </tr>\n",
       "  </tbody>\n",
       "</table>\n",
       "</div>"
      ],
      "text/plain": [
       "   user_id                                             actual  \\\n",
       "0        1  [821867, 834484, 856942, 865456, 889248, 90795...   \n",
       "1        3  [835476, 851057, 872021, 878302, 879948, 90963...   \n",
       "\n",
       "                            random_recommendation  \\\n",
       "0      [977677, 740677, 1538543, 865598, 9494091]   \n",
       "1  [1480232, 9297310, 1930402, 13095004, 9297348]   \n",
       "\n",
       "                          popular_recommendation  \\\n",
       "0  [6534178, 6533889, 1029743, 6534166, 1082185]   \n",
       "1  [6534178, 6533889, 1029743, 6534166, 1082185]   \n",
       "\n",
       "                                      itemitem  \\\n",
       "0  [1082185, 981760, 1127831, 995242, 1098066]   \n",
       "1   [1082185, 981760, 1098066, 995242, 826249]   \n",
       "\n",
       "                                        cosine  \\\n",
       "0  [1082185, 981760, 1127831, 1098066, 961554]   \n",
       "1   [1082185, 1098066, 981760, 826249, 883404]   \n",
       "\n",
       "                                         tfidf  \\\n",
       "0  [1082185, 981760, 1127831, 1098066, 961554]   \n",
       "1   [1082185, 981760, 1098066, 826249, 883404]   \n",
       "\n",
       "                                   own_purchases  \n",
       "0   [1082185, 1029743, 995785, 1004906, 1081177]  \n",
       "1  [1082185, 1098066, 6534178, 1127831, 1068719]  "
      ]
     },
     "execution_count": 65,
     "metadata": {},
     "output_type": "execute_result"
    }
   ],
   "source": [
    "result.head(2)"
   ]
  },
  {
   "cell_type": "code",
   "execution_count": 66,
   "metadata": {
    "id": "_BEMmvlL9vZ_"
   },
   "outputs": [],
   "source": [
    "result.to_csv('predictions_basic.csv', index=False)"
   ]
  },
  {
   "cell_type": "markdown",
   "metadata": {
    "id": "rdLw85cs9vZ_"
   },
   "source": [
    "Можно ли улучшить бейзлайны, если считать их на топ-5000 товарах?"
   ]
  },
  {
   "cell_type": "code",
   "execution_count": 72,
   "metadata": {
    "id": "OOF_PWnk9vaA"
   },
   "outputs": [
    {
     "data": {
      "text/plain": [
       "6          999999\n",
       "8          999999\n",
       "9          999999\n",
       "10         999999\n",
       "12         999999\n",
       "            ...  \n",
       "2282311    999999\n",
       "2282314    999999\n",
       "2282315    999999\n",
       "2282316    999999\n",
       "2282321    999999\n",
       "Name: item_id, Length: 829774, dtype: int64"
      ]
     },
     "execution_count": 72,
     "metadata": {},
     "output_type": "execute_result"
    }
   ],
   "source": [
    "# your_code\n",
    "# заведем еще один датасет, но с ограничением по присутсвию товаров только из 5000 самых популярных.\n",
    "# Весь остальной процессинг будет идти параллельно для обоих датасетов для сравнения метрик на выходе.\n",
    "data_train_5000 = data_train.copy()\n",
    "data_train_5000.loc[~data_train_5000['item_id'].isin(top_5000), 'item_id']"
   ]
  },
  {
   "cell_type": "code",
   "execution_count": 74,
   "metadata": {},
   "outputs": [
    {
     "data": {
      "text/html": [
       "<div>\n",
       "<style scoped>\n",
       "    .dataframe tbody tr th:only-of-type {\n",
       "        vertical-align: middle;\n",
       "    }\n",
       "\n",
       "    .dataframe tbody tr th {\n",
       "        vertical-align: top;\n",
       "    }\n",
       "\n",
       "    .dataframe thead th {\n",
       "        text-align: right;\n",
       "    }\n",
       "</style>\n",
       "<table border=\"1\" class=\"dataframe\">\n",
       "  <thead>\n",
       "    <tr style=\"text-align: right;\">\n",
       "      <th></th>\n",
       "      <th>user_id</th>\n",
       "      <th>basket_id</th>\n",
       "      <th>day</th>\n",
       "      <th>item_id</th>\n",
       "      <th>quantity</th>\n",
       "      <th>sales_value</th>\n",
       "      <th>store_id</th>\n",
       "      <th>retail_disc</th>\n",
       "      <th>trans_time</th>\n",
       "      <th>week_no</th>\n",
       "      <th>coupon_disc</th>\n",
       "      <th>coupon_match_disc</th>\n",
       "    </tr>\n",
       "  </thead>\n",
       "  <tbody>\n",
       "    <tr>\n",
       "      <th>0</th>\n",
       "      <td>2375</td>\n",
       "      <td>26984851472</td>\n",
       "      <td>1</td>\n",
       "      <td>1004906</td>\n",
       "      <td>1</td>\n",
       "      <td>1.39</td>\n",
       "      <td>364</td>\n",
       "      <td>-0.60</td>\n",
       "      <td>1631</td>\n",
       "      <td>1</td>\n",
       "      <td>0.0</td>\n",
       "      <td>0.0</td>\n",
       "    </tr>\n",
       "    <tr>\n",
       "      <th>1</th>\n",
       "      <td>2375</td>\n",
       "      <td>26984851472</td>\n",
       "      <td>1</td>\n",
       "      <td>1033142</td>\n",
       "      <td>1</td>\n",
       "      <td>0.82</td>\n",
       "      <td>364</td>\n",
       "      <td>0.00</td>\n",
       "      <td>1631</td>\n",
       "      <td>1</td>\n",
       "      <td>0.0</td>\n",
       "      <td>0.0</td>\n",
       "    </tr>\n",
       "    <tr>\n",
       "      <th>2</th>\n",
       "      <td>2375</td>\n",
       "      <td>26984851472</td>\n",
       "      <td>1</td>\n",
       "      <td>1036325</td>\n",
       "      <td>1</td>\n",
       "      <td>0.99</td>\n",
       "      <td>364</td>\n",
       "      <td>-0.30</td>\n",
       "      <td>1631</td>\n",
       "      <td>1</td>\n",
       "      <td>0.0</td>\n",
       "      <td>0.0</td>\n",
       "    </tr>\n",
       "    <tr>\n",
       "      <th>3</th>\n",
       "      <td>2375</td>\n",
       "      <td>26984851472</td>\n",
       "      <td>1</td>\n",
       "      <td>1082185</td>\n",
       "      <td>1</td>\n",
       "      <td>1.21</td>\n",
       "      <td>364</td>\n",
       "      <td>0.00</td>\n",
       "      <td>1631</td>\n",
       "      <td>1</td>\n",
       "      <td>0.0</td>\n",
       "      <td>0.0</td>\n",
       "    </tr>\n",
       "    <tr>\n",
       "      <th>4</th>\n",
       "      <td>2375</td>\n",
       "      <td>26984851472</td>\n",
       "      <td>1</td>\n",
       "      <td>8160430</td>\n",
       "      <td>1</td>\n",
       "      <td>1.50</td>\n",
       "      <td>364</td>\n",
       "      <td>-0.39</td>\n",
       "      <td>1631</td>\n",
       "      <td>1</td>\n",
       "      <td>0.0</td>\n",
       "      <td>0.0</td>\n",
       "    </tr>\n",
       "  </tbody>\n",
       "</table>\n",
       "</div>"
      ],
      "text/plain": [
       "   user_id    basket_id  day  item_id  quantity  sales_value  store_id  \\\n",
       "0     2375  26984851472    1  1004906         1         1.39       364   \n",
       "1     2375  26984851472    1  1033142         1         0.82       364   \n",
       "2     2375  26984851472    1  1036325         1         0.99       364   \n",
       "3     2375  26984851472    1  1082185         1         1.21       364   \n",
       "4     2375  26984851472    1  8160430         1         1.50       364   \n",
       "\n",
       "   retail_disc  trans_time  week_no  coupon_disc  coupon_match_disc  \n",
       "0        -0.60        1631        1          0.0                0.0  \n",
       "1         0.00        1631        1          0.0                0.0  \n",
       "2        -0.30        1631        1          0.0                0.0  \n",
       "3         0.00        1631        1          0.0                0.0  \n",
       "4        -0.39        1631        1          0.0                0.0  "
      ]
     },
     "execution_count": 74,
     "metadata": {},
     "output_type": "execute_result"
    }
   ],
   "source": [
    "data_train_5000.head()"
   ]
  },
  {
   "cell_type": "code",
   "execution_count": 76,
   "metadata": {},
   "outputs": [
    {
     "data": {
      "text/plain": [
       "(2278490, 12)"
      ]
     },
     "execution_count": 76,
     "metadata": {},
     "output_type": "execute_result"
    }
   ],
   "source": [
    "data_train_5000.shape"
   ]
  },
  {
   "cell_type": "markdown",
   "metadata": {},
   "source": [
    "Повторим тот же набор шагов, но для модифицированного датасета"
   ]
  },
  {
   "cell_type": "code",
   "execution_count": 77,
   "metadata": {},
   "outputs": [
    {
     "data": {
      "text/plain": [
       "5001"
      ]
     },
     "execution_count": 77,
     "metadata": {},
     "output_type": "execute_result"
    }
   ],
   "source": [
    "data_train_5000.item_id.nunique()"
   ]
  },
  {
   "cell_type": "markdown",
   "metadata": {},
   "source": [
    "### Item-Item"
   ]
  },
  {
   "cell_type": "code",
   "execution_count": 78,
   "metadata": {},
   "outputs": [],
   "source": [
    "user_item_matrix_5000 = pd.pivot_table(data_train_5000, \n",
    "                                  index='user_id', \n",
    "                                  columns='item_id', \n",
    "                                  values='quantity',\n",
    "                                  aggfunc='count', \n",
    "                                  fill_value=0\n",
    "                                 )"
   ]
  },
  {
   "cell_type": "code",
   "execution_count": 79,
   "metadata": {},
   "outputs": [],
   "source": [
    "user_item_matrix_5000[user_item_matrix_5000 > 0] = 1 # так как в итоге хотим предсказать \n",
    "user_item_matrix_5000 = user_item_matrix_5000.astype(float) # необходимый тип матрицы для implicit"
   ]
  },
  {
   "cell_type": "code",
   "execution_count": 80,
   "metadata": {},
   "outputs": [],
   "source": [
    "# переведем в формат saprse matrix\n",
    "sparse_user_item_5000 = csr_matrix(user_item_matrix_5000).tocsr()"
   ]
  },
  {
   "cell_type": "code",
   "execution_count": 85,
   "metadata": {},
   "outputs": [
    {
     "data": {
      "text/html": [
       "<div>\n",
       "<style scoped>\n",
       "    .dataframe tbody tr th:only-of-type {\n",
       "        vertical-align: middle;\n",
       "    }\n",
       "\n",
       "    .dataframe tbody tr th {\n",
       "        vertical-align: top;\n",
       "    }\n",
       "\n",
       "    .dataframe thead th {\n",
       "        text-align: right;\n",
       "    }\n",
       "</style>\n",
       "<table border=\"1\" class=\"dataframe\">\n",
       "  <thead>\n",
       "    <tr style=\"text-align: right;\">\n",
       "      <th>item_id</th>\n",
       "      <th>202291</th>\n",
       "      <th>397896</th>\n",
       "      <th>420647</th>\n",
       "      <th>480014</th>\n",
       "      <th>545926</th>\n",
       "      <th>707683</th>\n",
       "      <th>731106</th>\n",
       "      <th>818980</th>\n",
       "      <th>819063</th>\n",
       "      <th>819227</th>\n",
       "      <th>...</th>\n",
       "      <th>15778533</th>\n",
       "      <th>15831255</th>\n",
       "      <th>15926712</th>\n",
       "      <th>15926775</th>\n",
       "      <th>15926844</th>\n",
       "      <th>15926886</th>\n",
       "      <th>15927403</th>\n",
       "      <th>15927661</th>\n",
       "      <th>15927850</th>\n",
       "      <th>16809471</th>\n",
       "    </tr>\n",
       "    <tr>\n",
       "      <th>user_id</th>\n",
       "      <th></th>\n",
       "      <th></th>\n",
       "      <th></th>\n",
       "      <th></th>\n",
       "      <th></th>\n",
       "      <th></th>\n",
       "      <th></th>\n",
       "      <th></th>\n",
       "      <th></th>\n",
       "      <th></th>\n",
       "      <th></th>\n",
       "      <th></th>\n",
       "      <th></th>\n",
       "      <th></th>\n",
       "      <th></th>\n",
       "      <th></th>\n",
       "      <th></th>\n",
       "      <th></th>\n",
       "      <th></th>\n",
       "      <th></th>\n",
       "      <th></th>\n",
       "    </tr>\n",
       "  </thead>\n",
       "  <tbody>\n",
       "    <tr>\n",
       "      <th>1</th>\n",
       "      <td>0.0</td>\n",
       "      <td>0.0</td>\n",
       "      <td>0.0</td>\n",
       "      <td>0.0</td>\n",
       "      <td>0.0</td>\n",
       "      <td>0.0</td>\n",
       "      <td>0.0</td>\n",
       "      <td>0.0</td>\n",
       "      <td>0.0</td>\n",
       "      <td>0.0</td>\n",
       "      <td>...</td>\n",
       "      <td>0.0</td>\n",
       "      <td>0.0</td>\n",
       "      <td>0.0</td>\n",
       "      <td>0.0</td>\n",
       "      <td>1.0</td>\n",
       "      <td>0.0</td>\n",
       "      <td>0.0</td>\n",
       "      <td>0.0</td>\n",
       "      <td>0.0</td>\n",
       "      <td>0.0</td>\n",
       "    </tr>\n",
       "    <tr>\n",
       "      <th>2</th>\n",
       "      <td>0.0</td>\n",
       "      <td>0.0</td>\n",
       "      <td>0.0</td>\n",
       "      <td>0.0</td>\n",
       "      <td>0.0</td>\n",
       "      <td>0.0</td>\n",
       "      <td>0.0</td>\n",
       "      <td>0.0</td>\n",
       "      <td>0.0</td>\n",
       "      <td>0.0</td>\n",
       "      <td>...</td>\n",
       "      <td>0.0</td>\n",
       "      <td>0.0</td>\n",
       "      <td>0.0</td>\n",
       "      <td>0.0</td>\n",
       "      <td>0.0</td>\n",
       "      <td>0.0</td>\n",
       "      <td>0.0</td>\n",
       "      <td>0.0</td>\n",
       "      <td>0.0</td>\n",
       "      <td>0.0</td>\n",
       "    </tr>\n",
       "    <tr>\n",
       "      <th>3</th>\n",
       "      <td>0.0</td>\n",
       "      <td>0.0</td>\n",
       "      <td>0.0</td>\n",
       "      <td>0.0</td>\n",
       "      <td>0.0</td>\n",
       "      <td>0.0</td>\n",
       "      <td>0.0</td>\n",
       "      <td>0.0</td>\n",
       "      <td>0.0</td>\n",
       "      <td>0.0</td>\n",
       "      <td>...</td>\n",
       "      <td>0.0</td>\n",
       "      <td>0.0</td>\n",
       "      <td>0.0</td>\n",
       "      <td>0.0</td>\n",
       "      <td>0.0</td>\n",
       "      <td>0.0</td>\n",
       "      <td>0.0</td>\n",
       "      <td>0.0</td>\n",
       "      <td>0.0</td>\n",
       "      <td>0.0</td>\n",
       "    </tr>\n",
       "  </tbody>\n",
       "</table>\n",
       "<p>3 rows × 5001 columns</p>\n",
       "</div>"
      ],
      "text/plain": [
       "item_id  202291    397896    420647    480014    545926    707683    731106    \\\n",
       "user_id                                                                         \n",
       "1             0.0       0.0       0.0       0.0       0.0       0.0       0.0   \n",
       "2             0.0       0.0       0.0       0.0       0.0       0.0       0.0   \n",
       "3             0.0       0.0       0.0       0.0       0.0       0.0       0.0   \n",
       "\n",
       "item_id  818980    819063    819227    ...  15778533  15831255  15926712  \\\n",
       "user_id                                ...                                 \n",
       "1             0.0       0.0       0.0  ...       0.0       0.0       0.0   \n",
       "2             0.0       0.0       0.0  ...       0.0       0.0       0.0   \n",
       "3             0.0       0.0       0.0  ...       0.0       0.0       0.0   \n",
       "\n",
       "item_id  15926775  15926844  15926886  15927403  15927661  15927850  16809471  \n",
       "user_id                                                                        \n",
       "1             0.0       1.0       0.0       0.0       0.0       0.0       0.0  \n",
       "2             0.0       0.0       0.0       0.0       0.0       0.0       0.0  \n",
       "3             0.0       0.0       0.0       0.0       0.0       0.0       0.0  \n",
       "\n",
       "[3 rows x 5001 columns]"
      ]
     },
     "execution_count": 85,
     "metadata": {},
     "output_type": "execute_result"
    }
   ],
   "source": [
    "user_item_matrix_5000.head(3)"
   ]
  },
  {
   "cell_type": "code",
   "execution_count": 84,
   "metadata": {},
   "outputs": [
    {
     "data": {
      "text/plain": [
       "<2499x5001 sparse matrix of type '<class 'numpy.float64'>'\n",
       "\twith 667080 stored elements in Compressed Sparse Row format>"
      ]
     },
     "execution_count": 84,
     "metadata": {},
     "output_type": "execute_result"
    }
   ],
   "source": [
    "sparse_user_item_5000"
   ]
  },
  {
   "cell_type": "code",
   "execution_count": 86,
   "metadata": {},
   "outputs": [],
   "source": [
    "userids_5000 = user_item_matrix_5000.index.values\n",
    "itemids_5000 = user_item_matrix_5000.columns.values"
   ]
  },
  {
   "cell_type": "code",
   "execution_count": 87,
   "metadata": {},
   "outputs": [],
   "source": [
    "matrix_userids_5000 = np.arange(len(userids_5000))\n",
    "matrix_itemids_5000 = np.arange(len(itemids_5000))"
   ]
  },
  {
   "cell_type": "code",
   "execution_count": 88,
   "metadata": {},
   "outputs": [],
   "source": [
    "id_to_itemid_5000 = dict(zip(matrix_itemids_5000, itemids_5000))\n",
    "id_to_userid_5000 = dict(zip(matrix_userids_5000, userids_5000))"
   ]
  },
  {
   "cell_type": "code",
   "execution_count": 93,
   "metadata": {},
   "outputs": [
    {
     "data": {
      "application/vnd.jupyter.widget-view+json": {
       "model_id": "74773f9fda6f471eb910dbf2112ca445",
       "version_major": 2,
       "version_minor": 0
      },
      "text/plain": [
       "  0%|          | 0/5001 [00:00<?, ?it/s]"
      ]
     },
     "metadata": {},
     "output_type": "display_data"
    },
    {
     "name": "stdout",
     "output_type": "stream",
     "text": [
      "Wall time: 962 ms\n"
     ]
    }
   ],
   "source": [
    "%%time\n",
    "\n",
    "model_5000 = ItemItemRecommender(K=5, num_threads=4) # K - кол-во билжайших соседей\n",
    "\n",
    "model_5000.fit(csr_matrix(user_item_matrix_5000).T.tocsr(),  # На вход item-user matrix\n",
    "          show_progress=True)"
   ]
  },
  {
   "cell_type": "code",
   "execution_count": 94,
   "metadata": {},
   "outputs": [
    {
     "data": {
      "text/plain": [
       "count    118314.000000\n",
       "mean       1274.589499\n",
       "std         718.479723\n",
       "min           1.000000\n",
       "25%         679.000000\n",
       "50%        1282.000000\n",
       "75%        1917.000000\n",
       "max        2500.000000\n",
       "Name: user_id, dtype: float64"
      ]
     },
     "execution_count": 94,
     "metadata": {},
     "output_type": "execute_result"
    }
   ],
   "source": [
    "data_test.user_id.describe()"
   ]
  },
  {
   "cell_type": "code",
   "execution_count": 95,
   "metadata": {},
   "outputs": [],
   "source": [
    "# проводим рекомендации по всему датасету для модели, которая обучалась на 5000 самых популярных товаров\n",
    "recs_5000 = model_5000.recommend(userid=userid_to_id[13],  # userid - id от 0 до N\n",
    "                        user_items=csr_matrix(user_item_matrix_5000).tocsr(),   # на вход user-item matrix\n",
    "                        N=5, # кол-во рекомендаций \n",
    "                        filter_already_liked_items=False, \n",
    "                        filter_items=None, \n",
    "                        recalculate_user=True)\t"
   ]
  },
  {
   "cell_type": "code",
   "execution_count": 102,
   "metadata": {},
   "outputs": [],
   "source": [
    "result['itemitem_5000'] = result['user_id'].\\\n",
    "    apply(lambda x: [id_to_itemid[rec[0]] for rec in \n",
    "                    model_5000.recommend(userid=userid_to_id[x], \n",
    "                                    user_items=sparse_user_item,   # на вход user-item matrix\n",
    "                                    N=5, \n",
    "                                    filter_already_liked_items=False, \n",
    "                                    filter_items=None, \n",
    "                                    recalculate_user=True)\n",
    "                    ])"
   ]
  },
  {
   "cell_type": "markdown",
   "metadata": {},
   "source": [
    "### Косинусное сходство и CosineRecommender"
   ]
  },
  {
   "cell_type": "code",
   "execution_count": 104,
   "metadata": {},
   "outputs": [],
   "source": [
    "model_5000 = CosineRecommender(K=5, num_threads=4)"
   ]
  },
  {
   "cell_type": "code",
   "execution_count": 105,
   "metadata": {},
   "outputs": [
    {
     "data": {
      "application/vnd.jupyter.widget-view+json": {
       "model_id": "4382d5269f4a482188ebee53a509f719",
       "version_major": 2,
       "version_minor": 0
      },
      "text/plain": [
       "  0%|          | 0/5001 [00:00<?, ?it/s]"
      ]
     },
     "metadata": {},
     "output_type": "display_data"
    }
   ],
   "source": [
    "model_5000.fit(csr_matrix(user_item_matrix_5000).T.tocsr(), \n",
    "          show_progress=True)"
   ]
  },
  {
   "cell_type": "code",
   "execution_count": 106,
   "metadata": {},
   "outputs": [
    {
     "name": "stdout",
     "output_type": "stream",
     "text": [
      "Wall time: 0 ns\n"
     ]
    }
   ],
   "source": [
    "%time\n",
    "result['cosine_5000'] = result['user_id'].\\\n",
    "    apply(lambda x: [id_to_itemid_5000[rec[0]] for rec in \n",
    "                    model_5000.recommend(userid=userid_to_id[x], \n",
    "                                    user_items=sparse_user_item_5000,   # на вход user-item matrix\n",
    "                                    N=5, \n",
    "                                    filter_already_liked_items=False, \n",
    "                                    filter_items=None, \n",
    "                                    recalculate_user=True)])"
   ]
  },
  {
   "cell_type": "markdown",
   "metadata": {},
   "source": [
    "### По истории конкретного пользователя (K=1)"
   ]
  },
  {
   "cell_type": "code",
   "execution_count": 108,
   "metadata": {},
   "outputs": [
    {
     "data": {
      "application/vnd.jupyter.widget-view+json": {
       "model_id": "5986ed8c210244fda9411c984d799f76",
       "version_major": 2,
       "version_minor": 0
      },
      "text/plain": [
       "  0%|          | 0/5001 [00:00<?, ?it/s]"
      ]
     },
     "metadata": {},
     "output_type": "display_data"
    },
    {
     "name": "stdout",
     "output_type": "stream",
     "text": [
      "Wall time: 860 ms\n"
     ]
    }
   ],
   "source": [
    "%%time\n",
    "\n",
    "model_5000 = ItemItemRecommender(K=1, num_threads=4) # K - кол-во билжайших соседей\n",
    "\n",
    "model_5000.fit(csr_matrix(user_item_matrix_5000).T.tocsr(), \n",
    "          show_progress=True)"
   ]
  },
  {
   "cell_type": "code",
   "execution_count": 111,
   "metadata": {},
   "outputs": [
    {
     "name": "stdout",
     "output_type": "stream",
     "text": [
      "Wall time: 66 ms\n"
     ]
    }
   ],
   "source": [
    "%%time\n",
    "\n",
    "result['own_purchases_5000'] = result['user_id'].\\\n",
    "    apply(lambda x: [id_to_itemid_5000[rec[0]] for rec in \n",
    "                    model_5000.recommend(userid=userid_to_id[x], \n",
    "                                    user_items=sparse_user_item_5000,   # на вход user-item matrix\n",
    "                                    N=5, \n",
    "                                    filter_already_liked_items=False, \n",
    "                                    filter_items=None,\n",
    "                                    recalculate_user=False)])"
   ]
  },
  {
   "cell_type": "markdown",
   "metadata": {},
   "source": [
    "### tf-idf"
   ]
  },
  {
   "cell_type": "code",
   "execution_count": 122,
   "metadata": {},
   "outputs": [
    {
     "data": {
      "application/vnd.jupyter.widget-view+json": {
       "model_id": "3a1e640d71a84f82b4459e841dec2c9f",
       "version_major": 2,
       "version_minor": 0
      },
      "text/plain": [
       "  0%|          | 0/5001 [00:00<?, ?it/s]"
      ]
     },
     "metadata": {},
     "output_type": "display_data"
    },
    {
     "name": "stdout",
     "output_type": "stream",
     "text": [
      "Wall time: 972 ms\n"
     ]
    }
   ],
   "source": [
    "%%time\n",
    "\n",
    "model_5000 = TFIDFRecommender(K=5, num_threads=4) # K - кол-во билжайших соседей\n",
    "\n",
    "model_5000.fit(csr_matrix(user_item_matrix_5000).T.tocsr(), \n",
    "          show_progress=True)"
   ]
  },
  {
   "cell_type": "code",
   "execution_count": 123,
   "metadata": {},
   "outputs": [
    {
     "name": "stdout",
     "output_type": "stream",
     "text": [
      "Wall time: 111 ms\n"
     ]
    }
   ],
   "source": [
    "%%time\n",
    "\n",
    "result['tfidf_5000'] = result['user_id'].\\\n",
    "    apply(lambda x: [id_to_itemid_5000[rec[0]] for rec in \n",
    "                    model_5000.recommend(userid=userid_to_id[x], \n",
    "                                    user_items=sparse_user_item_5000,   # на вход user-item matrix\n",
    "                                    N=5, \n",
    "                                    filter_already_liked_items=False, \n",
    "                                    filter_items=None, \n",
    "                                    recalculate_user=False)])"
   ]
  },
  {
   "cell_type": "markdown",
   "metadata": {},
   "source": [
    "### Метрики"
   ]
  },
  {
   "cell_type": "code",
   "execution_count": 112,
   "metadata": {
    "id": "0tg9NFc79vaA"
   },
   "outputs": [],
   "source": [
    "# Функции из 1-ого вебинара\n",
    "import os, sys\n",
    "\n",
    "module_path = os.path.abspath(os.path.join(os.pardir))\n",
    "if module_path not in sys.path:\n",
    "    sys.path.append(module_path)\n",
    "    \n",
    "#from src.metrics import precision_at_k, recall_at_k"
   ]
  },
  {
   "cell_type": "code",
   "execution_count": 113,
   "metadata": {
    "id": "HJltW-oPzCwG"
   },
   "outputs": [],
   "source": [
    "def precision_at_k(recommended_list, bought_list, k=5):\n",
    "    \n",
    "    bought_list = np.array(bought_list)\n",
    "    recommended_list = np.array(recommended_list)\n",
    "    \n",
    "    bought_list = bought_list  # Тут нет [:k] !!\n",
    "    recommended_list = recommended_list[:k]\n",
    "    \n",
    "    flags = np.isin(bought_list, recommended_list)\n",
    "    \n",
    "    precision = flags.sum() / len(recommended_list)\n",
    "    \n",
    "    \n",
    "    return precision"
   ]
  },
  {
   "cell_type": "code",
   "execution_count": 114,
   "metadata": {
    "colab": {
     "base_uri": "https://localhost:8080/"
    },
    "id": "dBik--NC9vaA",
    "outputId": "973082aa-e3b9-411b-b49c-5b5ddd264b67"
   },
   "outputs": [
    {
     "data": {
      "text/plain": [
       "0.0005876591576885408"
      ]
     },
     "execution_count": 114,
     "metadata": {},
     "output_type": "execute_result"
    }
   ],
   "source": [
    "result.apply(lambda row: precision_at_k(row['random_recommendation'], row['actual']), axis=1).mean()"
   ]
  },
  {
   "cell_type": "code",
   "execution_count": 115,
   "metadata": {
    "colab": {
     "base_uri": "https://localhost:8080/"
    },
    "id": "dvPItQ0C9vaA",
    "outputId": "0b8f68ed-17a0-4235-893b-8cfcac0e6d6b"
   },
   "outputs": [
    {
     "data": {
      "text/plain": [
       "0.15523996082272282"
      ]
     },
     "execution_count": 115,
     "metadata": {},
     "output_type": "execute_result"
    }
   ],
   "source": [
    "result.apply(lambda row: precision_at_k(row['popular_recommendation'], row['actual']), axis=1).mean()"
   ]
  },
  {
   "cell_type": "code",
   "execution_count": 117,
   "metadata": {
    "colab": {
     "base_uri": "https://localhost:8080/"
    },
    "id": "lLs_cCQq9vaA",
    "outputId": "4d3f8dd0-8cff-42b9-a7e8-55b8d60cec05",
    "scrolled": true
   },
   "outputs": [
    {
     "data": {
      "text/plain": [
       "0.15122428991185113"
      ]
     },
     "execution_count": 117,
     "metadata": {},
     "output_type": "execute_result"
    }
   ],
   "source": [
    "result.apply(lambda row: precision_at_k(row['itemitem'], row['actual']), axis=1).mean()"
   ]
  },
  {
   "cell_type": "code",
   "execution_count": 116,
   "metadata": {},
   "outputs": [
    {
     "data": {
      "text/plain": [
       "0.13692458374143"
      ]
     },
     "execution_count": 116,
     "metadata": {},
     "output_type": "execute_result"
    }
   ],
   "source": [
    "result.apply(lambda row: precision_at_k(row['itemitem_5000'], row['actual']), axis=1).mean()"
   ]
  },
  {
   "cell_type": "code",
   "execution_count": 118,
   "metadata": {
    "colab": {
     "base_uri": "https://localhost:8080/"
    },
    "id": "tbm0Jo2S9vaB",
    "outputId": "533ff857-2f1c-4895-ddfd-ddf90e94f608",
    "scrolled": true
   },
   "outputs": [
    {
     "data": {
      "text/plain": [
       "0.1551420176297747"
      ]
     },
     "execution_count": 118,
     "metadata": {},
     "output_type": "execute_result"
    }
   ],
   "source": [
    "result.apply(lambda row: precision_at_k(row['cosine'], row['actual']), axis=1).mean()"
   ]
  },
  {
   "cell_type": "code",
   "execution_count": 119,
   "metadata": {},
   "outputs": [
    {
     "data": {
      "text/plain": [
       "0.1329089128305583"
      ]
     },
     "execution_count": 119,
     "metadata": {},
     "output_type": "execute_result"
    }
   ],
   "source": [
    "result.apply(lambda row: precision_at_k(row['cosine_5000'], row['actual']), axis=1).mean()"
   ]
  },
  {
   "cell_type": "code",
   "execution_count": 124,
   "metadata": {
    "colab": {
     "base_uri": "https://localhost:8080/"
    },
    "id": "9ZOhF4RH9vaB",
    "outputId": "074f3aed-3036-47e7-8771-9a8dc63e9513"
   },
   "outputs": [
    {
     "data": {
      "text/plain": [
       "0.16092066601371205"
      ]
     },
     "execution_count": 124,
     "metadata": {},
     "output_type": "execute_result"
    }
   ],
   "source": [
    "result.apply(lambda row: precision_at_k(row['tfidf'], row['actual']), axis=1).mean()"
   ]
  },
  {
   "cell_type": "code",
   "execution_count": 125,
   "metadata": {},
   "outputs": [
    {
     "data": {
      "text/plain": [
       "0.13898139079333988"
      ]
     },
     "execution_count": 125,
     "metadata": {},
     "output_type": "execute_result"
    }
   ],
   "source": [
    "result.apply(lambda row: precision_at_k(row['tfidf_5000'], row['actual']), axis=1).mean()"
   ]
  },
  {
   "cell_type": "code",
   "execution_count": 121,
   "metadata": {
    "colab": {
     "base_uri": "https://localhost:8080/"
    },
    "id": "oAguFGDfzQYo",
    "outputId": "67ffa80e-cd20-4763-89ce-c58423b2807e",
    "scrolled": true
   },
   "outputs": [
    {
     "name": "stderr",
     "output_type": "stream",
     "text": [
      "<ipython-input-113-3122f09163b9>:11: RuntimeWarning: invalid value encountered in long_scalars\n",
      "  precision = flags.sum() / len(recommended_list)\n"
     ]
    },
    {
     "data": {
      "text/plain": [
       "0.20191740412979353"
      ]
     },
     "execution_count": 121,
     "metadata": {},
     "output_type": "execute_result"
    }
   ],
   "source": [
    "result.apply(lambda row: precision_at_k(row['own_purchases'], row['actual']), axis=1).mean()"
   ]
  },
  {
   "cell_type": "code",
   "execution_count": 120,
   "metadata": {
    "id": "YY4AE20SLrQ6"
   },
   "outputs": [
    {
     "data": {
      "text/plain": [
       "0.17998694090760692"
      ]
     },
     "execution_count": 120,
     "metadata": {},
     "output_type": "execute_result"
    }
   ],
   "source": [
    "result.apply(lambda row: precision_at_k(row['own_purchases_5000'], row['actual']), axis=1).mean()"
   ]
  },
  {
   "cell_type": "markdown",
   "metadata": {},
   "source": [
    "#### Вывод"
   ]
  },
  {
   "cell_type": "markdown",
   "metadata": {},
   "source": [
    "В данном конкретном случае обучение по 5000 товаров стабильно приводит к более низкой величине метрики."
   ]
  },
  {
   "cell_type": "code",
   "execution_count": null,
   "metadata": {},
   "outputs": [],
   "source": []
  }
 ],
 "metadata": {
  "colab": {
   "collapsed_sections": [
    "aLDGc1Nn9vZ0"
   ],
   "name": "Recommend systems HW02",
   "provenance": []
  },
  "kernelspec": {
   "display_name": "Python 3",
   "language": "python",
   "name": "python3"
  },
  "language_info": {
   "codemirror_mode": {
    "name": "ipython",
    "version": 3
   },
   "file_extension": ".py",
   "mimetype": "text/x-python",
   "name": "python",
   "nbconvert_exporter": "python",
   "pygments_lexer": "ipython3",
   "version": "3.9.1"
  },
  "widgets": {
   "application/vnd.jupyter.widget-state+json": {
    "03f19769f45f434f8164a155f1fecd55": {
     "model_module": "@jupyter-widgets/controls",
     "model_module_version": "1.5.0",
     "model_name": "HBoxModel",
     "state": {
      "_dom_classes": [],
      "_model_module": "@jupyter-widgets/controls",
      "_model_module_version": "1.5.0",
      "_model_name": "HBoxModel",
      "_view_count": null,
      "_view_module": "@jupyter-widgets/controls",
      "_view_module_version": "1.5.0",
      "_view_name": "HBoxView",
      "box_style": "",
      "children": [
       "IPY_MODEL_f19f7bf2661e42e493baf13112dfdde7",
       "IPY_MODEL_8bad809a4ead4a7f87fe5c29259d5f20",
       "IPY_MODEL_b389cd837f17437da22c18b7b7b5cfde"
      ],
      "layout": "IPY_MODEL_eeb6d93b70044f4c8893919aee9dfc3f"
     }
    },
    "0993f1cd4f0c4a928b2b8d1a3a160dba": {
     "model_module": "@jupyter-widgets/base",
     "model_module_version": "1.2.0",
     "model_name": "LayoutModel",
     "state": {
      "_model_module": "@jupyter-widgets/base",
      "_model_module_version": "1.2.0",
      "_model_name": "LayoutModel",
      "_view_count": null,
      "_view_module": "@jupyter-widgets/base",
      "_view_module_version": "1.2.0",
      "_view_name": "LayoutView",
      "align_content": null,
      "align_items": null,
      "align_self": null,
      "border": null,
      "bottom": null,
      "display": null,
      "flex": null,
      "flex_flow": null,
      "grid_area": null,
      "grid_auto_columns": null,
      "grid_auto_flow": null,
      "grid_auto_rows": null,
      "grid_column": null,
      "grid_gap": null,
      "grid_row": null,
      "grid_template_areas": null,
      "grid_template_columns": null,
      "grid_template_rows": null,
      "height": null,
      "justify_content": null,
      "justify_items": null,
      "left": null,
      "margin": null,
      "max_height": null,
      "max_width": null,
      "min_height": null,
      "min_width": null,
      "object_fit": null,
      "object_position": null,
      "order": null,
      "overflow": null,
      "overflow_x": null,
      "overflow_y": null,
      "padding": null,
      "right": null,
      "top": null,
      "visibility": null,
      "width": null
     }
    },
    "0cad379d1f644c258f5340a599dd9329": {
     "model_module": "@jupyter-widgets/base",
     "model_module_version": "1.2.0",
     "model_name": "LayoutModel",
     "state": {
      "_model_module": "@jupyter-widgets/base",
      "_model_module_version": "1.2.0",
      "_model_name": "LayoutModel",
      "_view_count": null,
      "_view_module": "@jupyter-widgets/base",
      "_view_module_version": "1.2.0",
      "_view_name": "LayoutView",
      "align_content": null,
      "align_items": null,
      "align_self": null,
      "border": null,
      "bottom": null,
      "display": null,
      "flex": null,
      "flex_flow": null,
      "grid_area": null,
      "grid_auto_columns": null,
      "grid_auto_flow": null,
      "grid_auto_rows": null,
      "grid_column": null,
      "grid_gap": null,
      "grid_row": null,
      "grid_template_areas": null,
      "grid_template_columns": null,
      "grid_template_rows": null,
      "height": null,
      "justify_content": null,
      "justify_items": null,
      "left": null,
      "margin": null,
      "max_height": null,
      "max_width": null,
      "min_height": null,
      "min_width": null,
      "object_fit": null,
      "object_position": null,
      "order": null,
      "overflow": null,
      "overflow_x": null,
      "overflow_y": null,
      "padding": null,
      "right": null,
      "top": null,
      "visibility": null,
      "width": null
     }
    },
    "0f0be173e5ad4caba3f5b3e72e994a57": {
     "model_module": "@jupyter-widgets/base",
     "model_module_version": "1.2.0",
     "model_name": "LayoutModel",
     "state": {
      "_model_module": "@jupyter-widgets/base",
      "_model_module_version": "1.2.0",
      "_model_name": "LayoutModel",
      "_view_count": null,
      "_view_module": "@jupyter-widgets/base",
      "_view_module_version": "1.2.0",
      "_view_name": "LayoutView",
      "align_content": null,
      "align_items": null,
      "align_self": null,
      "border": null,
      "bottom": null,
      "display": null,
      "flex": null,
      "flex_flow": null,
      "grid_area": null,
      "grid_auto_columns": null,
      "grid_auto_flow": null,
      "grid_auto_rows": null,
      "grid_column": null,
      "grid_gap": null,
      "grid_row": null,
      "grid_template_areas": null,
      "grid_template_columns": null,
      "grid_template_rows": null,
      "height": null,
      "justify_content": null,
      "justify_items": null,
      "left": null,
      "margin": null,
      "max_height": null,
      "max_width": null,
      "min_height": null,
      "min_width": null,
      "object_fit": null,
      "object_position": null,
      "order": null,
      "overflow": null,
      "overflow_x": null,
      "overflow_y": null,
      "padding": null,
      "right": null,
      "top": null,
      "visibility": null,
      "width": null
     }
    },
    "134c5404c529448f842917125a277e0d": {
     "model_module": "@jupyter-widgets/controls",
     "model_module_version": "1.5.0",
     "model_name": "FloatProgressModel",
     "state": {
      "_dom_classes": [],
      "_model_module": "@jupyter-widgets/controls",
      "_model_module_version": "1.5.0",
      "_model_name": "FloatProgressModel",
      "_view_count": null,
      "_view_module": "@jupyter-widgets/controls",
      "_view_module_version": "1.5.0",
      "_view_name": "ProgressView",
      "bar_style": "success",
      "description": "",
      "description_tooltip": null,
      "layout": "IPY_MODEL_abf7361c73a44563bd2e30141668af2e",
      "max": 5001,
      "min": 0,
      "orientation": "horizontal",
      "style": "IPY_MODEL_7831a21d238a4a1da14d102580ebdf78",
      "value": 5001
     }
    },
    "14de56ceb5484a5ea2a60e6801f547cc": {
     "model_module": "@jupyter-widgets/controls",
     "model_module_version": "1.5.0",
     "model_name": "ProgressStyleModel",
     "state": {
      "_model_module": "@jupyter-widgets/controls",
      "_model_module_version": "1.5.0",
      "_model_name": "ProgressStyleModel",
      "_view_count": null,
      "_view_module": "@jupyter-widgets/base",
      "_view_module_version": "1.2.0",
      "_view_name": "StyleView",
      "bar_color": null,
      "description_width": ""
     }
    },
    "18b1c5dd9b9c457a813fc62b94014298": {
     "model_module": "@jupyter-widgets/base",
     "model_module_version": "1.2.0",
     "model_name": "LayoutModel",
     "state": {
      "_model_module": "@jupyter-widgets/base",
      "_model_module_version": "1.2.0",
      "_model_name": "LayoutModel",
      "_view_count": null,
      "_view_module": "@jupyter-widgets/base",
      "_view_module_version": "1.2.0",
      "_view_name": "LayoutView",
      "align_content": null,
      "align_items": null,
      "align_self": null,
      "border": null,
      "bottom": null,
      "display": null,
      "flex": null,
      "flex_flow": null,
      "grid_area": null,
      "grid_auto_columns": null,
      "grid_auto_flow": null,
      "grid_auto_rows": null,
      "grid_column": null,
      "grid_gap": null,
      "grid_row": null,
      "grid_template_areas": null,
      "grid_template_columns": null,
      "grid_template_rows": null,
      "height": null,
      "justify_content": null,
      "justify_items": null,
      "left": null,
      "margin": null,
      "max_height": null,
      "max_width": null,
      "min_height": null,
      "min_width": null,
      "object_fit": null,
      "object_position": null,
      "order": null,
      "overflow": null,
      "overflow_x": null,
      "overflow_y": null,
      "padding": null,
      "right": null,
      "top": null,
      "visibility": null,
      "width": null
     }
    },
    "294d039f558846a7a1fccb2b940ad4aa": {
     "model_module": "@jupyter-widgets/base",
     "model_module_version": "1.2.0",
     "model_name": "LayoutModel",
     "state": {
      "_model_module": "@jupyter-widgets/base",
      "_model_module_version": "1.2.0",
      "_model_name": "LayoutModel",
      "_view_count": null,
      "_view_module": "@jupyter-widgets/base",
      "_view_module_version": "1.2.0",
      "_view_name": "LayoutView",
      "align_content": null,
      "align_items": null,
      "align_self": null,
      "border": null,
      "bottom": null,
      "display": null,
      "flex": null,
      "flex_flow": null,
      "grid_area": null,
      "grid_auto_columns": null,
      "grid_auto_flow": null,
      "grid_auto_rows": null,
      "grid_column": null,
      "grid_gap": null,
      "grid_row": null,
      "grid_template_areas": null,
      "grid_template_columns": null,
      "grid_template_rows": null,
      "height": null,
      "justify_content": null,
      "justify_items": null,
      "left": null,
      "margin": null,
      "max_height": null,
      "max_width": null,
      "min_height": null,
      "min_width": null,
      "object_fit": null,
      "object_position": null,
      "order": null,
      "overflow": null,
      "overflow_x": null,
      "overflow_y": null,
      "padding": null,
      "right": null,
      "top": null,
      "visibility": null,
      "width": null
     }
    },
    "2e91756692654f85b0debf6cfb08c2f3": {
     "model_module": "@jupyter-widgets/base",
     "model_module_version": "1.2.0",
     "model_name": "LayoutModel",
     "state": {
      "_model_module": "@jupyter-widgets/base",
      "_model_module_version": "1.2.0",
      "_model_name": "LayoutModel",
      "_view_count": null,
      "_view_module": "@jupyter-widgets/base",
      "_view_module_version": "1.2.0",
      "_view_name": "LayoutView",
      "align_content": null,
      "align_items": null,
      "align_self": null,
      "border": null,
      "bottom": null,
      "display": null,
      "flex": null,
      "flex_flow": null,
      "grid_area": null,
      "grid_auto_columns": null,
      "grid_auto_flow": null,
      "grid_auto_rows": null,
      "grid_column": null,
      "grid_gap": null,
      "grid_row": null,
      "grid_template_areas": null,
      "grid_template_columns": null,
      "grid_template_rows": null,
      "height": null,
      "justify_content": null,
      "justify_items": null,
      "left": null,
      "margin": null,
      "max_height": null,
      "max_width": null,
      "min_height": null,
      "min_width": null,
      "object_fit": null,
      "object_position": null,
      "order": null,
      "overflow": null,
      "overflow_x": null,
      "overflow_y": null,
      "padding": null,
      "right": null,
      "top": null,
      "visibility": null,
      "width": null
     }
    },
    "39c1b8c5d7214f4ea8aebbc4e84a3e8b": {
     "model_module": "@jupyter-widgets/base",
     "model_module_version": "1.2.0",
     "model_name": "LayoutModel",
     "state": {
      "_model_module": "@jupyter-widgets/base",
      "_model_module_version": "1.2.0",
      "_model_name": "LayoutModel",
      "_view_count": null,
      "_view_module": "@jupyter-widgets/base",
      "_view_module_version": "1.2.0",
      "_view_name": "LayoutView",
      "align_content": null,
      "align_items": null,
      "align_self": null,
      "border": null,
      "bottom": null,
      "display": null,
      "flex": null,
      "flex_flow": null,
      "grid_area": null,
      "grid_auto_columns": null,
      "grid_auto_flow": null,
      "grid_auto_rows": null,
      "grid_column": null,
      "grid_gap": null,
      "grid_row": null,
      "grid_template_areas": null,
      "grid_template_columns": null,
      "grid_template_rows": null,
      "height": null,
      "justify_content": null,
      "justify_items": null,
      "left": null,
      "margin": null,
      "max_height": null,
      "max_width": null,
      "min_height": null,
      "min_width": null,
      "object_fit": null,
      "object_position": null,
      "order": null,
      "overflow": null,
      "overflow_x": null,
      "overflow_y": null,
      "padding": null,
      "right": null,
      "top": null,
      "visibility": null,
      "width": null
     }
    },
    "4fe62e1e21fd4d64b32050632eeb0d59": {
     "model_module": "@jupyter-widgets/controls",
     "model_module_version": "1.5.0",
     "model_name": "DescriptionStyleModel",
     "state": {
      "_model_module": "@jupyter-widgets/controls",
      "_model_module_version": "1.5.0",
      "_model_name": "DescriptionStyleModel",
      "_view_count": null,
      "_view_module": "@jupyter-widgets/base",
      "_view_module_version": "1.2.0",
      "_view_name": "StyleView",
      "description_width": ""
     }
    },
    "5407098d4c374521b004ca4102d75b66": {
     "model_module": "@jupyter-widgets/controls",
     "model_module_version": "1.5.0",
     "model_name": "HBoxModel",
     "state": {
      "_dom_classes": [],
      "_model_module": "@jupyter-widgets/controls",
      "_model_module_version": "1.5.0",
      "_model_name": "HBoxModel",
      "_view_count": null,
      "_view_module": "@jupyter-widgets/controls",
      "_view_module_version": "1.5.0",
      "_view_name": "HBoxView",
      "box_style": "",
      "children": [
       "IPY_MODEL_843fa3533d444b2c837bf1868a1b9725",
       "IPY_MODEL_594242898371447090d5374bbe1cfeea",
       "IPY_MODEL_f9e7bbfb196a42e9b97626a339cea9e3"
      ],
      "layout": "IPY_MODEL_558a140c59c449d0abecdb4a5867b11c"
     }
    },
    "558a140c59c449d0abecdb4a5867b11c": {
     "model_module": "@jupyter-widgets/base",
     "model_module_version": "1.2.0",
     "model_name": "LayoutModel",
     "state": {
      "_model_module": "@jupyter-widgets/base",
      "_model_module_version": "1.2.0",
      "_model_name": "LayoutModel",
      "_view_count": null,
      "_view_module": "@jupyter-widgets/base",
      "_view_module_version": "1.2.0",
      "_view_name": "LayoutView",
      "align_content": null,
      "align_items": null,
      "align_self": null,
      "border": null,
      "bottom": null,
      "display": null,
      "flex": null,
      "flex_flow": null,
      "grid_area": null,
      "grid_auto_columns": null,
      "grid_auto_flow": null,
      "grid_auto_rows": null,
      "grid_column": null,
      "grid_gap": null,
      "grid_row": null,
      "grid_template_areas": null,
      "grid_template_columns": null,
      "grid_template_rows": null,
      "height": null,
      "justify_content": null,
      "justify_items": null,
      "left": null,
      "margin": null,
      "max_height": null,
      "max_width": null,
      "min_height": null,
      "min_width": null,
      "object_fit": null,
      "object_position": null,
      "order": null,
      "overflow": null,
      "overflow_x": null,
      "overflow_y": null,
      "padding": null,
      "right": null,
      "top": null,
      "visibility": null,
      "width": null
     }
    },
    "594242898371447090d5374bbe1cfeea": {
     "model_module": "@jupyter-widgets/controls",
     "model_module_version": "1.5.0",
     "model_name": "FloatProgressModel",
     "state": {
      "_dom_classes": [],
      "_model_module": "@jupyter-widgets/controls",
      "_model_module_version": "1.5.0",
      "_model_name": "FloatProgressModel",
      "_view_count": null,
      "_view_module": "@jupyter-widgets/controls",
      "_view_module_version": "1.5.0",
      "_view_name": "ProgressView",
      "bar_style": "success",
      "description": "",
      "description_tooltip": null,
      "layout": "IPY_MODEL_9a4183ed53364b81a8c7de94bba0c3f2",
      "max": 5001,
      "min": 0,
      "orientation": "horizontal",
      "style": "IPY_MODEL_84a1798b354141ca8ad9c6f08733a686",
      "value": 5001
     }
    },
    "59b2bc20c9524bd89b28c31ceb8b758f": {
     "model_module": "@jupyter-widgets/controls",
     "model_module_version": "1.5.0",
     "model_name": "HTMLModel",
     "state": {
      "_dom_classes": [],
      "_model_module": "@jupyter-widgets/controls",
      "_model_module_version": "1.5.0",
      "_model_name": "HTMLModel",
      "_view_count": null,
      "_view_module": "@jupyter-widgets/controls",
      "_view_module_version": "1.5.0",
      "_view_name": "HTMLView",
      "description": "",
      "description_tooltip": null,
      "layout": "IPY_MODEL_a0ce05fbf2c14afaace3df10cb13be89",
      "placeholder": "​",
      "style": "IPY_MODEL_66749085f4144dad9b4b1b87d396ca88",
      "value": " 5001/5001 [00:01&lt;00:00, 2887.74it/s]"
     }
    },
    "5ed3fc64abf345a59b8348da0de36fbc": {
     "model_module": "@jupyter-widgets/controls",
     "model_module_version": "1.5.0",
     "model_name": "DescriptionStyleModel",
     "state": {
      "_model_module": "@jupyter-widgets/controls",
      "_model_module_version": "1.5.0",
      "_model_name": "DescriptionStyleModel",
      "_view_count": null,
      "_view_module": "@jupyter-widgets/base",
      "_view_module_version": "1.2.0",
      "_view_name": "StyleView",
      "description_width": ""
     }
    },
    "64f50a70a9594ce889cc645643063dd3": {
     "model_module": "@jupyter-widgets/controls",
     "model_module_version": "1.5.0",
     "model_name": "HTMLModel",
     "state": {
      "_dom_classes": [],
      "_model_module": "@jupyter-widgets/controls",
      "_model_module_version": "1.5.0",
      "_model_name": "HTMLModel",
      "_view_count": null,
      "_view_module": "@jupyter-widgets/controls",
      "_view_module_version": "1.5.0",
      "_view_name": "HTMLView",
      "description": "",
      "description_tooltip": null,
      "layout": "IPY_MODEL_0993f1cd4f0c4a928b2b8d1a3a160dba",
      "placeholder": "​",
      "style": "IPY_MODEL_4fe62e1e21fd4d64b32050632eeb0d59",
      "value": " 5001/5001 [00:01&lt;00:00, 3589.33it/s]"
     }
    },
    "66749085f4144dad9b4b1b87d396ca88": {
     "model_module": "@jupyter-widgets/controls",
     "model_module_version": "1.5.0",
     "model_name": "DescriptionStyleModel",
     "state": {
      "_model_module": "@jupyter-widgets/controls",
      "_model_module_version": "1.5.0",
      "_model_name": "DescriptionStyleModel",
      "_view_count": null,
      "_view_module": "@jupyter-widgets/base",
      "_view_module_version": "1.2.0",
      "_view_name": "StyleView",
      "description_width": ""
     }
    },
    "691f307e9a0e42d1b41942c11d91d9a4": {
     "model_module": "@jupyter-widgets/controls",
     "model_module_version": "1.5.0",
     "model_name": "DescriptionStyleModel",
     "state": {
      "_model_module": "@jupyter-widgets/controls",
      "_model_module_version": "1.5.0",
      "_model_name": "DescriptionStyleModel",
      "_view_count": null,
      "_view_module": "@jupyter-widgets/base",
      "_view_module_version": "1.2.0",
      "_view_name": "StyleView",
      "description_width": ""
     }
    },
    "6e6aed7b3b624b9bb31d365245dd2184": {
     "model_module": "@jupyter-widgets/base",
     "model_module_version": "1.2.0",
     "model_name": "LayoutModel",
     "state": {
      "_model_module": "@jupyter-widgets/base",
      "_model_module_version": "1.2.0",
      "_model_name": "LayoutModel",
      "_view_count": null,
      "_view_module": "@jupyter-widgets/base",
      "_view_module_version": "1.2.0",
      "_view_name": "LayoutView",
      "align_content": null,
      "align_items": null,
      "align_self": null,
      "border": null,
      "bottom": null,
      "display": null,
      "flex": null,
      "flex_flow": null,
      "grid_area": null,
      "grid_auto_columns": null,
      "grid_auto_flow": null,
      "grid_auto_rows": null,
      "grid_column": null,
      "grid_gap": null,
      "grid_row": null,
      "grid_template_areas": null,
      "grid_template_columns": null,
      "grid_template_rows": null,
      "height": null,
      "justify_content": null,
      "justify_items": null,
      "left": null,
      "margin": null,
      "max_height": null,
      "max_width": null,
      "min_height": null,
      "min_width": null,
      "object_fit": null,
      "object_position": null,
      "order": null,
      "overflow": null,
      "overflow_x": null,
      "overflow_y": null,
      "padding": null,
      "right": null,
      "top": null,
      "visibility": null,
      "width": null
     }
    },
    "7831a21d238a4a1da14d102580ebdf78": {
     "model_module": "@jupyter-widgets/controls",
     "model_module_version": "1.5.0",
     "model_name": "ProgressStyleModel",
     "state": {
      "_model_module": "@jupyter-widgets/controls",
      "_model_module_version": "1.5.0",
      "_model_name": "ProgressStyleModel",
      "_view_count": null,
      "_view_module": "@jupyter-widgets/base",
      "_view_module_version": "1.2.0",
      "_view_name": "StyleView",
      "bar_color": null,
      "description_width": ""
     }
    },
    "8040d429311d49b99ba387f22916de18": {
     "model_module": "@jupyter-widgets/base",
     "model_module_version": "1.2.0",
     "model_name": "LayoutModel",
     "state": {
      "_model_module": "@jupyter-widgets/base",
      "_model_module_version": "1.2.0",
      "_model_name": "LayoutModel",
      "_view_count": null,
      "_view_module": "@jupyter-widgets/base",
      "_view_module_version": "1.2.0",
      "_view_name": "LayoutView",
      "align_content": null,
      "align_items": null,
      "align_self": null,
      "border": null,
      "bottom": null,
      "display": null,
      "flex": null,
      "flex_flow": null,
      "grid_area": null,
      "grid_auto_columns": null,
      "grid_auto_flow": null,
      "grid_auto_rows": null,
      "grid_column": null,
      "grid_gap": null,
      "grid_row": null,
      "grid_template_areas": null,
      "grid_template_columns": null,
      "grid_template_rows": null,
      "height": null,
      "justify_content": null,
      "justify_items": null,
      "left": null,
      "margin": null,
      "max_height": null,
      "max_width": null,
      "min_height": null,
      "min_width": null,
      "object_fit": null,
      "object_position": null,
      "order": null,
      "overflow": null,
      "overflow_x": null,
      "overflow_y": null,
      "padding": null,
      "right": null,
      "top": null,
      "visibility": null,
      "width": null
     }
    },
    "843fa3533d444b2c837bf1868a1b9725": {
     "model_module": "@jupyter-widgets/controls",
     "model_module_version": "1.5.0",
     "model_name": "HTMLModel",
     "state": {
      "_dom_classes": [],
      "_model_module": "@jupyter-widgets/controls",
      "_model_module_version": "1.5.0",
      "_model_name": "HTMLModel",
      "_view_count": null,
      "_view_module": "@jupyter-widgets/controls",
      "_view_module_version": "1.5.0",
      "_view_name": "HTMLView",
      "description": "",
      "description_tooltip": null,
      "layout": "IPY_MODEL_8040d429311d49b99ba387f22916de18",
      "placeholder": "​",
      "style": "IPY_MODEL_ce1ada80ecb6427a857c8f0a1076c029",
      "value": "100%"
     }
    },
    "84a1798b354141ca8ad9c6f08733a686": {
     "model_module": "@jupyter-widgets/controls",
     "model_module_version": "1.5.0",
     "model_name": "ProgressStyleModel",
     "state": {
      "_model_module": "@jupyter-widgets/controls",
      "_model_module_version": "1.5.0",
      "_model_name": "ProgressStyleModel",
      "_view_count": null,
      "_view_module": "@jupyter-widgets/base",
      "_view_module_version": "1.2.0",
      "_view_name": "StyleView",
      "bar_color": null,
      "description_width": ""
     }
    },
    "8bad809a4ead4a7f87fe5c29259d5f20": {
     "model_module": "@jupyter-widgets/controls",
     "model_module_version": "1.5.0",
     "model_name": "FloatProgressModel",
     "state": {
      "_dom_classes": [],
      "_model_module": "@jupyter-widgets/controls",
      "_model_module_version": "1.5.0",
      "_model_name": "FloatProgressModel",
      "_view_count": null,
      "_view_module": "@jupyter-widgets/controls",
      "_view_module_version": "1.5.0",
      "_view_name": "ProgressView",
      "bar_style": "success",
      "description": "",
      "description_tooltip": null,
      "layout": "IPY_MODEL_6e6aed7b3b624b9bb31d365245dd2184",
      "max": 2499,
      "min": 0,
      "orientation": "horizontal",
      "style": "IPY_MODEL_14de56ceb5484a5ea2a60e6801f547cc",
      "value": 2499
     }
    },
    "9a4183ed53364b81a8c7de94bba0c3f2": {
     "model_module": "@jupyter-widgets/base",
     "model_module_version": "1.2.0",
     "model_name": "LayoutModel",
     "state": {
      "_model_module": "@jupyter-widgets/base",
      "_model_module_version": "1.2.0",
      "_model_name": "LayoutModel",
      "_view_count": null,
      "_view_module": "@jupyter-widgets/base",
      "_view_module_version": "1.2.0",
      "_view_name": "LayoutView",
      "align_content": null,
      "align_items": null,
      "align_self": null,
      "border": null,
      "bottom": null,
      "display": null,
      "flex": null,
      "flex_flow": null,
      "grid_area": null,
      "grid_auto_columns": null,
      "grid_auto_flow": null,
      "grid_auto_rows": null,
      "grid_column": null,
      "grid_gap": null,
      "grid_row": null,
      "grid_template_areas": null,
      "grid_template_columns": null,
      "grid_template_rows": null,
      "height": null,
      "justify_content": null,
      "justify_items": null,
      "left": null,
      "margin": null,
      "max_height": null,
      "max_width": null,
      "min_height": null,
      "min_width": null,
      "object_fit": null,
      "object_position": null,
      "order": null,
      "overflow": null,
      "overflow_x": null,
      "overflow_y": null,
      "padding": null,
      "right": null,
      "top": null,
      "visibility": null,
      "width": null
     }
    },
    "a0ce05fbf2c14afaace3df10cb13be89": {
     "model_module": "@jupyter-widgets/base",
     "model_module_version": "1.2.0",
     "model_name": "LayoutModel",
     "state": {
      "_model_module": "@jupyter-widgets/base",
      "_model_module_version": "1.2.0",
      "_model_name": "LayoutModel",
      "_view_count": null,
      "_view_module": "@jupyter-widgets/base",
      "_view_module_version": "1.2.0",
      "_view_name": "LayoutView",
      "align_content": null,
      "align_items": null,
      "align_self": null,
      "border": null,
      "bottom": null,
      "display": null,
      "flex": null,
      "flex_flow": null,
      "grid_area": null,
      "grid_auto_columns": null,
      "grid_auto_flow": null,
      "grid_auto_rows": null,
      "grid_column": null,
      "grid_gap": null,
      "grid_row": null,
      "grid_template_areas": null,
      "grid_template_columns": null,
      "grid_template_rows": null,
      "height": null,
      "justify_content": null,
      "justify_items": null,
      "left": null,
      "margin": null,
      "max_height": null,
      "max_width": null,
      "min_height": null,
      "min_width": null,
      "object_fit": null,
      "object_position": null,
      "order": null,
      "overflow": null,
      "overflow_x": null,
      "overflow_y": null,
      "padding": null,
      "right": null,
      "top": null,
      "visibility": null,
      "width": null
     }
    },
    "abf7361c73a44563bd2e30141668af2e": {
     "model_module": "@jupyter-widgets/base",
     "model_module_version": "1.2.0",
     "model_name": "LayoutModel",
     "state": {
      "_model_module": "@jupyter-widgets/base",
      "_model_module_version": "1.2.0",
      "_model_name": "LayoutModel",
      "_view_count": null,
      "_view_module": "@jupyter-widgets/base",
      "_view_module_version": "1.2.0",
      "_view_name": "LayoutView",
      "align_content": null,
      "align_items": null,
      "align_self": null,
      "border": null,
      "bottom": null,
      "display": null,
      "flex": null,
      "flex_flow": null,
      "grid_area": null,
      "grid_auto_columns": null,
      "grid_auto_flow": null,
      "grid_auto_rows": null,
      "grid_column": null,
      "grid_gap": null,
      "grid_row": null,
      "grid_template_areas": null,
      "grid_template_columns": null,
      "grid_template_rows": null,
      "height": null,
      "justify_content": null,
      "justify_items": null,
      "left": null,
      "margin": null,
      "max_height": null,
      "max_width": null,
      "min_height": null,
      "min_width": null,
      "object_fit": null,
      "object_position": null,
      "order": null,
      "overflow": null,
      "overflow_x": null,
      "overflow_y": null,
      "padding": null,
      "right": null,
      "top": null,
      "visibility": null,
      "width": null
     }
    },
    "b11ca4f2601d4f76979d576f5672d6d8": {
     "model_module": "@jupyter-widgets/controls",
     "model_module_version": "1.5.0",
     "model_name": "FloatProgressModel",
     "state": {
      "_dom_classes": [],
      "_model_module": "@jupyter-widgets/controls",
      "_model_module_version": "1.5.0",
      "_model_name": "FloatProgressModel",
      "_view_count": null,
      "_view_module": "@jupyter-widgets/controls",
      "_view_module_version": "1.5.0",
      "_view_name": "ProgressView",
      "bar_style": "success",
      "description": "",
      "description_tooltip": null,
      "layout": "IPY_MODEL_39c1b8c5d7214f4ea8aebbc4e84a3e8b",
      "max": 5001,
      "min": 0,
      "orientation": "horizontal",
      "style": "IPY_MODEL_b9946f999c67477f83a09fe351d7e33b",
      "value": 5001
     }
    },
    "b389cd837f17437da22c18b7b7b5cfde": {
     "model_module": "@jupyter-widgets/controls",
     "model_module_version": "1.5.0",
     "model_name": "HTMLModel",
     "state": {
      "_dom_classes": [],
      "_model_module": "@jupyter-widgets/controls",
      "_model_module_version": "1.5.0",
      "_model_name": "HTMLModel",
      "_view_count": null,
      "_view_module": "@jupyter-widgets/controls",
      "_view_module_version": "1.5.0",
      "_view_name": "HTMLView",
      "description": "",
      "description_tooltip": null,
      "layout": "IPY_MODEL_0cad379d1f644c258f5340a599dd9329",
      "placeholder": "​",
      "style": "IPY_MODEL_691f307e9a0e42d1b41942c11d91d9a4",
      "value": " 2499/2499 [00:00&lt;00:00, 2924.01it/s]"
     }
    },
    "b9946f999c67477f83a09fe351d7e33b": {
     "model_module": "@jupyter-widgets/controls",
     "model_module_version": "1.5.0",
     "model_name": "ProgressStyleModel",
     "state": {
      "_model_module": "@jupyter-widgets/controls",
      "_model_module_version": "1.5.0",
      "_model_name": "ProgressStyleModel",
      "_view_count": null,
      "_view_module": "@jupyter-widgets/base",
      "_view_module_version": "1.2.0",
      "_view_name": "StyleView",
      "bar_color": null,
      "description_width": ""
     }
    },
    "bac0443395d842d89c5cacf38f998c02": {
     "model_module": "@jupyter-widgets/base",
     "model_module_version": "1.2.0",
     "model_name": "LayoutModel",
     "state": {
      "_model_module": "@jupyter-widgets/base",
      "_model_module_version": "1.2.0",
      "_model_name": "LayoutModel",
      "_view_count": null,
      "_view_module": "@jupyter-widgets/base",
      "_view_module_version": "1.2.0",
      "_view_name": "LayoutView",
      "align_content": null,
      "align_items": null,
      "align_self": null,
      "border": null,
      "bottom": null,
      "display": null,
      "flex": null,
      "flex_flow": null,
      "grid_area": null,
      "grid_auto_columns": null,
      "grid_auto_flow": null,
      "grid_auto_rows": null,
      "grid_column": null,
      "grid_gap": null,
      "grid_row": null,
      "grid_template_areas": null,
      "grid_template_columns": null,
      "grid_template_rows": null,
      "height": null,
      "justify_content": null,
      "justify_items": null,
      "left": null,
      "margin": null,
      "max_height": null,
      "max_width": null,
      "min_height": null,
      "min_width": null,
      "object_fit": null,
      "object_position": null,
      "order": null,
      "overflow": null,
      "overflow_x": null,
      "overflow_y": null,
      "padding": null,
      "right": null,
      "top": null,
      "visibility": null,
      "width": null
     }
    },
    "c7f30dce2f4f492ba382726159859b90": {
     "model_module": "@jupyter-widgets/controls",
     "model_module_version": "1.5.0",
     "model_name": "HTMLModel",
     "state": {
      "_dom_classes": [],
      "_model_module": "@jupyter-widgets/controls",
      "_model_module_version": "1.5.0",
      "_model_name": "HTMLModel",
      "_view_count": null,
      "_view_module": "@jupyter-widgets/controls",
      "_view_module_version": "1.5.0",
      "_view_name": "HTMLView",
      "description": "",
      "description_tooltip": null,
      "layout": "IPY_MODEL_bac0443395d842d89c5cacf38f998c02",
      "placeholder": "​",
      "style": "IPY_MODEL_e9e77d4cef364d38a192c58817577d66",
      "value": "100%"
     }
    },
    "ce1ada80ecb6427a857c8f0a1076c029": {
     "model_module": "@jupyter-widgets/controls",
     "model_module_version": "1.5.0",
     "model_name": "DescriptionStyleModel",
     "state": {
      "_model_module": "@jupyter-widgets/controls",
      "_model_module_version": "1.5.0",
      "_model_name": "DescriptionStyleModel",
      "_view_count": null,
      "_view_module": "@jupyter-widgets/base",
      "_view_module_version": "1.2.0",
      "_view_name": "StyleView",
      "description_width": ""
     }
    },
    "cfec0af668844031ae87448b88ad70af": {
     "model_module": "@jupyter-widgets/controls",
     "model_module_version": "1.5.0",
     "model_name": "HBoxModel",
     "state": {
      "_dom_classes": [],
      "_model_module": "@jupyter-widgets/controls",
      "_model_module_version": "1.5.0",
      "_model_name": "HBoxModel",
      "_view_count": null,
      "_view_module": "@jupyter-widgets/controls",
      "_view_module_version": "1.5.0",
      "_view_name": "HBoxView",
      "box_style": "",
      "children": [
       "IPY_MODEL_c7f30dce2f4f492ba382726159859b90",
       "IPY_MODEL_134c5404c529448f842917125a277e0d",
       "IPY_MODEL_64f50a70a9594ce889cc645643063dd3"
      ],
      "layout": "IPY_MODEL_294d039f558846a7a1fccb2b940ad4aa"
     }
    },
    "d53900b28f1a4a2997b8eef5184b7a1d": {
     "model_module": "@jupyter-widgets/controls",
     "model_module_version": "1.5.0",
     "model_name": "HBoxModel",
     "state": {
      "_dom_classes": [],
      "_model_module": "@jupyter-widgets/controls",
      "_model_module_version": "1.5.0",
      "_model_name": "HBoxModel",
      "_view_count": null,
      "_view_module": "@jupyter-widgets/controls",
      "_view_module_version": "1.5.0",
      "_view_name": "HBoxView",
      "box_style": "",
      "children": [
       "IPY_MODEL_f2a07b219cfa49eba992d109e2091445",
       "IPY_MODEL_b11ca4f2601d4f76979d576f5672d6d8",
       "IPY_MODEL_59b2bc20c9524bd89b28c31ceb8b758f"
      ],
      "layout": "IPY_MODEL_18b1c5dd9b9c457a813fc62b94014298"
     }
    },
    "df55c2a2a6f64d89b55fab63b9301949": {
     "model_module": "@jupyter-widgets/controls",
     "model_module_version": "1.5.0",
     "model_name": "DescriptionStyleModel",
     "state": {
      "_model_module": "@jupyter-widgets/controls",
      "_model_module_version": "1.5.0",
      "_model_name": "DescriptionStyleModel",
      "_view_count": null,
      "_view_module": "@jupyter-widgets/base",
      "_view_module_version": "1.2.0",
      "_view_name": "StyleView",
      "description_width": ""
     }
    },
    "e53fdcd3aa5b4660aadd6c97373e9b4c": {
     "model_module": "@jupyter-widgets/base",
     "model_module_version": "1.2.0",
     "model_name": "LayoutModel",
     "state": {
      "_model_module": "@jupyter-widgets/base",
      "_model_module_version": "1.2.0",
      "_model_name": "LayoutModel",
      "_view_count": null,
      "_view_module": "@jupyter-widgets/base",
      "_view_module_version": "1.2.0",
      "_view_name": "LayoutView",
      "align_content": null,
      "align_items": null,
      "align_self": null,
      "border": null,
      "bottom": null,
      "display": null,
      "flex": null,
      "flex_flow": null,
      "grid_area": null,
      "grid_auto_columns": null,
      "grid_auto_flow": null,
      "grid_auto_rows": null,
      "grid_column": null,
      "grid_gap": null,
      "grid_row": null,
      "grid_template_areas": null,
      "grid_template_columns": null,
      "grid_template_rows": null,
      "height": null,
      "justify_content": null,
      "justify_items": null,
      "left": null,
      "margin": null,
      "max_height": null,
      "max_width": null,
      "min_height": null,
      "min_width": null,
      "object_fit": null,
      "object_position": null,
      "order": null,
      "overflow": null,
      "overflow_x": null,
      "overflow_y": null,
      "padding": null,
      "right": null,
      "top": null,
      "visibility": null,
      "width": null
     }
    },
    "e9e77d4cef364d38a192c58817577d66": {
     "model_module": "@jupyter-widgets/controls",
     "model_module_version": "1.5.0",
     "model_name": "DescriptionStyleModel",
     "state": {
      "_model_module": "@jupyter-widgets/controls",
      "_model_module_version": "1.5.0",
      "_model_name": "DescriptionStyleModel",
      "_view_count": null,
      "_view_module": "@jupyter-widgets/base",
      "_view_module_version": "1.2.0",
      "_view_name": "StyleView",
      "description_width": ""
     }
    },
    "eeb6d93b70044f4c8893919aee9dfc3f": {
     "model_module": "@jupyter-widgets/base",
     "model_module_version": "1.2.0",
     "model_name": "LayoutModel",
     "state": {
      "_model_module": "@jupyter-widgets/base",
      "_model_module_version": "1.2.0",
      "_model_name": "LayoutModel",
      "_view_count": null,
      "_view_module": "@jupyter-widgets/base",
      "_view_module_version": "1.2.0",
      "_view_name": "LayoutView",
      "align_content": null,
      "align_items": null,
      "align_self": null,
      "border": null,
      "bottom": null,
      "display": null,
      "flex": null,
      "flex_flow": null,
      "grid_area": null,
      "grid_auto_columns": null,
      "grid_auto_flow": null,
      "grid_auto_rows": null,
      "grid_column": null,
      "grid_gap": null,
      "grid_row": null,
      "grid_template_areas": null,
      "grid_template_columns": null,
      "grid_template_rows": null,
      "height": null,
      "justify_content": null,
      "justify_items": null,
      "left": null,
      "margin": null,
      "max_height": null,
      "max_width": null,
      "min_height": null,
      "min_width": null,
      "object_fit": null,
      "object_position": null,
      "order": null,
      "overflow": null,
      "overflow_x": null,
      "overflow_y": null,
      "padding": null,
      "right": null,
      "top": null,
      "visibility": null,
      "width": null
     }
    },
    "f19f7bf2661e42e493baf13112dfdde7": {
     "model_module": "@jupyter-widgets/controls",
     "model_module_version": "1.5.0",
     "model_name": "HTMLModel",
     "state": {
      "_dom_classes": [],
      "_model_module": "@jupyter-widgets/controls",
      "_model_module_version": "1.5.0",
      "_model_name": "HTMLModel",
      "_view_count": null,
      "_view_module": "@jupyter-widgets/controls",
      "_view_module_version": "1.5.0",
      "_view_name": "HTMLView",
      "description": "",
      "description_tooltip": null,
      "layout": "IPY_MODEL_2e91756692654f85b0debf6cfb08c2f3",
      "placeholder": "​",
      "style": "IPY_MODEL_f35a34210e744e9296c6ca19e4733e12",
      "value": "100%"
     }
    },
    "f2a07b219cfa49eba992d109e2091445": {
     "model_module": "@jupyter-widgets/controls",
     "model_module_version": "1.5.0",
     "model_name": "HTMLModel",
     "state": {
      "_dom_classes": [],
      "_model_module": "@jupyter-widgets/controls",
      "_model_module_version": "1.5.0",
      "_model_name": "HTMLModel",
      "_view_count": null,
      "_view_module": "@jupyter-widgets/controls",
      "_view_module_version": "1.5.0",
      "_view_name": "HTMLView",
      "description": "",
      "description_tooltip": null,
      "layout": "IPY_MODEL_e53fdcd3aa5b4660aadd6c97373e9b4c",
      "placeholder": "​",
      "style": "IPY_MODEL_df55c2a2a6f64d89b55fab63b9301949",
      "value": "100%"
     }
    },
    "f35a34210e744e9296c6ca19e4733e12": {
     "model_module": "@jupyter-widgets/controls",
     "model_module_version": "1.5.0",
     "model_name": "DescriptionStyleModel",
     "state": {
      "_model_module": "@jupyter-widgets/controls",
      "_model_module_version": "1.5.0",
      "_model_name": "DescriptionStyleModel",
      "_view_count": null,
      "_view_module": "@jupyter-widgets/base",
      "_view_module_version": "1.2.0",
      "_view_name": "StyleView",
      "description_width": ""
     }
    },
    "f9e7bbfb196a42e9b97626a339cea9e3": {
     "model_module": "@jupyter-widgets/controls",
     "model_module_version": "1.5.0",
     "model_name": "HTMLModel",
     "state": {
      "_dom_classes": [],
      "_model_module": "@jupyter-widgets/controls",
      "_model_module_version": "1.5.0",
      "_model_name": "HTMLModel",
      "_view_count": null,
      "_view_module": "@jupyter-widgets/controls",
      "_view_module_version": "1.5.0",
      "_view_name": "HTMLView",
      "description": "",
      "description_tooltip": null,
      "layout": "IPY_MODEL_0f0be173e5ad4caba3f5b3e72e994a57",
      "placeholder": "​",
      "style": "IPY_MODEL_5ed3fc64abf345a59b8348da0de36fbc",
      "value": " 5001/5001 [00:01&lt;00:00, 3487.63it/s]"
     }
    }
   }
  }
 },
 "nbformat": 4,
 "nbformat_minor": 1
}
